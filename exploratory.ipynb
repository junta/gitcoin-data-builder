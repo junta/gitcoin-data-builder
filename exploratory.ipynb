{
 "cells": [
  {
   "cell_type": "code",
   "execution_count": 3,
   "metadata": {},
   "outputs": [],
   "source": [
    "\n",
    "import pandas as pd\n",
    "import numpy as np\n",
    "pd.set_option(\"display.max_colwidth\", 400)\n",
    "pd.set_option('display.max_columns', 50)\n",
    "from matplotlib import pyplot as plt\n",
    "import seaborn as sns\n",
    "import plotly.express as px\n",
    "pd.options.display.float_format = '{:.6f}'.format"
   ]
  },
  {
   "cell_type": "code",
   "execution_count": 5,
   "metadata": {},
   "outputs": [
    {
     "data": {
      "text/plain": [
       "index                 431\n",
       "address               431\n",
       "valid_stamps_count    431\n",
       "stamp_providers       431\n",
       "issuance_date         110\n",
       "dtype: int64"
      ]
     },
     "execution_count": 5,
     "metadata": {},
     "output_type": "execute_result"
    },
    {
     "data": {
      "image/png": "[encoded data removed]",
      "text/plain": [
       "<Figure size 640x480 with 1 Axes>"
      ]
     },
     "metadata": {},
     "output_type": "display_data"
    }
   ],
   "source": [
    "passport_address = pd.read_csv('./passport/output.csv')\n",
    "passport_address.head()\n",
    "#passport_address.info()\n",
    "\n",
    "passport_holder =  passport_address[passport_address['valid_stamps_count'] != 0.0]\n",
    "\n",
    "passport_address.describe()\n",
    "\n",
    "passport_holder['valid_stamps_count'].hist(bins=37)\n",
    "\n",
    "passport_holder[passport_holder['valid_stamps_count'] == 1.0].count()"
   ]
  },
  {
   "cell_type": "code",
   "execution_count": 6,
   "metadata": {},
   "outputs": [
    {
     "data": {
      "text/html": [
       "<div>\n",
       "<style scoped>\n",
       "    .dataframe tbody tr th:only-of-type {\n",
       "        vertical-align: middle;\n",
       "    }\n",
       "\n",
       "    .dataframe tbody tr th {\n",
       "        vertical-align: top;\n",
       "    }\n",
       "\n",
       "    .dataframe thead th {\n",
       "        text-align: right;\n",
       "    }\n",
       "</style>\n",
       "<table border=\"1\" class=\"dataframe\">\n",
       "  <thead>\n",
       "    <tr style=\"text-align: right;\">\n",
       "      <th></th>\n",
       "      <th>round</th>\n",
       "      <th>id</th>\n",
       "      <th>source_wallet</th>\n",
       "      <th>destination_wallet</th>\n",
       "      <th>amount_usd</th>\n",
       "      <th>token_symbol</th>\n",
       "      <th>index</th>\n",
       "      <th>valid_stamps_count</th>\n",
       "      <th>stamp_providers</th>\n",
       "      <th>issuance_date</th>\n",
       "    </tr>\n",
       "  </thead>\n",
       "  <tbody>\n",
       "    <tr>\n",
       "      <th>0</th>\n",
       "      <td>fantom</td>\n",
       "      <td>113dRUPwQJ9tTfeqeMRq2Mn8kfYrNyakTPdEhqFkVSe</td>\n",
       "      <td>0x06cd8288dc001024ce0a1cf39caaedc0e2db9c82</td>\n",
       "      <td>0xe126b3e5d052f1f575828f61feba4f4f2603652a</td>\n",
       "      <td>0.210000</td>\n",
       "      <td>FTM</td>\n",
       "      <td>0.000000</td>\n",
       "      <td>0.000000</td>\n",
       "      <td>NaN</td>\n",
       "      <td>NaN</td>\n",
       "    </tr>\n",
       "    <tr>\n",
       "      <th>1</th>\n",
       "      <td>fantom</td>\n",
       "      <td>113dRUPwQJ9tTfeqeMRq2Mn8kfYrNyakTPdEhqFkVSe</td>\n",
       "      <td>0x06cd8288dc001024ce0a1cf39caaedc0e2db9c82</td>\n",
       "      <td>0xe126b3e5d052f1f575828f61feba4f4f2603652a</td>\n",
       "      <td>0.210000</td>\n",
       "      <td>FTM</td>\n",
       "      <td>17175.000000</td>\n",
       "      <td>0.000000</td>\n",
       "      <td>NaN</td>\n",
       "      <td>NaN</td>\n",
       "    </tr>\n",
       "    <tr>\n",
       "      <th>2</th>\n",
       "      <td>fantom</td>\n",
       "      <td>11n4hU8NKy7gr5oBqJ1AeEyBKV7L47JGLpbrskoDBcf</td>\n",
       "      <td>0x9be7d88cfd6e4b519cd9720db6de6e6f2c1ca77e</td>\n",
       "      <td>0x7d658841f8ba93299970f6e765c2ce205f1e70dd</td>\n",
       "      <td>1.029000</td>\n",
       "      <td>FTM</td>\n",
       "      <td>1.000000</td>\n",
       "      <td>0.000000</td>\n",
       "      <td>NaN</td>\n",
       "      <td>NaN</td>\n",
       "    </tr>\n",
       "    <tr>\n",
       "      <th>3</th>\n",
       "      <td>fantom</td>\n",
       "      <td>11n4hU8NKy7gr5oBqJ1AeEyBKV7L47JGLpbrskoDBcf</td>\n",
       "      <td>0x9be7d88cfd6e4b519cd9720db6de6e6f2c1ca77e</td>\n",
       "      <td>0x7d658841f8ba93299970f6e765c2ce205f1e70dd</td>\n",
       "      <td>1.029000</td>\n",
       "      <td>FTM</td>\n",
       "      <td>24611.000000</td>\n",
       "      <td>0.000000</td>\n",
       "      <td>NaN</td>\n",
       "      <td>NaN</td>\n",
       "    </tr>\n",
       "    <tr>\n",
       "      <th>4</th>\n",
       "      <td>fantom</td>\n",
       "      <td>121GYrfeHauo1PYZFjgWgdAAJnFL8JGNkSauUM8XysS3</td>\n",
       "      <td>0xf8bde71eb161bd83da88bd3a1003eef9ba0c7485</td>\n",
       "      <td>0x9a8568782896c4d4153b8b4d7e440e84e2c2cfbb</td>\n",
       "      <td>0.210000</td>\n",
       "      <td>FTM</td>\n",
       "      <td>2.000000</td>\n",
       "      <td>19.000000</td>\n",
       "      <td>[\"SnapshotVotesProvider\",\"Lens\",\"Ens\",\"gtcPossessionsGte#10\",\"GnosisSafe\",\"ZkSync\",\"NFT\",\"FirstEthTxnProvider\",\"EthGTEOneTxnProvider\",\"Linkedin\",\"Discord\",\"POAP\",\"Facebook\",\"FacebookProfilePicture\",\"Github\",\"Google\",\"Twitter\",\"TwitterTweetGT10\",\"TwitterFollowerGT100\"]</td>\n",
       "      <td>NaN</td>\n",
       "    </tr>\n",
       "  </tbody>\n",
       "</table>\n",
       "</div>"
      ],
      "text/plain": [
       "    round                                            id  \\\n",
       "0  fantom   113dRUPwQJ9tTfeqeMRq2Mn8kfYrNyakTPdEhqFkVSe   \n",
       "1  fantom   113dRUPwQJ9tTfeqeMRq2Mn8kfYrNyakTPdEhqFkVSe   \n",
       "2  fantom   11n4hU8NKy7gr5oBqJ1AeEyBKV7L47JGLpbrskoDBcf   \n",
       "3  fantom   11n4hU8NKy7gr5oBqJ1AeEyBKV7L47JGLpbrskoDBcf   \n",
       "4  fantom  121GYrfeHauo1PYZFjgWgdAAJnFL8JGNkSauUM8XysS3   \n",
       "\n",
       "                                source_wallet  \\\n",
       "0  0x06cd8288dc001024ce0a1cf39caaedc0e2db9c82   \n",
       "1  0x06cd8288dc001024ce0a1cf39caaedc0e2db9c82   \n",
       "2  0x9be7d88cfd6e4b519cd9720db6de6e6f2c1ca77e   \n",
       "3  0x9be7d88cfd6e4b519cd9720db6de6e6f2c1ca77e   \n",
       "4  0xf8bde71eb161bd83da88bd3a1003eef9ba0c7485   \n",
       "\n",
       "                           destination_wallet  amount_usd token_symbol  \\\n",
       "0  0xe126b3e5d052f1f575828f61feba4f4f2603652a    0.210000          FTM   \n",
       "1  0xe126b3e5d052f1f575828f61feba4f4f2603652a    0.210000          FTM   \n",
       "2  0x7d658841f8ba93299970f6e765c2ce205f1e70dd    1.029000          FTM   \n",
       "3  0x7d658841f8ba93299970f6e765c2ce205f1e70dd    1.029000          FTM   \n",
       "4  0x9a8568782896c4d4153b8b4d7e440e84e2c2cfbb    0.210000          FTM   \n",
       "\n",
       "         index  valid_stamps_count  \\\n",
       "0     0.000000            0.000000   \n",
       "1 17175.000000            0.000000   \n",
       "2     1.000000            0.000000   \n",
       "3 24611.000000            0.000000   \n",
       "4     2.000000           19.000000   \n",
       "\n",
       "                                                                                                                                                                                                                                                                stamp_providers  \\\n",
       "0                                                                                                                                                                                                                                                                           NaN   \n",
       "1                                                                                                                                                                                                                                                                           NaN   \n",
       "2                                                                                                                                                                                                                                                                           NaN   \n",
       "3                                                                                                                                                                                                                                                                           NaN   \n",
       "4  [\"SnapshotVotesProvider\",\"Lens\",\"Ens\",\"gtcPossessionsGte#10\",\"GnosisSafe\",\"ZkSync\",\"NFT\",\"FirstEthTxnProvider\",\"EthGTEOneTxnProvider\",\"Linkedin\",\"Discord\",\"POAP\",\"Facebook\",\"FacebookProfilePicture\",\"Github\",\"Google\",\"Twitter\",\"TwitterTweetGT10\",\"TwitterFollowerGT100\"]   \n",
       "\n",
       "  issuance_date  \n",
       "0           NaN  \n",
       "1           NaN  \n",
       "2           NaN  \n",
       "3           NaN  \n",
       "4           NaN  "
      ]
     },
     "execution_count": 6,
     "metadata": {},
     "output_type": "execute_result"
    }
   ],
   "source": [
    "contributions = pd.read_csv('./analytics_data/combined_contributions.csv')\n",
    "\n",
    "contributions_passport = pd.merge(contributions, passport_address, left_on='source_wallet', right_on='address', how='left').drop(columns='address')\n",
    "contributions_passport.head()"
   ]
  },
  {
   "cell_type": "code",
   "execution_count": 11,
   "metadata": {},
   "outputs": [
    {
     "data": {
      "text/html": [
       "<div>\n",
       "<style scoped>\n",
       "    .dataframe tbody tr th:only-of-type {\n",
       "        vertical-align: middle;\n",
       "    }\n",
       "\n",
       "    .dataframe tbody tr th {\n",
       "        vertical-align: top;\n",
       "    }\n",
       "\n",
       "    .dataframe thead th {\n",
       "        text-align: right;\n",
       "    }\n",
       "</style>\n",
       "<table border=\"1\" class=\"dataframe\">\n",
       "  <thead>\n",
       "    <tr style=\"text-align: right;\">\n",
       "      <th></th>\n",
       "      <th>round</th>\n",
       "      <th>id</th>\n",
       "      <th>source_wallet</th>\n",
       "      <th>destination_wallet</th>\n",
       "      <th>amount_usd</th>\n",
       "      <th>token_symbol</th>\n",
       "      <th>index</th>\n",
       "      <th>valid_stamps_count</th>\n",
       "      <th>stamp_providers</th>\n",
       "      <th>issuance_date</th>\n",
       "    </tr>\n",
       "  </thead>\n",
       "  <tbody>\n",
       "    <tr>\n",
       "      <th>4</th>\n",
       "      <td>fantom</td>\n",
       "      <td>121GYrfeHauo1PYZFjgWgdAAJnFL8JGNkSauUM8XysS3</td>\n",
       "      <td>0xf8bde71eb161bd83da88bd3a1003eef9ba0c7485</td>\n",
       "      <td>0x9a8568782896c4d4153b8b4d7e440e84e2c2cfbb</td>\n",
       "      <td>0.210000</td>\n",
       "      <td>FTM</td>\n",
       "      <td>2.000000</td>\n",
       "      <td>19.000000</td>\n",
       "      <td>[\"SnapshotVotesProvider\",\"Lens\",\"Ens\",\"gtcPossessionsGte#10\",\"GnosisSafe\",\"ZkSync\",\"NFT\",\"FirstEthTxnProvider\",\"EthGTEOneTxnProvider\",\"Linkedin\",\"Discord\",\"POAP\",\"Facebook\",\"FacebookProfilePicture\",\"Github\",\"Google\",\"Twitter\",\"TwitterTweetGT10\",\"TwitterFollowerGT100\"]</td>\n",
       "      <td>NaN</td>\n",
       "    </tr>\n",
       "    <tr>\n",
       "      <th>5</th>\n",
       "      <td>fantom</td>\n",
       "      <td>121GYrfeHauo1PYZFjgWgdAAJnFL8JGNkSauUM8XysS3</td>\n",
       "      <td>0xf8bde71eb161bd83da88bd3a1003eef9ba0c7485</td>\n",
       "      <td>0x9a8568782896c4d4153b8b4d7e440e84e2c2cfbb</td>\n",
       "      <td>0.210000</td>\n",
       "      <td>FTM</td>\n",
       "      <td>23310.000000</td>\n",
       "      <td>19.000000</td>\n",
       "      <td>[\"SnapshotVotesProvider\",\"Lens\",\"Ens\",\"gtcPossessionsGte#10\",\"GnosisSafe\",\"ZkSync\",\"NFT\",\"FirstEthTxnProvider\",\"EthGTEOneTxnProvider\",\"Linkedin\",\"Discord\",\"POAP\",\"Facebook\",\"FacebookProfilePicture\",\"Github\",\"Google\",\"Twitter\",\"TwitterTweetGT10\",\"TwitterFollowerGT100\"]</td>\n",
       "      <td>NaN</td>\n",
       "    </tr>\n",
       "    <tr>\n",
       "      <th>8</th>\n",
       "      <td>fantom</td>\n",
       "      <td>122jc868KSeMmaMezGebsLd9LMhRk1QgMVLj1z2yY3LS</td>\n",
       "      <td>0x13ef1086cdfecc00e0f8f3b2ac2c600f297dc333</td>\n",
       "      <td>0x7ea6b8906a0b33cbdb9582d31364f522395eb0ea</td>\n",
       "      <td>0.597303</td>\n",
       "      <td>FTM</td>\n",
       "      <td>4.000000</td>\n",
       "      <td>9.000000</td>\n",
       "      <td>[\"Google\",\"Github\",\"POAP\",\"Discord\",\"SnapshotVotesProvider\",\"NFT\",\"ZkSync\",\"FirstEthTxnProvider\",\"EthGTEOneTxnProvider\"]</td>\n",
       "      <td>NaN</td>\n",
       "    </tr>\n",
       "    <tr>\n",
       "      <th>9</th>\n",
       "      <td>fantom</td>\n",
       "      <td>122jc868KSeMmaMezGebsLd9LMhRk1QgMVLj1z2yY3LS</td>\n",
       "      <td>0x13ef1086cdfecc00e0f8f3b2ac2c600f297dc333</td>\n",
       "      <td>0x7ea6b8906a0b33cbdb9582d31364f522395eb0ea</td>\n",
       "      <td>0.597303</td>\n",
       "      <td>FTM</td>\n",
       "      <td>16380.000000</td>\n",
       "      <td>9.000000</td>\n",
       "      <td>[\"Google\",\"Github\",\"POAP\",\"Discord\",\"SnapshotVotesProvider\",\"NFT\",\"ZkSync\",\"FirstEthTxnProvider\",\"EthGTEOneTxnProvider\"]</td>\n",
       "      <td>NaN</td>\n",
       "    </tr>\n",
       "    <tr>\n",
       "      <th>20</th>\n",
       "      <td>fantom</td>\n",
       "      <td>124GU8XNwz31eZRedF9c2rk42e4ciL7dsNMyz2YFyAYE</td>\n",
       "      <td>0xc6d4a1faaefb4d2661f3d235995f1b78b46bf9de</td>\n",
       "      <td>0x06917efce692cad37a77a50b9beef6f4cdd36422</td>\n",
       "      <td>1.050000</td>\n",
       "      <td>FTM</td>\n",
       "      <td>10.000000</td>\n",
       "      <td>17.000000</td>\n",
       "      <td>[\"Google\",\"Github\",\"Facebook\",\"FacebookProfilePicture\",\"POAP\",\"Discord\",\"SnapshotVotesProvider\",\"NFT\",\"Lens\",\"Linkedin\",\"Ens\",\"FirstEthTxnProvider\",\"EthGTEOneTxnProvider\",\"gtcPossessionsGte#10\",\"Twitter\",\"TwitterTweetGT10\",\"Brightid\"]</td>\n",
       "      <td>NaN</td>\n",
       "    </tr>\n",
       "    <tr>\n",
       "      <th>...</th>\n",
       "      <td>...</td>\n",
       "      <td>...</td>\n",
       "      <td>...</td>\n",
       "      <td>...</td>\n",
       "      <td>...</td>\n",
       "      <td>...</td>\n",
       "      <td>...</td>\n",
       "      <td>...</td>\n",
       "      <td>...</td>\n",
       "      <td>...</td>\n",
       "    </tr>\n",
       "    <tr>\n",
       "      <th>346908</th>\n",
       "      <td>unicef</td>\n",
       "      <td>ZyeeNyEyf2DtzhHW2zGNRzspKvUfBw5ES47mPq2ygoT</td>\n",
       "      <td>0xa944e92483ddc42e70358760d4a5276be8e82767</td>\n",
       "      <td>0x6078c8eeb7ed8916a8f1e85dc8f6e780c09a89ff</td>\n",
       "      <td>0.120000</td>\n",
       "      <td>ETH</td>\n",
       "      <td>18918.000000</td>\n",
       "      <td>7.000000</td>\n",
       "      <td>[\"Twitter\",\"TwitterTweetGT10\",\"TwitterFollowerGT100\",\"POAP\",\"ZkSync\",\"FirstEthTxnProvider\",\"EthGTEOneTxnProvider\"]</td>\n",
       "      <td>NaN</td>\n",
       "    </tr>\n",
       "    <tr>\n",
       "      <th>346913</th>\n",
       "      <td>unicef</td>\n",
       "      <td>ZzpcqAFmmUdJ98fp9W27ZWBrBw5DLQWffBHjLL8PrtT</td>\n",
       "      <td>0x95f3955648d5dca694880cef87df9f368ef78728</td>\n",
       "      <td>0x6078c8eeb7ed8916a8f1e85dc8f6e780c09a89ff</td>\n",
       "      <td>0.480000</td>\n",
       "      <td>ETH</td>\n",
       "      <td>490.000000</td>\n",
       "      <td>11.000000</td>\n",
       "      <td>[\"Twitter\",\"TwitterTweetGT10\",\"SnapshotVotesProvider\",\"Discord\",\"Github\",\"FirstEthTxnProvider\",\"EthGTEOneTxnProvider\",\"ZkSync\",\"NFT\",\"Google\",\"Ens\"]</td>\n",
       "      <td>NaN</td>\n",
       "    </tr>\n",
       "    <tr>\n",
       "      <th>346914</th>\n",
       "      <td>unicef</td>\n",
       "      <td>ZzpcqAFmmUdJ98fp9W27ZWBrBw5DLQWffBHjLL8PrtT</td>\n",
       "      <td>0x95f3955648d5dca694880cef87df9f368ef78728</td>\n",
       "      <td>0x6078c8eeb7ed8916a8f1e85dc8f6e780c09a89ff</td>\n",
       "      <td>0.480000</td>\n",
       "      <td>ETH</td>\n",
       "      <td>18423.000000</td>\n",
       "      <td>11.000000</td>\n",
       "      <td>[\"Twitter\",\"TwitterTweetGT10\",\"SnapshotVotesProvider\",\"Discord\",\"Github\",\"FirstEthTxnProvider\",\"EthGTEOneTxnProvider\",\"ZkSync\",\"NFT\",\"Google\",\"Ens\"]</td>\n",
       "      <td>NaN</td>\n",
       "    </tr>\n",
       "    <tr>\n",
       "      <th>346915</th>\n",
       "      <td>unicef</td>\n",
       "      <td>zzsBJ27jNaqPQJz6DsaKSPEKzhciTGLiMqgKUTyzK3m</td>\n",
       "      <td>0x757056e3ab3c65c6c8c710f7e6f9a8327cc6bae7</td>\n",
       "      <td>0x2906e0181f371b7a4c4bffe13e31b2a917b368e8</td>\n",
       "      <td>1.000000</td>\n",
       "      <td>DAI</td>\n",
       "      <td>10626.000000</td>\n",
       "      <td>5.000000</td>\n",
       "      <td>[\"NFT\",\"Lens\",\"Linkedin\",\"Github\",\"Google\"]</td>\n",
       "      <td>NaN</td>\n",
       "    </tr>\n",
       "    <tr>\n",
       "      <th>346916</th>\n",
       "      <td>unicef</td>\n",
       "      <td>zzsBJ27jNaqPQJz6DsaKSPEKzhciTGLiMqgKUTyzK3m</td>\n",
       "      <td>0x757056e3ab3c65c6c8c710f7e6f9a8327cc6bae7</td>\n",
       "      <td>0x2906e0181f371b7a4c4bffe13e31b2a917b368e8</td>\n",
       "      <td>1.000000</td>\n",
       "      <td>DAI</td>\n",
       "      <td>20091.000000</td>\n",
       "      <td>5.000000</td>\n",
       "      <td>[\"NFT\",\"Lens\",\"Linkedin\",\"Github\",\"Google\"]</td>\n",
       "      <td>NaN</td>\n",
       "    </tr>\n",
       "  </tbody>\n",
       "</table>\n",
       "<p>102704 rows × 10 columns</p>\n",
       "</div>"
      ],
      "text/plain": [
       "         round                                            id  \\\n",
       "4       fantom  121GYrfeHauo1PYZFjgWgdAAJnFL8JGNkSauUM8XysS3   \n",
       "5       fantom  121GYrfeHauo1PYZFjgWgdAAJnFL8JGNkSauUM8XysS3   \n",
       "8       fantom  122jc868KSeMmaMezGebsLd9LMhRk1QgMVLj1z2yY3LS   \n",
       "9       fantom  122jc868KSeMmaMezGebsLd9LMhRk1QgMVLj1z2yY3LS   \n",
       "20      fantom  124GU8XNwz31eZRedF9c2rk42e4ciL7dsNMyz2YFyAYE   \n",
       "...        ...                                           ...   \n",
       "346908  unicef   ZyeeNyEyf2DtzhHW2zGNRzspKvUfBw5ES47mPq2ygoT   \n",
       "346913  unicef   ZzpcqAFmmUdJ98fp9W27ZWBrBw5DLQWffBHjLL8PrtT   \n",
       "346914  unicef   ZzpcqAFmmUdJ98fp9W27ZWBrBw5DLQWffBHjLL8PrtT   \n",
       "346915  unicef   zzsBJ27jNaqPQJz6DsaKSPEKzhciTGLiMqgKUTyzK3m   \n",
       "346916  unicef   zzsBJ27jNaqPQJz6DsaKSPEKzhciTGLiMqgKUTyzK3m   \n",
       "\n",
       "                                     source_wallet  \\\n",
       "4       0xf8bde71eb161bd83da88bd3a1003eef9ba0c7485   \n",
       "5       0xf8bde71eb161bd83da88bd3a1003eef9ba0c7485   \n",
       "8       0x13ef1086cdfecc00e0f8f3b2ac2c600f297dc333   \n",
       "9       0x13ef1086cdfecc00e0f8f3b2ac2c600f297dc333   \n",
       "20      0xc6d4a1faaefb4d2661f3d235995f1b78b46bf9de   \n",
       "...                                            ...   \n",
       "346908  0xa944e92483ddc42e70358760d4a5276be8e82767   \n",
       "346913  0x95f3955648d5dca694880cef87df9f368ef78728   \n",
       "346914  0x95f3955648d5dca694880cef87df9f368ef78728   \n",
       "346915  0x757056e3ab3c65c6c8c710f7e6f9a8327cc6bae7   \n",
       "346916  0x757056e3ab3c65c6c8c710f7e6f9a8327cc6bae7   \n",
       "\n",
       "                                destination_wallet  amount_usd token_symbol  \\\n",
       "4       0x9a8568782896c4d4153b8b4d7e440e84e2c2cfbb    0.210000          FTM   \n",
       "5       0x9a8568782896c4d4153b8b4d7e440e84e2c2cfbb    0.210000          FTM   \n",
       "8       0x7ea6b8906a0b33cbdb9582d31364f522395eb0ea    0.597303          FTM   \n",
       "9       0x7ea6b8906a0b33cbdb9582d31364f522395eb0ea    0.597303          FTM   \n",
       "20      0x06917efce692cad37a77a50b9beef6f4cdd36422    1.050000          FTM   \n",
       "...                                            ...         ...          ...   \n",
       "346908  0x6078c8eeb7ed8916a8f1e85dc8f6e780c09a89ff    0.120000          ETH   \n",
       "346913  0x6078c8eeb7ed8916a8f1e85dc8f6e780c09a89ff    0.480000          ETH   \n",
       "346914  0x6078c8eeb7ed8916a8f1e85dc8f6e780c09a89ff    0.480000          ETH   \n",
       "346915  0x2906e0181f371b7a4c4bffe13e31b2a917b368e8    1.000000          DAI   \n",
       "346916  0x2906e0181f371b7a4c4bffe13e31b2a917b368e8    1.000000          DAI   \n",
       "\n",
       "              index  valid_stamps_count  \\\n",
       "4          2.000000           19.000000   \n",
       "5      23310.000000           19.000000   \n",
       "8          4.000000            9.000000   \n",
       "9      16380.000000            9.000000   \n",
       "20        10.000000           17.000000   \n",
       "...             ...                 ...   \n",
       "346908 18918.000000            7.000000   \n",
       "346913   490.000000           11.000000   \n",
       "346914 18423.000000           11.000000   \n",
       "346915 10626.000000            5.000000   \n",
       "346916 20091.000000            5.000000   \n",
       "\n",
       "                                                                                                                                                                                                                                                                     stamp_providers  \\\n",
       "4       [\"SnapshotVotesProvider\",\"Lens\",\"Ens\",\"gtcPossessionsGte#10\",\"GnosisSafe\",\"ZkSync\",\"NFT\",\"FirstEthTxnProvider\",\"EthGTEOneTxnProvider\",\"Linkedin\",\"Discord\",\"POAP\",\"Facebook\",\"FacebookProfilePicture\",\"Github\",\"Google\",\"Twitter\",\"TwitterTweetGT10\",\"TwitterFollowerGT100\"]   \n",
       "5       [\"SnapshotVotesProvider\",\"Lens\",\"Ens\",\"gtcPossessionsGte#10\",\"GnosisSafe\",\"ZkSync\",\"NFT\",\"FirstEthTxnProvider\",\"EthGTEOneTxnProvider\",\"Linkedin\",\"Discord\",\"POAP\",\"Facebook\",\"FacebookProfilePicture\",\"Github\",\"Google\",\"Twitter\",\"TwitterTweetGT10\",\"TwitterFollowerGT100\"]   \n",
       "8                                                                                                                                                           [\"Google\",\"Github\",\"POAP\",\"Discord\",\"SnapshotVotesProvider\",\"NFT\",\"ZkSync\",\"FirstEthTxnProvider\",\"EthGTEOneTxnProvider\"]   \n",
       "9                                                                                                                                                           [\"Google\",\"Github\",\"POAP\",\"Discord\",\"SnapshotVotesProvider\",\"NFT\",\"ZkSync\",\"FirstEthTxnProvider\",\"EthGTEOneTxnProvider\"]   \n",
       "20                                        [\"Google\",\"Github\",\"Facebook\",\"FacebookProfilePicture\",\"POAP\",\"Discord\",\"SnapshotVotesProvider\",\"NFT\",\"Lens\",\"Linkedin\",\"Ens\",\"FirstEthTxnProvider\",\"EthGTEOneTxnProvider\",\"gtcPossessionsGte#10\",\"Twitter\",\"TwitterTweetGT10\",\"Brightid\"]   \n",
       "...                                                                                                                                                                                                                                                                              ...   \n",
       "346908                                                                                                                                                            [\"Twitter\",\"TwitterTweetGT10\",\"TwitterFollowerGT100\",\"POAP\",\"ZkSync\",\"FirstEthTxnProvider\",\"EthGTEOneTxnProvider\"]   \n",
       "346913                                                                                                                          [\"Twitter\",\"TwitterTweetGT10\",\"SnapshotVotesProvider\",\"Discord\",\"Github\",\"FirstEthTxnProvider\",\"EthGTEOneTxnProvider\",\"ZkSync\",\"NFT\",\"Google\",\"Ens\"]   \n",
       "346914                                                                                                                          [\"Twitter\",\"TwitterTweetGT10\",\"SnapshotVotesProvider\",\"Discord\",\"Github\",\"FirstEthTxnProvider\",\"EthGTEOneTxnProvider\",\"ZkSync\",\"NFT\",\"Google\",\"Ens\"]   \n",
       "346915                                                                                                                                                                                                                                   [\"NFT\",\"Lens\",\"Linkedin\",\"Github\",\"Google\"]   \n",
       "346916                                                                                                                                                                                                                                   [\"NFT\",\"Lens\",\"Linkedin\",\"Github\",\"Google\"]   \n",
       "\n",
       "       issuance_date  \n",
       "4                NaN  \n",
       "5                NaN  \n",
       "8                NaN  \n",
       "9                NaN  \n",
       "20               NaN  \n",
       "...              ...  \n",
       "346908           NaN  \n",
       "346913           NaN  \n",
       "346914           NaN  \n",
       "346915           NaN  \n",
       "346916           NaN  \n",
       "\n",
       "[102704 rows x 10 columns]"
      ]
     },
     "execution_count": 11,
     "metadata": {},
     "output_type": "execute_result"
    }
   ],
   "source": [
    "holders_contributions = contributions_passport[(contributions_passport['valid_stamps_count'] != 0.0) & (contributions_passport['round'] != 'gr15')]\n",
    "holders_contributions\n",
    "# 102704\n",
    "\n",
    "# non_holders_contributions = contributions_passport[(contributions_passport['valid_stamps_count'] == 0.0) & (contributions_passport['round'] != 'gr15')]\n",
    "# non_holders_contributions \n",
    "#244213"
   ]
  },
  {
   "cell_type": "code",
   "execution_count": 31,
   "metadata": {},
   "outputs": [
    {
     "data": {
      "text/html": [
       "<div>\n",
       "<style scoped>\n",
       "    .dataframe tbody tr th:only-of-type {\n",
       "        vertical-align: middle;\n",
       "    }\n",
       "\n",
       "    .dataframe tbody tr th {\n",
       "        vertical-align: top;\n",
       "    }\n",
       "\n",
       "    .dataframe thead th {\n",
       "        text-align: right;\n",
       "    }\n",
       "</style>\n",
       "<table border=\"1\" class=\"dataframe\">\n",
       "  <thead>\n",
       "    <tr style=\"text-align: right;\">\n",
       "      <th></th>\n",
       "      <th>holders_ratio</th>\n",
       "      <th>amount_per_contributor</th>\n",
       "      <th>contributor_count</th>\n",
       "      <th>destination_wallet</th>\n",
       "      <th>round</th>\n",
       "    </tr>\n",
       "  </thead>\n",
       "  <tbody>\n",
       "    <tr>\n",
       "      <th>0</th>\n",
       "      <td>0.658228</td>\n",
       "      <td>1.606200</td>\n",
       "      <td>158</td>\n",
       "      <td>7974</td>\n",
       "      <td>gr15</td>\n",
       "    </tr>\n",
       "    <tr>\n",
       "      <th>1</th>\n",
       "      <td>0.593023</td>\n",
       "      <td>19.336062</td>\n",
       "      <td>86</td>\n",
       "      <td>7940</td>\n",
       "      <td>gr15</td>\n",
       "    </tr>\n",
       "    <tr>\n",
       "      <th>2</th>\n",
       "      <td>0.746154</td>\n",
       "      <td>1.289650</td>\n",
       "      <td>260</td>\n",
       "      <td>7918</td>\n",
       "      <td>gr15</td>\n",
       "    </tr>\n",
       "    <tr>\n",
       "      <th>3</th>\n",
       "      <td>0.588235</td>\n",
       "      <td>78.617015</td>\n",
       "      <td>17</td>\n",
       "      <td>7894</td>\n",
       "      <td>gr15</td>\n",
       "    </tr>\n",
       "    <tr>\n",
       "      <th>4</th>\n",
       "      <td>0.565217</td>\n",
       "      <td>10.153088</td>\n",
       "      <td>23</td>\n",
       "      <td>7893</td>\n",
       "      <td>gr15</td>\n",
       "    </tr>\n",
       "    <tr>\n",
       "      <th>...</th>\n",
       "      <td>...</td>\n",
       "      <td>...</td>\n",
       "      <td>...</td>\n",
       "      <td>...</td>\n",
       "      <td>...</td>\n",
       "    </tr>\n",
       "    <tr>\n",
       "      <th>715</th>\n",
       "      <td>0.538462</td>\n",
       "      <td>22.440973</td>\n",
       "      <td>39</td>\n",
       "      <td>40</td>\n",
       "      <td>gr15</td>\n",
       "    </tr>\n",
       "    <tr>\n",
       "      <th>716</th>\n",
       "      <td>0.381818</td>\n",
       "      <td>7.221483</td>\n",
       "      <td>55</td>\n",
       "      <td>29</td>\n",
       "      <td>gr15</td>\n",
       "    </tr>\n",
       "    <tr>\n",
       "      <th>717</th>\n",
       "      <td>0.487768</td>\n",
       "      <td>12.302975</td>\n",
       "      <td>654</td>\n",
       "      <td>25</td>\n",
       "      <td>gr15</td>\n",
       "    </tr>\n",
       "    <tr>\n",
       "      <th>718</th>\n",
       "      <td>0.563174</td>\n",
       "      <td>14.326814</td>\n",
       "      <td>1298</td>\n",
       "      <td>24</td>\n",
       "      <td>gr15</td>\n",
       "    </tr>\n",
       "    <tr>\n",
       "      <th>719</th>\n",
       "      <td>0.585774</td>\n",
       "      <td>20.534769</td>\n",
       "      <td>1195</td>\n",
       "      <td>13</td>\n",
       "      <td>gr15</td>\n",
       "    </tr>\n",
       "  </tbody>\n",
       "</table>\n",
       "<p>720 rows × 5 columns</p>\n",
       "</div>"
      ],
      "text/plain": [
       "     holders_ratio  amount_per_contributor  contributor_count  \\\n",
       "0         0.658228                1.606200                158   \n",
       "1         0.593023               19.336062                 86   \n",
       "2         0.746154                1.289650                260   \n",
       "3         0.588235               78.617015                 17   \n",
       "4         0.565217               10.153088                 23   \n",
       "..             ...                     ...                ...   \n",
       "715       0.538462               22.440973                 39   \n",
       "716       0.381818                7.221483                 55   \n",
       "717       0.487768               12.302975                654   \n",
       "718       0.563174               14.326814               1298   \n",
       "719       0.585774               20.534769               1195   \n",
       "\n",
       "     destination_wallet round  \n",
       "0                  7974  gr15  \n",
       "1                  7940  gr15  \n",
       "2                  7918  gr15  \n",
       "3                  7894  gr15  \n",
       "4                  7893  gr15  \n",
       "..                  ...   ...  \n",
       "715                  40  gr15  \n",
       "716                  29  gr15  \n",
       "717                  25  gr15  \n",
       "718                  24  gr15  \n",
       "719                  13  gr15  \n",
       "\n",
       "[720 rows x 5 columns]"
      ]
     },
     "execution_count": 31,
     "metadata": {},
     "output_type": "execute_result"
    }
   ],
   "source": [
    "gr15_grants = pd.read_csv('./analytics_data/grants_stamps_gr15.csv')\n",
    "gr15_grants.describe()\n",
    "gr15_grants.rename(columns={'contributor_count_in_round': 'contributor_count'}, inplace=True)\n",
    "gr15_grants.rename(columns={'grant_id': 'destination_wallet'}, inplace=True)\n",
    "gr15_grants = gr15_grants[['holders_ratio', 'amount_per_contributor', 'contributor_count', 'destination_wallet']]\n",
    "gr15_grants['round'] = 'gr15'\n",
    "gr15_grants\n"
   ]
  },
  {
   "cell_type": "code",
   "execution_count": 14,
   "metadata": {},
   "outputs": [
    {
     "name": "stderr",
     "output_type": "stream",
     "text": [
      "/var/folders/gl/3nbwj5r1183_gfp3xql0hclr0000gn/T/ipykernel_64413/3968143884.py:4: FutureWarning: The default value of numeric_only in DataFrameGroupBy.sum is deprecated. In a future version, numeric_only will default to False. Either specify numeric_only or select only columns which should be valid for the function.\n",
      "  by_grants = contributions_passport.groupby('destination_wallet').sum()[['valid_stamps_count']]\n",
      "/var/folders/gl/3nbwj5r1183_gfp3xql0hclr0000gn/T/ipykernel_64413/3968143884.py:9: FutureWarning: The default value of numeric_only in DataFrameGroupBy.sum is deprecated. In a future version, numeric_only will default to False. Either specify numeric_only or select only columns which should be valid for the function.\n",
      "  by_grants['amount_usd_total'] = contributions_passport.groupby('destination_wallet').sum()['amount_usd']\n"
     ]
    }
   ],
   "source": [
    "unique_grants = contributions_passport[['round', 'destination_wallet']].drop_duplicates()\n",
    "\n",
    "by_grants = contributions_passport.groupby('destination_wallet').sum()[['valid_stamps_count']]\n",
    "# by_grants['round'] = contributions_passport.groupby('destination_wallet')['round']\n",
    "by_grants['tx_count'] = contributions_passport.groupby('destination_wallet').count()['id']\n",
    "by_grants['contributor_count'] = contributions_passport.groupby('destination_wallet').count()['source_wallet']\n",
    "by_grants['stamp_holders_tx'] = contributions_passport[contributions_passport['valid_stamps_count'] != 0.0].groupby('destination_wallet').count()['id']\n",
    "by_grants['amount_usd_total'] = contributions_passport.groupby('destination_wallet').sum()['amount_usd']\n",
    "by_grants['holders_ratio'] = by_grants['stamp_holders_tx'] / by_grants['tx_count']\n",
    "by_grants['amount_per_contributor'] = by_grants['amount_usd_total'] / by_grants['contributor_count']\n",
    "by_grants = pd.merge(by_grants, unique_grants, on='destination_wallet')\n",
    "by_grants = by_grants[by_grants['tx_count'] > 10]\n",
    "\n",
    "\n",
    "\n",
    "# # by_grants.info()\n",
    "\n",
    "# by_grants[by_grants['round'] == 'gr15'].head()\n",
    "# by_grants.sort_values('holders_ratio').head(10)"
   ]
  },
  {
   "cell_type": "code",
   "execution_count": null,
   "metadata": {},
   "outputs": [],
   "source": [
    "by_grants[by_grants['round'] == 'fantom']['holders_ratio'].hist()\n",
    "by_grants[by_grants['round'] == 'unicef']['holders_ratio'].hist()"
   ]
  },
  {
   "cell_type": "code",
   "execution_count": 41,
   "metadata": {},
   "outputs": [
    {
     "name": "stdout",
     "output_type": "stream",
     "text": [
      "<class 'pandas.core.frame.DataFrame'>\n",
      "RangeIndex: 88 entries, 0 to 87\n",
      "Data columns (total 11 columns):\n",
      " #   Column                  Non-Null Count  Dtype  \n",
      "---  ------                  --------------  -----  \n",
      " 0   holders_ratio_category  88 non-null     object \n",
      " 1   level_1                 88 non-null     int64  \n",
      " 2   destination_wallet      88 non-null     object \n",
      " 3   valid_stamps_count      88 non-null     float64\n",
      " 4   tx_count                88 non-null     int64  \n",
      " 5   contributor_count       88 non-null     int64  \n",
      " 6   stamp_holders_tx        88 non-null     float64\n",
      " 7   amount_usd_total        88 non-null     float64\n",
      " 8   holders_ratio           88 non-null     float64\n",
      " 9   amount_per_contributor  88 non-null     float64\n",
      " 10  round                   88 non-null     object \n",
      "dtypes: float64(5), int64(3), object(3)\n",
      "memory usage: 7.7+ KB\n"
     ]
    }
   ],
   "source": [
    "fantom_unicef = by_grants[(by_grants['round'] == 'fantom') | (by_grants['round'] == 'unicef')]\n",
    "fantom_unicef = fantom_unicef[['round', 'holders_ratio', 'amount_per_contributor', 'destination_wallet', 'contributor_count']]\n",
    "combined = pd.concat([fantom_unicef, gr15_grants], ignore_index=True)\n",
    "\n",
    "fantom = by_grants[by_grants['round'] == 'fantom']\n",
    "fantom_sorted = fantom.sort_values('holders_ratio')\n",
    "fantom_low = fantom_sorted.head(29)\n",
    "fantom_low.head()\n",
    "\n",
    "fantom_high = fantom_sorted.tail(29)\n",
    "fantom_high.head()\n",
    "\n",
    "fantom_normal = fantom_sorted.iloc[29:-29]\n",
    "fantom_normal.head()\n",
    "fantom_by_ratio = pd.concat([fantom_normal, fantom_high, fantom_low], keys=['normal', 'high', 'low'])\n",
    "fantom_by_ratio.reset_index(inplace=True)\n",
    "fantom_by_ratio.rename(columns={'level_0': 'holders_ratio_category'}, inplace = True)\n",
    "fantom_by_ratio.info()"
   ]
  },
  {
   "cell_type": "code",
   "execution_count": 53,
   "metadata": {},
   "outputs": [
    {
     "data": {
      "application/vnd.plotly.v1+json": {
       "config": {
        "plotlyServerURL": "https://plot.ly"
       },
       "data": [
        {
         "hovertemplate": "holders_ratio_category=normal<br>contributor_count=%{x}<br>amount_per_contributor=%{y}<extra></extra>",
         "legendgroup": "normal",
         "marker": {
          "color": "#636efa",
          "symbol": "circle"
         },
         "mode": "markers",
         "name": "normal",
         "orientation": "v",
         "showlegend": true,
         "type": "scatter",
         "x": [
          1547,
          1676,
          1433,
          1505,
          1714,
          1602,
          1482,
          1681,
          9056,
          1776,
          1608,
          1784,
          1978,
          1745,
          2006,
          3073,
          1630,
          1609,
          1685,
          1517,
          1873,
          2364,
          2363,
          8252,
          2013,
          2348,
          1628,
          1710,
          1588,
          1996
         ],
         "xaxis": "x",
         "y": [
          0.1777299791624305,
          0.1748208079956384,
          0.14290788497821352,
          0.2929046650999867,
          0.3182603157208168,
          0.19240257151027465,
          0.41299421351773274,
          0.3420549990445271,
          1.1518972665923088,
          0.20798703674289976,
          0.307964408012301,
          0.26937436374102014,
          1.246522828425354,
          0.325784332074894,
          1.4051531384294067,
          0.6876036102702896,
          0.13963728878567483,
          0.6690391895132256,
          0.24703251007103263,
          0.27357719040168094,
          0.3203211858322007,
          1.6133930959553797,
          0.325382315980628,
          1.0693139671556622,
          0.3764925482909538,
          0.796450929411069,
          0.9508255408626227,
          0.26436160926532865,
          0.3856337569424433,
          0.2745346855909218
         ],
         "yaxis": "y"
        },
        {
         "hovertemplate": "holders_ratio_category=high<br>contributor_count=%{x}<br>amount_per_contributor=%{y}<extra></extra>",
         "legendgroup": "high",
         "marker": {
          "color": "#EF553B",
          "symbol": "circle"
         },
         "mode": "markers",
         "name": "high",
         "orientation": "v",
         "showlegend": true,
         "type": "scatter",
         "x": [
          1540,
          8507,
          1989,
          3880,
          1915,
          10511,
          11236,
          2998,
          1911,
          2401,
          5498,
          1976,
          2701,
          1691,
          2939,
          2099,
          2576,
          3311,
          3363,
          2783,
          3672,
          3808,
          2599,
          2065,
          12082,
          2492,
          3758,
          2901,
          2872
         ],
         "xaxis": "x",
         "y": [
          0.4464949406280195,
          0.5639510803050367,
          0.1940154616438974,
          1.276605652732688,
          0.25356830357216187,
          0.9435187872381324,
          0.9080070846016934,
          0.4958141854507438,
          0.5016704654938671,
          0.3028191965506114,
          0.6705428255504609,
          0.21162303169306276,
          0.28671293420596444,
          0.21505731736759312,
          0.32833711043985914,
          1.159777286833921,
          0.4417009343343478,
          0.43529742061224946,
          1.056177995486106,
          0.3573515393580733,
          0.4493792323591356,
          1.2921974646507748,
          0.3384958964571189,
          1.3535926852854836,
          0.9226651226803521,
          0.331357432105703,
          0.613336382044521,
          0.450136392894344,
          0.4712394105064429
         ],
         "yaxis": "y"
        },
        {
         "hovertemplate": "holders_ratio_category=low<br>contributor_count=%{x}<br>amount_per_contributor=%{y}<extra></extra>",
         "legendgroup": "low",
         "marker": {
          "color": "#00cc96",
          "symbol": "circle"
         },
         "mode": "markers",
         "name": "low",
         "orientation": "v",
         "showlegend": true,
         "type": "scatter",
         "x": [
          4124,
          2212,
          4942,
          5574,
          1496,
          1563,
          1396,
          1412,
          1380,
          1448,
          1592,
          1564,
          1467,
          5293,
          1370,
          1559,
          1549,
          1419,
          1503,
          1445,
          1498,
          1516,
          1495,
          1642,
          1711,
          1464,
          1370,
          1529,
          1554
         ],
         "xaxis": "x",
         "y": [
          0.4117580744467677,
          0.7670400987840326,
          0.6866457157182703,
          0.6309708437801902,
          0.13786211188058153,
          0.20362628085486242,
          0.10698878859036533,
          0.27402080922236544,
          0.12475764545143478,
          0.2320449919931975,
          0.1732177337280025,
          0.22372398535727622,
          1.3947812106554056,
          0.9776973526490481,
          0.15157842246151823,
          0.19952756315609366,
          0.2970665359993415,
          0.16112008798976743,
          0.15281315137976048,
          0.11501196036213147,
          0.17972390968810414,
          0.146829227472091,
          0.15437604792719062,
          0.5819283896469427,
          0.16359383822617182,
          0.1731302314051571,
          0.1359875575387956,
          0.3127470032140484,
          0.19163359535133845
         ],
         "yaxis": "y"
        }
       ],
       "layout": {
        "legend": {
         "title": {
          "text": "holders_ratio_category"
         },
         "tracegroupgap": 0
        },
        "template": {
         "data": {
          "bar": [
           {
            "error_x": {
             "color": "#2a3f5f"
            },
            "error_y": {
             "color": "#2a3f5f"
            },
            "marker": {
             "line": {
              "color": "#E5ECF6",
              "width": 0.5
             },
             "pattern": {
              "fillmode": "overlay",
              "size": 10,
              "solidity": 0.2
             }
            },
            "type": "bar"
           }
          ],
          "barpolar": [
           {
            "marker": {
             "line": {
              "color": "#E5ECF6",
              "width": 0.5
             },
             "pattern": {
              "fillmode": "overlay",
              "size": 10,
              "solidity": 0.2
             }
            },
            "type": "barpolar"
           }
          ],
          "carpet": [
           {
            "aaxis": {
             "endlinecolor": "#2a3f5f",
             "gridcolor": "white",
             "linecolor": "white",
             "minorgridcolor": "white",
             "startlinecolor": "#2a3f5f"
            },
            "baxis": {
             "endlinecolor": "#2a3f5f",
             "gridcolor": "white",
             "linecolor": "white",
             "minorgridcolor": "white",
             "startlinecolor": "#2a3f5f"
            },
            "type": "carpet"
           }
          ],
          "choropleth": [
           {
            "colorbar": {
             "outlinewidth": 0,
             "ticks": ""
            },
            "type": "choropleth"
           }
          ],
          "contour": [
           {
            "colorbar": {
             "outlinewidth": 0,
             "ticks": ""
            },
            "colorscale": [
             [
              0,
              "#0d0887"
             ],
             [
              0.1111111111111111,
              "#46039f"
             ],
             [
              0.2222222222222222,
              "#7201a8"
             ],
             [
              0.3333333333333333,
              "#9c179e"
             ],
             [
              0.4444444444444444,
              "#bd3786"
             ],
             [
              0.5555555555555556,
              "#d8576b"
             ],
             [
              0.6666666666666666,
              "#ed7953"
             ],
             [
              0.7777777777777778,
              "#fb9f3a"
             ],
             [
              0.8888888888888888,
              "#fdca26"
             ],
             [
              1,
              "#f0f921"
             ]
            ],
            "type": "contour"
           }
          ],
          "contourcarpet": [
           {
            "colorbar": {
             "outlinewidth": 0,
             "ticks": ""
            },
            "type": "contourcarpet"
           }
          ],
          "heatmap": [
           {
            "colorbar": {
             "outlinewidth": 0,
             "ticks": ""
            },
            "colorscale": [
             [
              0,
              "#0d0887"
             ],
             [
              0.1111111111111111,
              "#46039f"
             ],
             [
              0.2222222222222222,
              "#7201a8"
             ],
             [
              0.3333333333333333,
              "#9c179e"
             ],
             [
              0.4444444444444444,
              "#bd3786"
             ],
             [
              0.5555555555555556,
              "#d8576b"
             ],
             [
              0.6666666666666666,
              "#ed7953"
             ],
             [
              0.7777777777777778,
              "#fb9f3a"
             ],
             [
              0.8888888888888888,
              "#fdca26"
             ],
             [
              1,
              "#f0f921"
             ]
            ],
            "type": "heatmap"
           }
          ],
          "heatmapgl": [
           {
            "colorbar": {
             "outlinewidth": 0,
             "ticks": ""
            },
            "colorscale": [
             [
              0,
              "#0d0887"
             ],
             [
              0.1111111111111111,
              "#46039f"
             ],
             [
              0.2222222222222222,
              "#7201a8"
             ],
             [
              0.3333333333333333,
              "#9c179e"
             ],
             [
              0.4444444444444444,
              "#bd3786"
             ],
             [
              0.5555555555555556,
              "#d8576b"
             ],
             [
              0.6666666666666666,
              "#ed7953"
             ],
             [
              0.7777777777777778,
              "#fb9f3a"
             ],
             [
              0.8888888888888888,
              "#fdca26"
             ],
             [
              1,
              "#f0f921"
             ]
            ],
            "type": "heatmapgl"
           }
          ],
          "histogram": [
           {
            "marker": {
             "pattern": {
              "fillmode": "overlay",
              "size": 10,
              "solidity": 0.2
             }
            },
            "type": "histogram"
           }
          ],
          "histogram2d": [
           {
            "colorbar": {
             "outlinewidth": 0,
             "ticks": ""
            },
            "colorscale": [
             [
              0,
              "#0d0887"
             ],
             [
              0.1111111111111111,
              "#46039f"
             ],
             [
              0.2222222222222222,
              "#7201a8"
             ],
             [
              0.3333333333333333,
              "#9c179e"
             ],
             [
              0.4444444444444444,
              "#bd3786"
             ],
             [
              0.5555555555555556,
              "#d8576b"
             ],
             [
              0.6666666666666666,
              "#ed7953"
             ],
             [
              0.7777777777777778,
              "#fb9f3a"
             ],
             [
              0.8888888888888888,
              "#fdca26"
             ],
             [
              1,
              "#f0f921"
             ]
            ],
            "type": "histogram2d"
           }
          ],
          "histogram2dcontour": [
           {
            "colorbar": {
             "outlinewidth": 0,
             "ticks": ""
            },
            "colorscale": [
             [
              0,
              "#0d0887"
             ],
             [
              0.1111111111111111,
              "#46039f"
             ],
             [
              0.2222222222222222,
              "#7201a8"
             ],
             [
              0.3333333333333333,
              "#9c179e"
             ],
             [
              0.4444444444444444,
              "#bd3786"
             ],
             [
              0.5555555555555556,
              "#d8576b"
             ],
             [
              0.6666666666666666,
              "#ed7953"
             ],
             [
              0.7777777777777778,
              "#fb9f3a"
             ],
             [
              0.8888888888888888,
              "#fdca26"
             ],
             [
              1,
              "#f0f921"
             ]
            ],
            "type": "histogram2dcontour"
           }
          ],
          "mesh3d": [
           {
            "colorbar": {
             "outlinewidth": 0,
             "ticks": ""
            },
            "type": "mesh3d"
           }
          ],
          "parcoords": [
           {
            "line": {
             "colorbar": {
              "outlinewidth": 0,
              "ticks": ""
             }
            },
            "type": "parcoords"
           }
          ],
          "pie": [
           {
            "automargin": true,
            "type": "pie"
           }
          ],
          "scatter": [
           {
            "fillpattern": {
             "fillmode": "overlay",
             "size": 10,
             "solidity": 0.2
            },
            "type": "scatter"
           }
          ],
          "scatter3d": [
           {
            "line": {
             "colorbar": {
              "outlinewidth": 0,
              "ticks": ""
             }
            },
            "marker": {
             "colorbar": {
              "outlinewidth": 0,
              "ticks": ""
             }
            },
            "type": "scatter3d"
           }
          ],
          "scattercarpet": [
           {
            "marker": {
             "colorbar": {
              "outlinewidth": 0,
              "ticks": ""
             }
            },
            "type": "scattercarpet"
           }
          ],
          "scattergeo": [
           {
            "marker": {
             "colorbar": {
              "outlinewidth": 0,
              "ticks": ""
             }
            },
            "type": "scattergeo"
           }
          ],
          "scattergl": [
           {
            "marker": {
             "colorbar": {
              "outlinewidth": 0,
              "ticks": ""
             }
            },
            "type": "scattergl"
           }
          ],
          "scattermapbox": [
           {
            "marker": {
             "colorbar": {
              "outlinewidth": 0,
              "ticks": ""
             }
            },
            "type": "scattermapbox"
           }
          ],
          "scatterpolar": [
           {
            "marker": {
             "colorbar": {
              "outlinewidth": 0,
              "ticks": ""
             }
            },
            "type": "scatterpolar"
           }
          ],
          "scatterpolargl": [
           {
            "marker": {
             "colorbar": {
              "outlinewidth": 0,
              "ticks": ""
             }
            },
            "type": "scatterpolargl"
           }
          ],
          "scatterternary": [
           {
            "marker": {
             "colorbar": {
              "outlinewidth": 0,
              "ticks": ""
             }
            },
            "type": "scatterternary"
           }
          ],
          "surface": [
           {
            "colorbar": {
             "outlinewidth": 0,
             "ticks": ""
            },
            "colorscale": [
             [
              0,
              "#0d0887"
             ],
             [
              0.1111111111111111,
              "#46039f"
             ],
             [
              0.2222222222222222,
              "#7201a8"
             ],
             [
              0.3333333333333333,
              "#9c179e"
             ],
             [
              0.4444444444444444,
              "#bd3786"
             ],
             [
              0.5555555555555556,
              "#d8576b"
             ],
             [
              0.6666666666666666,
              "#ed7953"
             ],
             [
              0.7777777777777778,
              "#fb9f3a"
             ],
             [
              0.8888888888888888,
              "#fdca26"
             ],
             [
              1,
              "#f0f921"
             ]
            ],
            "type": "surface"
           }
          ],
          "table": [
           {
            "cells": {
             "fill": {
              "color": "#EBF0F8"
             },
             "line": {
              "color": "white"
             }
            },
            "header": {
             "fill": {
              "color": "#C8D4E3"
             },
             "line": {
              "color": "white"
             }
            },
            "type": "table"
           }
          ]
         },
         "layout": {
          "annotationdefaults": {
           "arrowcolor": "#2a3f5f",
           "arrowhead": 0,
           "arrowwidth": 1
          },
          "autotypenumbers": "strict",
          "coloraxis": {
           "colorbar": {
            "outlinewidth": 0,
            "ticks": ""
           }
          },
          "colorscale": {
           "diverging": [
            [
             0,
             "#8e0152"
            ],
            [
             0.1,
             "#c51b7d"
            ],
            [
             0.2,
             "#de77ae"
            ],
            [
             0.3,
             "#f1b6da"
            ],
            [
             0.4,
             "#fde0ef"
            ],
            [
             0.5,
             "#f7f7f7"
            ],
            [
             0.6,
             "#e6f5d0"
            ],
            [
             0.7,
             "#b8e186"
            ],
            [
             0.8,
             "#7fbc41"
            ],
            [
             0.9,
             "#4d9221"
            ],
            [
             1,
             "#276419"
            ]
           ],
           "sequential": [
            [
             0,
             "#0d0887"
            ],
            [
             0.1111111111111111,
             "#46039f"
            ],
            [
             0.2222222222222222,
             "#7201a8"
            ],
            [
             0.3333333333333333,
             "#9c179e"
            ],
            [
             0.4444444444444444,
             "#bd3786"
            ],
            [
             0.5555555555555556,
             "#d8576b"
            ],
            [
             0.6666666666666666,
             "#ed7953"
            ],
            [
             0.7777777777777778,
             "#fb9f3a"
            ],
            [
             0.8888888888888888,
             "#fdca26"
            ],
            [
             1,
             "#f0f921"
            ]
           ],
           "sequentialminus": [
            [
             0,
             "#0d0887"
            ],
            [
             0.1111111111111111,
             "#46039f"
            ],
            [
             0.2222222222222222,
             "#7201a8"
            ],
            [
             0.3333333333333333,
             "#9c179e"
            ],
            [
             0.4444444444444444,
             "#bd3786"
            ],
            [
             0.5555555555555556,
             "#d8576b"
            ],
            [
             0.6666666666666666,
             "#ed7953"
            ],
            [
             0.7777777777777778,
             "#fb9f3a"
            ],
            [
             0.8888888888888888,
             "#fdca26"
            ],
            [
             1,
             "#f0f921"
            ]
           ]
          },
          "colorway": [
           "#636efa",
           "#EF553B",
           "#00cc96",
           "#ab63fa",
           "#FFA15A",
           "#19d3f3",
           "#FF6692",
           "#B6E880",
           "#FF97FF",
           "#FECB52"
          ],
          "font": {
           "color": "#2a3f5f"
          },
          "geo": {
           "bgcolor": "white",
           "lakecolor": "white",
           "landcolor": "#E5ECF6",
           "showlakes": true,
           "showland": true,
           "subunitcolor": "white"
          },
          "hoverlabel": {
           "align": "left"
          },
          "hovermode": "closest",
          "mapbox": {
           "style": "light"
          },
          "paper_bgcolor": "white",
          "plot_bgcolor": "#E5ECF6",
          "polar": {
           "angularaxis": {
            "gridcolor": "white",
            "linecolor": "white",
            "ticks": ""
           },
           "bgcolor": "#E5ECF6",
           "radialaxis": {
            "gridcolor": "white",
            "linecolor": "white",
            "ticks": ""
           }
          },
          "scene": {
           "xaxis": {
            "backgroundcolor": "#E5ECF6",
            "gridcolor": "white",
            "gridwidth": 2,
            "linecolor": "white",
            "showbackground": true,
            "ticks": "",
            "zerolinecolor": "white"
           },
           "yaxis": {
            "backgroundcolor": "#E5ECF6",
            "gridcolor": "white",
            "gridwidth": 2,
            "linecolor": "white",
            "showbackground": true,
            "ticks": "",
            "zerolinecolor": "white"
           },
           "zaxis": {
            "backgroundcolor": "#E5ECF6",
            "gridcolor": "white",
            "gridwidth": 2,
            "linecolor": "white",
            "showbackground": true,
            "ticks": "",
            "zerolinecolor": "white"
           }
          },
          "shapedefaults": {
           "line": {
            "color": "#2a3f5f"
           }
          },
          "ternary": {
           "aaxis": {
            "gridcolor": "white",
            "linecolor": "white",
            "ticks": ""
           },
           "baxis": {
            "gridcolor": "white",
            "linecolor": "white",
            "ticks": ""
           },
           "bgcolor": "#E5ECF6",
           "caxis": {
            "gridcolor": "white",
            "linecolor": "white",
            "ticks": ""
           }
          },
          "title": {
           "x": 0.05
          },
          "xaxis": {
           "automargin": true,
           "gridcolor": "white",
           "linecolor": "white",
           "ticks": "",
           "title": {
            "standoff": 15
           },
           "zerolinecolor": "white",
           "zerolinewidth": 2
          },
          "yaxis": {
           "automargin": true,
           "gridcolor": "white",
           "linecolor": "white",
           "ticks": "",
           "title": {
            "standoff": 15
           },
           "zerolinecolor": "white",
           "zerolinewidth": 2
          }
         }
        },
        "title": {
         "text": "Scatter plots of Fantom grants"
        },
        "xaxis": {
         "anchor": "y",
         "domain": [
          0,
          1
         ],
         "title": {
          "text": "contributor_count"
         }
        },
        "yaxis": {
         "anchor": "x",
         "domain": [
          0,
          1
         ],
         "title": {
          "text": "amount_per_contributor"
         }
        }
       }
      }
     },
     "metadata": {},
     "output_type": "display_data"
    }
   ],
   "source": [
    "fig = px.scatter(fantom_by_ratio,\n",
    "    x='contributor_count', y='amount_per_contributor',\n",
    "    color=\"holders_ratio_category\"\n",
    "    ,title='Scatter plots of Fantom grants')\n",
    "\n",
    "fig.show()"
   ]
  },
  {
   "cell_type": "code",
   "execution_count": null,
   "metadata": {},
   "outputs": [],
   "source": [
    "fantom_unicef.corr()\n",
    "gr15 = by_grants[by_grants['round'] == 'gr15']\n",
    "gr15.corr()"
   ]
  },
  {
   "cell_type": "code",
   "execution_count": 52,
   "metadata": {},
   "outputs": [
    {
     "data": {
      "application/vnd.plotly.v1+json": {
       "config": {
        "plotlyServerURL": "https://plot.ly"
       },
       "data": [
        {
         "hovertemplate": "round=fantom<br>holders_ratio=%{x}<br>amount_per_contributor=%{y}<extra></extra>",
         "legendgroup": "fantom",
         "marker": {
          "color": "#636efa",
          "symbol": "circle"
         },
         "mode": "markers",
         "name": "fantom",
         "orientation": "v",
         "showlegend": true,
         "type": "scatter",
         "x": [
          0.273352435530086,
          0.3157894736842105,
          0.2530664945125888,
          0.26865671641791045,
          0.24570200573065903,
          0.25221991309276404,
          0.3062505946151651,
          0.2637231503579952,
          0.25500667556742324,
          0.2867501647989453,
          0.36998394863563405,
          0.3016032064128257,
          0.1665858389912706,
          0.2506281407035176,
          0.3060052219321149,
          0.20298372513562388,
          0.26591314693634743,
          0.3187232015245355,
          0.22662889518413598,
          0.2658569500674764,
          0.25153374233128833,
          0.26308985132514545,
          0.2546712802768166,
          0.318475671997278,
          0.24710144927536232,
          0.2541583499667332,
          0.34059873949579833,
          0.30210414952392145,
          0.2741774675972084,
          0.25255474452554744,
          0.2552770448548813,
          0.24645892351274787,
          0.264669163545568,
          0.37919105907397554,
          0.23645496950125583,
          0.29345088161209065,
          0.2561872909698997,
          0.34359368988072336,
          0.2771908017402113,
          0.28946254760897167,
          0.2899903053805138,
          0.31275303643724695,
          0.25272610647851185,
          0.3486682808716707,
          0.26733657243816256,
          0.29011425732737206,
          0.28830752802989856,
          0.26126126126126126,
          0.27595183859420763,
          0.3819372630127542,
          0.33093783686669065,
          0.29238329238329236,
          0.3038659793814433,
          0.25,
          0.3087388801674516,
          0.3085390260173449,
          0.32259316770186336,
          0.2685810810810811,
          0.36293659990067867,
          0.2536997885835095,
          0.3294677371394588,
          0.3311546840958606,
          0.26429404900816805,
          0.29173764906303234,
          0.30194805194805197,
          0.23997326203208555,
          0.31469825990373934,
          0.2637873754152824,
          0.2929824561403509,
          0.25832846288720046,
          0.2605839416058394,
          0.3273935366958623,
          0.27607361963190186,
          0.26378227494766227,
          0.4014623955431755,
          0.3078497686009256,
          0.25761266747868455,
          0.28486646884273,
          0.24056301983365322,
          0.3031674208144796,
          0.26095487246566385,
          0.2718609865470852,
          0.26024590163934425,
          0.2893401015228426,
          0.3121134958166606,
          0.30903790087463556,
          0.2730030333670374,
          0.25127877237851665
         ],
         "xaxis": "x",
         "y": [
          0.325784332074894,
          0.21505731736759312,
          0.2970665359993415,
          0.307964408012301,
          0.10698878859036533,
          0.9776973526490481,
          0.9435187872381324,
          0.1748208079956384,
          0.17972390968810414,
          0.27357719040168094,
          0.331357432105703,
          0.2745346855909218,
          0.4117580744467677,
          0.1732177337280025,
          0.25356830357216187,
          0.7670400987840326,
          0.3420549990445271,
          1.159777286833921,
          0.6866457157182703,
          0.41299421351773274,
          1.3947812106554056,
          0.1777299791624305,
          0.11501196036213147,
          0.32833711043985914,
          0.12475764545143478,
          0.15281315137976048,
          1.2921974646507748,
          0.5639510803050367,
          1.4051531384294067,
          0.15157842246151823,
          0.146829227472091,
          0.27402080922236544,
          0.19240257151027465,
          0.613336382044521,
          0.6309708437801902,
          0.3856337569424433,
          0.15437604792719062,
          0.3384958964571189,
          0.6690391895132256,
          0.325382315980628,
          1.0693139671556622,
          0.21162303169306276,
          0.19952756315609366,
          1.3535926852854836,
          1.1518972665923088,
          0.3764925482909538,
          0.3203211858322007,
          0.19163359535133845,
          0.6876036102702896,
          0.450136392894344,
          0.3573515393580733,
          0.9508255408626227,
          1.276605652732688,
          0.2320449919931975,
          0.5016704654938671,
          0.4958141854507438,
          0.4417009343343478,
          0.20798703674289976,
          0.9226651226803521,
          0.16112008798976743,
          1.056177995486106,
          0.4493792323591356,
          0.3182603157208168,
          0.796450929411069,
          0.4464949406280195,
          0.13786211188058153,
          0.28671293420596444,
          0.2929046650999867,
          0.26436160926532865,
          0.16359383822617182,
          0.1359875575387956,
          0.43529742061224946,
          0.13963728878567483,
          0.14290788497821352,
          0.4712394105064429,
          0.9080070846016934,
          0.5819283896469427,
          0.24703251007103263,
          0.20362628085486242,
          0.1940154616438974,
          0.3127470032140484,
          0.26937436374102014,
          0.1731302314051571,
          1.6133930959553797,
          0.6705428255504609,
          0.3028191965506114,
          1.246522828425354,
          0.22372398535727622
         ],
         "yaxis": "y"
        },
        {
         "hovertemplate": "round=unicef<br>holders_ratio=%{x}<br>amount_per_contributor=%{y}<extra></extra>",
         "legendgroup": "unicef",
         "marker": {
          "color": "#EF553B",
          "symbol": "circle"
         },
         "mode": "markers",
         "name": "unicef",
         "orientation": "v",
         "showlegend": true,
         "type": "scatter",
         "x": [
          0.33745536304721596,
          0.30278655558747486,
          0.275755068266446,
          0.3076923076923077,
          0.3088342440801457,
          0.2989103269019294,
          0.29913439635535305,
          0.28381991230884396,
          0.27785434114279656,
          0.323056768558952
         ],
         "xaxis": "x",
         "y": [
          1.4761728616452852,
          1.080182265812506,
          0.9953325611874224,
          1.089079824828208,
          1.127777394531876,
          1.2024785777906628,
          1.3307173097257403,
          1.635528095998289,
          1.2426568094773667,
          1.179102724286463
         ],
         "yaxis": "y"
        },
        {
         "hovertemplate": "round=gr15<br>holders_ratio=%{x}<br>amount_per_contributor=%{y}<extra></extra>",
         "legendgroup": "gr15",
         "marker": {
          "color": "#00cc96",
          "symbol": "circle"
         },
         "mode": "markers",
         "name": "gr15",
         "orientation": "v",
         "showlegend": true,
         "type": "scatter",
         "x": [
          0.6582278481012658,
          0.5930232558139535,
          0.7461538461538462,
          0.5882352941176471,
          0.5652173913043478,
          0.4736842105263157,
          0.6666666666666666,
          0.6470588235294118,
          0.6808510638297872,
          0.4090909090909091,
          0.75,
          0.3846153846153846,
          0.8,
          0.717948717948718,
          0.6252821670428894,
          0.5527777777777778,
          0.6058394160583942,
          0.4166666666666667,
          0.3663366336633663,
          0.3448275862068966,
          0.8181818181818182,
          0.5833333333333334,
          0.4090909090909091,
          0.6666666666666666,
          0.6481481481481481,
          0.7878787878787878,
          0.3571428571428571,
          0.225,
          0.3571428571428571,
          0.691358024691358,
          0.25,
          0.921875,
          0.5862068965517241,
          0.4545454545454545,
          0.6764705882352942,
          0.5272727272727272,
          0.5,
          0.7933884297520661,
          0.7741935483870968,
          0.9187817258883249,
          0.6428571428571429,
          0.7213114754098361,
          0.4098360655737705,
          0.6172106824925816,
          0.7027027027027027,
          0.5909090909090909,
          0.8095238095238095,
          0.6428571428571429,
          0.6057692307692307,
          0.6785714285714286,
          0.7333333333333333,
          0.3314763231197771,
          0.4638403990024937,
          0.1666666666666666,
          0.5714285714285714,
          0.75,
          0.6869565217391305,
          0.0714285714285714,
          0.2790697674418604,
          0.6703910614525139,
          0.7368421052631579,
          0.3478260869565217,
          0.7391304347826086,
          0.6949152542372882,
          0.5172413793103449,
          0.489247311827957,
          0.6842105263157895,
          0.1221945137157107,
          0.0845188284518828,
          0.7647058823529411,
          0.5,
          0.75,
          0.5457413249211357,
          0.25,
          0.5709876543209876,
          0.6138613861386139,
          0.625,
          0.5277777777777778,
          0.6220472440944882,
          0.7096774193548387,
          0.9090909090909092,
          0.2653061224489796,
          0.0632911392405063,
          0.5714285714285714,
          0.5,
          0.6593406593406593,
          0.6432432432432432,
          0.5466666666666666,
          0.6707317073170732,
          0.5789473684210527,
          0.6,
          0.6541095890410958,
          0.616946160635481,
          0.6013986013986014,
          0.5115241635687733,
          0.7213114754098361,
          0.5833333333333334,
          0.1981132075471698,
          0.5566037735849056,
          0.5,
          0.5294117647058824,
          0.5555555555555556,
          0.2421052631578947,
          0.4957044673539519,
          0.4857142857142857,
          0.4895833333333333,
          0.5607755406413124,
          0.6171428571428571,
          0.63,
          0.0826996197718631,
          0.6470588235294118,
          0.5766423357664233,
          0.7611940298507462,
          0.1032967032967032,
          0.5882352941176471,
          0.75,
          0.6349206349206349,
          0.6222222222222222,
          0.5224489795918368,
          0.6666666666666666,
          0.7222222222222222,
          0.6571428571428571,
          0.6785714285714286,
          0.5988023952095808,
          0.8034934497816594,
          0.4166666666666667,
          0.68,
          0.7352941176470589,
          0.5952740070387129,
          0.1105476673427992,
          0.6410256410256411,
          0.6666666666666666,
          0.6172839506172839,
          0.7448979591836735,
          0.1449144914491449,
          0.4934210526315789,
          0.5689655172413793,
          0.0172413793103448,
          0.4838709677419355,
          0.4067796610169492,
          0.547945205479452,
          0.6875,
          0.65,
          0.4705882352941176,
          0.0885496183206106,
          0.6063492063492063,
          0.64,
          0.5333333333333333,
          0.4657534246575342,
          0.4782608695652174,
          0.6055045871559633,
          0.7419354838709677,
          0.392156862745098,
          0.7288135593220338,
          0.4946236559139785,
          0.5871559633027523,
          0.5454545454545454,
          0.631578947368421,
          0.1758917589175891,
          0.4672897196261682,
          0.7,
          0.2347417840375587,
          0.03003003003003,
          0.75,
          0.4871794871794871,
          1,
          0.5833333333333334,
          0.5909090909090909,
          0.7543859649122807,
          0.6445497630331753,
          0.5925925925925926,
          0.5714285714285714,
          0.5714285714285714,
          0.3157894736842105,
          0.7037037037037037,
          0.6551724137931034,
          0.5625,
          0.6125,
          0.5763216679076694,
          0.7287066246056783,
          0.32,
          0.1302037201062887,
          0.5333333333333333,
          0.8142076502732241,
          0.4958677685950413,
          0.6,
          0.4565330557001562,
          0.6136363636363636,
          0.5708154506437768,
          0.3172888015717092,
          0.6428571428571429,
          0.0781544256120527,
          0.5018587360594795,
          0.5117647058823529,
          0.5361982191250484,
          0.6535433070866141,
          0.2,
          0.9111111111111112,
          0.7375,
          0.2142857142857142,
          0.7681159420289855,
          0.0689655172413793,
          0.3684210526315789,
          0.6190476190476191,
          0.0839041095890411,
          0.6342857142857142,
          0.0554913294797687,
          0.6666666666666666,
          1,
          0.6845378511687754,
          0.3852058618283321,
          0.6046511627906976,
          0.6923076923076923,
          0.6666666666666666,
          0.625,
          0.5493421052631579,
          0.0625,
          0.4408292542470486,
          0.1795716639209225,
          0.5535714285714286,
          0.5789473684210527,
          0.9166666666666666,
          0.5526315789473685,
          0.7358490566037735,
          0.648936170212766,
          0.052219321148825,
          0.7692307692307693,
          0.4905331340308919,
          0.3186528497409326,
          0.7307692307692307,
          0.574468085106383,
          0.6363636363636364,
          0.4543933054393305,
          0.5625,
          0.65,
          0.3255813953488372,
          0.5046728971962616,
          0.6226415094339622,
          0.5238095238095238,
          0.4727520435967302,
          0.53125,
          0.25,
          0.1538461538461538,
          0.3809523809523809,
          0.3157894736842105,
          0.6,
          0.6147540983606558,
          0.4285714285714285,
          0.8125,
          0.5172413793103449,
          0.6,
          0.4741935483870967,
          0.5606694560669456,
          0.5735294117647058,
          0.3684210526315789,
          0.6470588235294118,
          0.50814332247557,
          0.5580110497237569,
          0.3684210526315789,
          0.62,
          0.6227979274611399,
          0.1918918918918919,
          0.6324786324786325,
          0.5096153846153846,
          0.3636363636363636,
          0.6363636363636364,
          0.5492227979274611,
          0.3975373790677221,
          0.1666666666666666,
          0.032258064516129,
          0.6146095717884131,
          0.4736842105263157,
          0.6333333333333333,
          0.434699714013346,
          0.5915492957746479,
          0.599476439790576,
          0.5,
          0.75,
          0.5073068893528184,
          0.5773195876288659,
          0.5115910441846642,
          0.7692307692307693,
          0.6,
          0.7857142857142857,
          0.6857798165137615,
          0.5,
          0.5693430656934306,
          0.6330275229357798,
          0.6363636363636364,
          0.3109243697478991,
          0.6,
          0.5397334016918739,
          0.6666666666666666,
          0.6222222222222222,
          0.4736842105263157,
          0.5882352941176471,
          0.7358024691358025,
          0.5609756097560976,
          0.6764705882352942,
          0.7857142857142857,
          0.6956521739130435,
          0.4859813084112149,
          0.0909090909090909,
          0.5074626865671642,
          0.76,
          0.5789473684210527,
          0.8125,
          0.8611111111111112,
          0.5215909090909091,
          0.0949820788530465,
          0.4071661237785016,
          0.6610169491525424,
          0.5625,
          0.5853658536585366,
          0.56,
          0.4794520547945205,
          0.75,
          0.4655172413793103,
          0.5714285714285714,
          0.660377358490566,
          0.1022938623682579,
          0.221938775510204,
          0.5238095238095238,
          0.2307692307692307,
          0.5789473684210527,
          0.0751445086705202,
          0.6486486486486487,
          0.1338090990187332,
          0.5555555555555556,
          0.1731266149870801,
          0.4576755891100434,
          0.0878928987194412,
          0.0849609375,
          0.6830985915492958,
          0.5882352941176471,
          0.6066350710900474,
          0.1635049683830171,
          0.1194539249146757,
          0.4444444444444444,
          0.625,
          0.6299212598425197,
          0.6521739130434783,
          0.2014995313964386,
          0.6016260162601627,
          0.8148148148148148,
          0.5754310344827587,
          0.5743589743589743,
          0.625,
          0.4615384615384615,
          0.7292418772563177,
          0.5087719298245614,
          0.1079199303742384,
          0.375,
          0.2069868995633187,
          0.1905187835420393,
          0.6818181818181818,
          0.6363636363636364,
          0.5614035087719298,
          0.6639344262295082,
          0.0941906373378454,
          0.2091932457786116,
          0.6041666666666666,
          0.2,
          0.3809523809523809,
          0.1335898845519516,
          0.375,
          0.4096385542168674,
          0.9375,
          0.3958333333333333,
          0.6243654822335025,
          0.25,
          0.6511627906976745,
          0.5,
          0.6477987421383647,
          0.5833333333333334,
          0.3137254901960784,
          0.4285714285714285,
          0.4166666666666667,
          0.7368421052631579,
          0.7272727272727273,
          0.6428571428571429,
          0.5815217391304348,
          0.4102564102564102,
          0.6428571428571429,
          0.3478260869565217,
          0.5,
          0.6666666666666666,
          0.5238095238095238,
          0.5131578947368421,
          0.5769230769230769,
          0.4029850746268656,
          0.2,
          0.3801169590643274,
          0.5151423684475299,
          0.6666666666666666,
          0.4177489177489177,
          0.5956937799043063,
          0.6311239193083573,
          0.5769230769230769,
          0.5688073394495413,
          0.5367965367965368,
          0.4716981132075472,
          0.6285714285714286,
          0.6481481481481481,
          0.6944444444444444,
          0.5732057416267943,
          0.8064516129032258,
          0.5652173913043478,
          0.5714285714285714,
          0.3571428571428571,
          0.527027027027027,
          0.5768261964735516,
          0.5609470914937152,
          0.6715328467153284,
          0.5012853470437018,
          0.5963855421686747,
          0.4948979591836734,
          0.8333333333333334,
          0.5040322580645161,
          0.6077348066298343,
          0.55,
          0.6363636363636364,
          0.6642335766423357,
          0.5319148936170213,
          0.4970588235294118,
          0.6113744075829384,
          0.4307610993657505,
          0.1333333333333333,
          0.4396029392806497,
          0.7333333333333333,
          0.4925373134328358,
          0.4273127753303964,
          0.6284584980237155,
          0.5206216377764495,
          0.581081081081081,
          0.5752508361204013,
          0.625,
          0.5714285714285714,
          0.6857142857142857,
          0.5897435897435898,
          0.5,
          0.4594991734525194,
          0.6410256410256411,
          0.5333333333333333,
          0.6002024291497976,
          0.5,
          0.5862068965517241,
          0.5833333333333334,
          0.6373626373626373,
          0.6521739130434783,
          0.32,
          0.4455205811138014,
          0.648854961832061,
          0.5868725868725869,
          0.8383838383838383,
          0.5,
          0.6666666666666666,
          0.5306122448979592,
          0.5797101449275363,
          0.4798994974874372,
          0.5032051282051282,
          0.4416666666666666,
          0.5232258064516129,
          0.6018518518518519,
          0.4736842105263157,
          0.15,
          0.5054310719384272,
          0.6538461538461539,
          0.6741071428571429,
          0.6666666666666666,
          0.5036496350364964,
          0.4285714285714285,
          0.4545454545454545,
          0.5220338983050847,
          0.6538461538461539,
          0.6357142857142857,
          0.3333333333333333,
          0.4333333333333333,
          0.7572559366754618,
          0.4166666666666667,
          0.6381578947368421,
          0.6462585034013606,
          0.6415094339622641,
          0.5714285714285714,
          0.5714285714285714,
          0.4305555555555556,
          0.7142857142857143,
          0.6195652173913043,
          0.651685393258427,
          0.6496350364963503,
          0.4082568807339449,
          0.4736842105263157,
          0.5566037735849056,
          0.5759514988211519,
          0.5540540540540541,
          0.5403587443946188,
          0.6109589041095891,
          0.605,
          0.6264462809917355,
          0.7315436241610739,
          0.3846153846153846,
          0.6025641025641025,
          0.6244897959183674,
          0.65625,
          0.4490177736202058,
          0.4545454545454545,
          0.4130434782608695,
          0.7132352941176471,
          0.72,
          0.5684647302904564,
          0.5102040816326531,
          0.5844155844155844,
          0.5390822340724108,
          0.5061782877316858,
          0.6834170854271356,
          0.7037037037037037,
          0.7857142857142857,
          0.5,
          0.3947368421052631,
          0.5384615384615384,
          0.5769230769230769,
          0.5944827586206897,
          0.5162689804772235,
          0.6114649681528662,
          0.7222222222222222,
          0.5,
          0.6388888888888888,
          0.6458333333333334,
          0.2752475247524752,
          0.676056338028169,
          0.5166240409207161,
          0.4285714285714285,
          0.660377358490566,
          0.7246376811594203,
          0.5076142131979695,
          0.75,
          0.6217616580310881,
          0.5672727272727273,
          0.7142857142857143,
          0.3636363636363636,
          0.4166666666666667,
          0.8666666666666667,
          0.1052631578947368,
          0.25,
          0.5714285714285714,
          0.4204545454545454,
          0.6842105263157895,
          0.5652173913043478,
          0.5789473684210527,
          0.7087378640776699,
          0.7413793103448276,
          0.5576923076923077,
          0.6779661016949152,
          0.5646766169154229,
          0.6,
          0.5430327868852459,
          0.2832080200501253,
          0.3952424519670631,
          0.5967741935483871,
          0.546875,
          0.5583333333333333,
          0.8709677419354839,
          0.6,
          0.505338078291815,
          0.5625,
          0.4848484848484848,
          0.5319502074688797,
          0.660377358490566,
          0.7191011235955056,
          0.6428571428571429,
          0.4615384615384615,
          0.5791015625,
          0.6426168224299066,
          0.5714285714285714,
          0.6516129032258065,
          0.5011316155988857,
          0.3322368421052631,
          0.5940959409594095,
          0.5901639344262295,
          0.25,
          0.0909090909090909,
          0.4,
          0.6923076923076923,
          0.5773809523809523,
          0.5759493670886076,
          0.4,
          0.4545454545454545,
          0.5,
          0.553763440860215,
          0.3263888888888889,
          0.2410714285714285,
          0.5838509316770186,
          0.2413793103448276,
          0.625,
          0.5588235294117647,
          0.5333333333333333,
          0.5151515151515151,
          0.8181818181818182,
          0.4848484848484848,
          0.4526315789473684,
          0.6228813559322034,
          0.6875,
          0.4705882352941176,
          0.4583333333333333,
          0.4748142031379025,
          0.75,
          0.4666666666666667,
          0.9090909090909092,
          0.6414141414141414,
          0.4930555555555556,
          0.544,
          0.5865921787709497,
          0.7272727272727273,
          0.4117647058823529,
          0.5454545454545454,
          0.3214285714285714,
          0.6363636363636364,
          0.5784313725490197,
          0.4565217391304347,
          0.4666666666666667,
          0.8260869565217391,
          0.3579335793357933,
          0.5,
          0.4615384615384615,
          0.6528925619834711,
          0.553030303030303,
          0.3157894736842105,
          0.5230769230769231,
          0.3888888888888889,
          0.5748299319727891,
          0.4610694183864915,
          0.5645756457564576,
          0.3333333333333333,
          0.6904761904761905,
          0.4778325123152709,
          0.6363636363636364,
          0.2307692307692307,
          0.4872521246458923,
          0.4535714285714285,
          0.500507614213198,
          0.7084233261339092,
          0.6188340807174888,
          0.6169491525423729,
          0.4973262032085561,
          0.1538461538461538,
          0.6363636363636364,
          0.4703557312252964,
          0.6537216828478964,
          0.4615384615384615,
          0.5454545454545454,
          0.7428571428571429,
          0.4777777777777778,
          0.3888888888888889,
          0.625,
          0.5272727272727272,
          0.6811594202898551,
          0.581081081081081,
          0.3333333333333333,
          0.5348837209302325,
          0.5246913580246914,
          0.3684210526315789,
          0.547945205479452,
          0.5238095238095238,
          0.55,
          0.4834437086092715,
          0.5384615384615384,
          0.5297638842700366,
          0.5384615384615384,
          0.5323383084577115,
          0.5434782608695652,
          0.6451612903225806,
          0.5102040816326531,
          0.5263157894736842,
          0.6363636363636364,
          0.625,
          0.6129283489096573,
          0.375,
          0.6428571428571429,
          0.4814814814814814,
          0.632183908045977,
          0.6012658227848101,
          0.5172413793103449,
          0.6313993174061433,
          0.5641025641025641,
          0.4166666666666667,
          0.4347826086956521,
          0.7555555555555555,
          0.5034965034965035,
          0.5833333333333334,
          0.7931034482758621,
          0.3571428571428571,
          0.6161616161616161,
          0.522248243559719,
          0.75,
          0.7653061224489796,
          0.6730769230769231,
          0.5967130214917825,
          0.5730337078651685,
          0.217391304347826,
          0.7272727272727273,
          0.5,
          0.3125,
          0.4456521739130434,
          0.6109022556390977,
          0.5629850746268656,
          0.6321243523316062,
          0.5720465393794749,
          0.4507042253521127,
          0.6045918367346939,
          0.6195054945054945,
          0.5,
          0.4116809116809117,
          1,
          0.5555555555555556,
          0.625,
          0.5384615384615384,
          0.3818181818181818,
          0.4877675840978593,
          0.5631741140215717,
          0.5857740585774058
         ],
         "xaxis": "x",
         "y": [
          1.6062,
          19.33606213592233,
          1.289649790794979,
          78.61701500000001,
          10.153088,
          19.188053703703705,
          13.2016,
          8.270907999999999,
          7.962993617021277,
          4.980333333333333,
          5.9786809523809525,
          6.2178,
          9.611342253521126,
          4.704197222222223,
          2.3312593406593405,
          2.280957180156658,
          5.3372300751879695,
          48.81063076923077,
          59.20678777777778,
          33.22917297297297,
          15.867963636363635,
          50.114563157894736,
          16.958345454545455,
          6.243083333333334,
          3.856595664739885,
          2.769209375,
          7.442258333333334,
          8.808187179487179,
          2.5117000000000003,
          7.616157803468208,
          2.1102833333333333,
          0.5698635897435897,
          4.950057692307693,
          12.329145454545454,
          5.927818181818182,
          3.050693846153846,
          6.42295,
          0.9756141666666668,
          2.445814285714285,
          0.3300776119402985,
          8.714678571428571,
          4.660192553191489,
          5.521443518518519,
          4.976680225988701,
          14.956297142857144,
          4.458542857142858,
          3.935042857142857,
          8.1292,
          6.271058,
          6.732235714285714,
          2.4668533333333333,
          35.03724379084967,
          2.88663203125,
          9.3547,
          2.5353142857142856,
          16.256996666666666,
          6.197297058823529,
          2.0064,
          5.521493023255815,
          2.096265841584158,
          1.4126611111111111,
          8.71482619047619,
          3.895775,
          6.9186072727272725,
          5.459518120805369,
          7.411050264550265,
          2.1690647887323946,
          1.5431148148148146,
          1.4882102687140115,
          10.895978125,
          1.2550631578947369,
          4.850533333333333,
          3.925365605095542,
          2.7090125,
          2.571423288690476,
          18.581003100775195,
          8.846843283582091,
          23.18268611111111,
          4.6828151260504205,
          3.58686,
          1.6944636363636365,
          3.790520588235294,
          1.551789344262295,
          5.024895454545455,
          4.7094,
          6.740888636363636,
          9.441782,
          3.483801408450704,
          15.204179090909092,
          4.266805263157894,
          1.896475,
          21.780463258785943,
          5.719961971830986,
          7.286122807017543,
          2.039028481012658,
          5.621596551724138,
          8.240882352941178,
          5.244714705882353,
          7.251218852459016,
          6.324779411764705,
          8.92013125,
          8.646962857142858,
          5.113203225806451,
          1.7791423692636072,
          2.3011774647887324,
          6.375127083333333,
          1.9409276935355144,
          3.913656707317073,
          26.867042424242424,
          1.4721971631205677,
          120.74107647058824,
          14.644526708074531,
          12.801395348837213,
          1.57786786004882,
          5.535364705882353,
          6.724915789473684,
          10.727973134328357,
          5.755219540229885,
          2.380699526066351,
          5.356891666666667,
          16.08146875,
          2.405490909090909,
          2.347703703703704,
          16.501531506849314,
          4.840636032388663,
          6.14009696969697,
          17.309714285714286,
          2.757805882352941,
          1.757057391304348,
          1.628553501094092,
          4.020806849315068,
          7.075247058823529,
          5.558109090909091,
          9.138988888888887,
          1.4292084493964716,
          1.838371153846154,
          7.411304032258065,
          1.70786301369863,
          5.424211971830986,
          16.460909615384615,
          12.788415204678362,
          3.4810066666666666,
          3.23932,
          32.109581818181816,
          1.6032871753246754,
          9.102882795698925,
          5.795800000000001,
          6.988766666666667,
          75.238761971831,
          10.95125637254902,
          10.232905555555556,
          11.93450357142857,
          3.579529310344828,
          11.080208620689657,
          17.762083333333333,
          20.526138834951457,
          7.564618181818182,
          3.450011111111112,
          1.4720863402061857,
          13.8239,
          6.0325848484848485,
          4.746386315789474,
          1.556834219269103,
          10.551555,
          23.26060256410256,
          6.369118181818181,
          5.2592558823529405,
          11.658695454545455,
          13.10145,
          11.713383333333336,
          6.94959,
          25.558352688172047,
          10.124423076923078,
          26.294835714285718,
          4.042746153846154,
          28.60039310344828,
          2.462028571428572,
          10.091955555555556,
          1.7733176778699258,
          1.5422707831325302,
          17.032266666666665,
          1.4169735599622286,
          18.814306666666667,
          2.815183606557377,
          8.789574576271185,
          6.493292156862745,
          3.910432348596751,
          9.115335294117648,
          2.986375036927622,
          1.451888334995015,
          8.6424,
          1.3349381526104418,
          7.977235055350554,
          6.257004519774012,
          2.895046855791962,
          7.803547933884297,
          4.635602777777778,
          2.191086559139785,
          16.258637623762375,
          5.088826829268292,
          0.946069759450172,
          1.546862886597938,
          5.5215,
          41.18494090909091,
          1.4776879734848485,
          2.836810588235294,
          1.5090812807881773,
          3.1691000000000003,
          3.029590909090909,
          1.9006927450047573,
          1.910704480651731,
          7.4471390243902436,
          2.527525,
          4.842907692307692,
          2.86549375,
          1.7646738001573563,
          1.7374675,
          2.447999622047244,
          1.387728737541528,
          4.580906796116505,
          53.42083125,
          3.921130769230769,
          5.713206696428571,
          52.46620576923077,
          1.7434833333333333,
          1.3038703896103896,
          2.955258333333333,
          2.1578069413999708,
          1.343305693950178,
          30.391632,
          26.39738205128205,
          12.74529423076923,
          2.8706476123485736,
          19.5162,
          3.0658111111111115,
          9.896255555555555,
          2.9087438721136767,
          3.973233333333333,
          81.42683500000001,
          12.185843781942078,
          5.011534285714285,
          5.00296,
          1.4350440537745606,
          3.62656,
          1.7097478260869563,
          2.589084615384615,
          5.583625641025641,
          3.229375,
          2.525078571428572,
          2.7384350364963503,
          2.7471941176470587,
          4.95095993883792,
          2.553971111111111,
          9.103726,
          29.85398571428572,
          6.651055555555555,
          2.7686600719964,
          6.6094221674876845,
          12.537971428571428,
          10.262602564102565,
          1.663851793721973,
          1.505928972868217,
          6.432063636363637,
          12.26228888888889,
          10.875814705882352,
          2.769328571428572,
          3.535043243243243,
          2.3254294947121035,
          3.3346785714285714,
          1.9211566666666668,
          9.331651898734178,
          2.5622709923664124,
          5.610806779661017,
          3.296587492590397,
          8.384155208333334,
          2.96525192563081,
          12.48162,
          4.791705,
          7.661982241014799,
          14.226510204081634,
          2.295801590145577,
          4.131,
          6.112864900662252,
          2.8518266666666667,
          2.9944785714285715,
          13.087955319148938,
          8.054658227848101,
          2.848222772277228,
          2.189230434782609,
          5.442039344262295,
          10.151553333333334,
          2.1240659268929503,
          14.5222,
          1.7383711229946524,
          4.126872222222222,
          10.558433333333332,
          1.72732825,
          6.105815909090908,
          1.742490909090909,
          6.840414285714286,
          3.89903829787234,
          19.52972421875,
          25.85832,
          8.212632795698925,
          1.9785125,
          3.297808064516129,
          5.075916949152543,
          30.65165572519084,
          3.097224474023186,
          1.579614503816794,
          2.397327689243028,
          6.550999236641221,
          7.128100000000001,
          2.915114375,
          30.499960869565214,
          2.5251433248789485,
          8.747255769230769,
          7.334558333333334,
          15.527706666666669,
          2.631097411764706,
          1.865065408805032,
          2.2426829754601227,
          6.262662686567165,
          17.92731176470588,
          5.491273076923077,
          1.9042270499528744,
          3.7252015384615382,
          2.206190909090909,
          10.411008196721312,
          1.769259044862518,
          2.0331521537271087,
          2.24311279014685,
          1.9907994258373207,
          2.486197461928934,
          3.077828571428572,
          7.883843893129772,
          1.7442052631578948,
          2.1648636673773987,
          16.969298333333334,
          3.4229148148148147,
          14.112685507246375,
          7.708503588143526,
          2.392567469879518,
          17.63803370786517,
          4.73599806763285,
          7.084357581967213,
          6.269543529411765,
          7.9833763157894735,
          7.692387786259542,
          1.976182481751825,
          6.5786515625,
          1.8168540780141844,
          4.190449356223176,
          2.3044799759470838,
          1.7917763984674329,
          20.328525,
          5.922979166666667,
          10.400847572815534,
          3.069941228070175,
          1.912194212721585,
          1.7648653594771242,
          6.247594904458598,
          5.166057735849057,
          5.804859065934066,
          1.89103991507431,
          4.113623873517787,
          7.960727983539094,
          3.92038380952381,
          6.662848181818182,
          3.336661455108359,
          12.361798734177215,
          21.309148,
          9.073156521739133,
          5.245457575757576,
          35.02899891304348,
          2.554120457280385,
          2.574117791411043,
          2.6754957055214725,
          14.552005128205128,
          9.180403125,
          8.532622033898305,
          2.212026627793975,
          6.925718666666667,
          5.409921153846154,
          10.322433333333333,
          11.767528260869565,
          3.360245238095238,
          15.093890681003584,
          19.45380217983651,
          13.305535451505015,
          7.2910196721311475,
          12.320664935064936,
          2.7463046688382198,
          2.6268860357265544,
          2.279222781065089,
          4.1610450000000005,
          2.900832872990718,
          2.2226667996011966,
          19.32887861842105,
          7.822382089552239,
          9.904300824175824,
          7.094860301507537,
          10.502325882352942,
          3.5438311774461027,
          7.557210810810811,
          2.28053195970696,
          5.699578431372549,
          3.190043046357616,
          8.37231052631579,
          7.910010194174757,
          6.746905447470817,
          4.4778473245309245,
          2.370534939160666,
          7.67129296875,
          13.355426373626374,
          5.031894006849315,
          8.586960372340425,
          7.02742850678733,
          11.857464084507042,
          16.580578616352202,
          11.129672146118722,
          7.908281818181818,
          4.550100739371534,
          53.81546060606061,
          29.61220918544194,
          2.216221752738654,
          3.064580497595651,
          17.396952631578948,
          4.149681697746802,
          2.082640985651903,
          4.10569367965368,
          7.418477123091603,
          9.536052363636363,
          2.53056078697422,
          13.11916154822335,
          2.9774453178400546,
          11.529706666666668,
          16.42370350877193,
          5.739450956937799,
          6.468610769230769,
          5.154972727272727,
          3.602622838235888,
          26.53950057142857,
          14.932659999999998,
          2.1070177372565277,
          8.559767796610169,
          17.227551524390247,
          9.894457522123894,
          2.989090335790336,
          4.635066386875239,
          4.218485185185186,
          5.443208470588235,
          55.516596923076925,
          5.096308394160584,
          5.326740205562273,
          15.549194252873564,
          10.145635831381732,
          3.9916067364588073,
          11.484642222222222,
          3.0603830733985373,
          10.276887108013936,
          34.55864365482234,
          7.11346750142288,
          6.289397058823529,
          15.411373529411764,
          19.423811904761905,
          3.72310647469408,
          4.833962422839506,
          7.8125815401419985,
          14.224646153846152,
          9.205214419695192,
          12.329825,
          24.574417341040466,
          6.96240664945126,
          21.6145432,
          29.67056706827309,
          12.294346428571428,
          4.700140816326531,
          12.657085763546798,
          7.849584605597965,
          41.51761422594142,
          14.932202002861231,
          7.929973417721519,
          24.557185853658535,
          2.613415991237678,
          5.275899646486964,
          9.470045,
          2.4994226735598226,
          14.616360638297872,
          5.970127332242226,
          2.9447036311749657,
          15.332402777777778,
          11.438829311740893,
          3.1669405689409293,
          12.652757831325305,
          8.863227665140615,
          2.120933383571967,
          6.972513083048919,
          3.8567162820845216,
          7.338876209677418,
          11.5764,
          15.284467696629212,
          5.726814329738058,
          2.877202564102564,
          5.940770480928689,
          5.1593,
          37.80545761589404,
          2.633346892039259,
          7.58126976744186,
          4.316624346076458,
          7.280682068965518,
          3.845540476190476,
          3.1864067612584823,
          3.0066638502804195,
          5.238361858638744,
          2.44754253507014,
          2.9230414580265096,
          10.272909589041095,
          18.35297710843373,
          12.679822985468956,
          24.62923269230769,
          3.578299632862854,
          17.019631830601096,
          2.287339917780061,
          3.9034761471682513,
          6.663504347826087,
          8.677111940298508,
          54.70303398692811,
          2.502845059786029,
          5.172349721059972,
          4.975772637407326,
          5.40700200421941,
          8.058382485875706,
          4.643274954954955,
          7.610841458541459,
          3.066443587962963,
          10.925637642585553,
          33.92181023856859,
          2.80007289048474,
          9.958003296703296,
          13.102504590984974,
          9.567180833333332,
          3.753763794629684,
          3.0935265625,
          87.42886918117344,
          71.78119594594595,
          96.14673673469387,
          12.936051174934724,
          31.283175536480687,
          4.952950798258345,
          30.33964322636852,
          33.34592852760736,
          5.835679812206573,
          8.679841106170095,
          10.77432,
          13.918756953359006,
          8.032408516385868,
          3.775393737256045,
          21.682047905951507,
          18.832715304443227,
          92.31553745019922,
          5.154936535859269,
          12.45336488340192,
          78.28278360094761,
          9.1987756302521,
          7.228848275862069,
          8.69236561886051,
          41.064349739583335,
          12.582363677639048,
          7.214715254237288,
          5.933913157894737,
          7.391414931726908,
          3.514652318896129,
          2.2458800947867297,
          10.361283934059792,
          6.787303135801786,
          9.786242784213623,
          6.866996850058529,
          3.434256645203896,
          5.584859824442944,
          5.76233,
          6.590209595959596,
          4.274059090909091,
          8.683418223234623,
          21.694881382458423,
          4.159469662921348,
          3.9431453024026513,
          4.063904975328947,
          5.194342818881822,
          7.88416900993743,
          2.665222388059701,
          10.320150633552965,
          29.118016774193546,
          5.455221428571428,
          12.113132092426188,
          14.086628675478824,
          9.849465312124048,
          6.0133521666666665,
          31.951285604606525,
          7.618949235048678,
          8.640187425673313,
          43.84445719686363,
          15.32738670694864,
          3.927039856801909,
          3.079871783496007,
          8.794543899613899,
          3.3315808356399104,
          5.3419384615384615,
          4.658864897959184,
          50.81886543033761,
          5.762674384417494,
          4.77499004854369,
          4.61371221719457,
          18.357067886400877,
          3.696409569377991,
          10.605755471380473,
          3.670626417611741,
          7.620086805885145,
          12.121446891351184,
          16.23372090909091,
          12.286263934426229,
          8.701372637130802,
          5.378062871927554,
          16.88524953271028,
          7.896546313065976,
          3.9887393586005833,
          5.8261757518797,
          5.993112380300958,
          10.489399404561286,
          3.8265353767942583,
          4.334678387309981,
          25.89240962861073,
          6.738726974267968,
          5.773055357651752,
          99.4648124270402,
          8.04056387368421,
          6.699568333333334,
          11.261474427168576,
          11.590180194659665,
          8.700342159730035,
          8.757600766372503,
          7.860688943248532,
          40.15192256790124,
          17.621634391631492,
          22.28931802973977,
          12.574442857142856,
          7.818334956657251,
          9.94940556672892,
          15.701050936967633,
          5.81203298816568,
          24.470437563237773,
          7.190516758241759,
          5.033856465739309,
          5.889618954733383,
          12.680568904037756,
          12.191467671009772,
          10.786607605466427,
          13.108497648514852,
          6.098172739187418,
          8.0492336492891,
          11.77681402838428,
          29.92856898428053,
          7.908335043964828,
          6.406556779661017,
          11.92612932523932,
          41.337111391223154,
          8.167318420173174,
          12.530625130434782,
          6.400425173703901,
          11.77678207036536,
          5.071736746597537,
          8.996230789473685,
          5.658524748138414,
          12.130056673511293,
          28.059037725225227,
          7.172887069046062,
          15.605032367424243,
          5.604775838926174,
          21.297773837209306,
          6.461042842323651,
          13.524578425860856,
          7.363170114213198,
          35.97849406952965,
          16.07414881974249,
          21.3662106081548,
          13.295310498812352,
          2.099410909090909,
          10.636207922159448,
          11.106406088173548,
          1.4366255813953488,
          11.87336833413346,
          7.5614211264314095,
          10.612859175588865,
          2.9915052631578947,
          7.929800314748201,
          4.49219351900052,
          4.840146092544988,
          10.149384306909706,
          7.964247356321839,
          4.010156666666666,
          20.399587802291048,
          8.586945284090909,
          19.597979740680717,
          17.475339795265516,
          10.360658746432108,
          13.727192644452323,
          10.45541227571712,
          26.30757981103928,
          19.599827015530717,
          11.405134537246049,
          9.19750800767202,
          10.5902439497248,
          129.6363071428571,
          10.77466154875717,
          25.59185186440678,
          22.440972623637887,
          7.221483207388749,
          12.302975263992996,
          14.326813968020584,
          20.534769164602256
         ],
         "yaxis": "y"
        }
       ],
       "layout": {
        "legend": {
         "title": {
          "text": "round"
         },
         "tracegroupgap": 0
        },
        "template": {
         "data": {
          "bar": [
           {
            "error_x": {
             "color": "#2a3f5f"
            },
            "error_y": {
             "color": "#2a3f5f"
            },
            "marker": {
             "line": {
              "color": "#E5ECF6",
              "width": 0.5
             },
             "pattern": {
              "fillmode": "overlay",
              "size": 10,
              "solidity": 0.2
             }
            },
            "type": "bar"
           }
          ],
          "barpolar": [
           {
            "marker": {
             "line": {
              "color": "#E5ECF6",
              "width": 0.5
             },
             "pattern": {
              "fillmode": "overlay",
              "size": 10,
              "solidity": 0.2
             }
            },
            "type": "barpolar"
           }
          ],
          "carpet": [
           {
            "aaxis": {
             "endlinecolor": "#2a3f5f",
             "gridcolor": "white",
             "linecolor": "white",
             "minorgridcolor": "white",
             "startlinecolor": "#2a3f5f"
            },
            "baxis": {
             "endlinecolor": "#2a3f5f",
             "gridcolor": "white",
             "linecolor": "white",
             "minorgridcolor": "white",
             "startlinecolor": "#2a3f5f"
            },
            "type": "carpet"
           }
          ],
          "choropleth": [
           {
            "colorbar": {
             "outlinewidth": 0,
             "ticks": ""
            },
            "type": "choropleth"
           }
          ],
          "contour": [
           {
            "colorbar": {
             "outlinewidth": 0,
             "ticks": ""
            },
            "colorscale": [
             [
              0,
              "#0d0887"
             ],
             [
              0.1111111111111111,
              "#46039f"
             ],
             [
              0.2222222222222222,
              "#7201a8"
             ],
             [
              0.3333333333333333,
              "#9c179e"
             ],
             [
              0.4444444444444444,
              "#bd3786"
             ],
             [
              0.5555555555555556,
              "#d8576b"
             ],
             [
              0.6666666666666666,
              "#ed7953"
             ],
             [
              0.7777777777777778,
              "#fb9f3a"
             ],
             [
              0.8888888888888888,
              "#fdca26"
             ],
             [
              1,
              "#f0f921"
             ]
            ],
            "type": "contour"
           }
          ],
          "contourcarpet": [
           {
            "colorbar": {
             "outlinewidth": 0,
             "ticks": ""
            },
            "type": "contourcarpet"
           }
          ],
          "heatmap": [
           {
            "colorbar": {
             "outlinewidth": 0,
             "ticks": ""
            },
            "colorscale": [
             [
              0,
              "#0d0887"
             ],
             [
              0.1111111111111111,
              "#46039f"
             ],
             [
              0.2222222222222222,
              "#7201a8"
             ],
             [
              0.3333333333333333,
              "#9c179e"
             ],
             [
              0.4444444444444444,
              "#bd3786"
             ],
             [
              0.5555555555555556,
              "#d8576b"
             ],
             [
              0.6666666666666666,
              "#ed7953"
             ],
             [
              0.7777777777777778,
              "#fb9f3a"
             ],
             [
              0.8888888888888888,
              "#fdca26"
             ],
             [
              1,
              "#f0f921"
             ]
            ],
            "type": "heatmap"
           }
          ],
          "heatmapgl": [
           {
            "colorbar": {
             "outlinewidth": 0,
             "ticks": ""
            },
            "colorscale": [
             [
              0,
              "#0d0887"
             ],
             [
              0.1111111111111111,
              "#46039f"
             ],
             [
              0.2222222222222222,
              "#7201a8"
             ],
             [
              0.3333333333333333,
              "#9c179e"
             ],
             [
              0.4444444444444444,
              "#bd3786"
             ],
             [
              0.5555555555555556,
              "#d8576b"
             ],
             [
              0.6666666666666666,
              "#ed7953"
             ],
             [
              0.7777777777777778,
              "#fb9f3a"
             ],
             [
              0.8888888888888888,
              "#fdca26"
             ],
             [
              1,
              "#f0f921"
             ]
            ],
            "type": "heatmapgl"
           }
          ],
          "histogram": [
           {
            "marker": {
             "pattern": {
              "fillmode": "overlay",
              "size": 10,
              "solidity": 0.2
             }
            },
            "type": "histogram"
           }
          ],
          "histogram2d": [
           {
            "colorbar": {
             "outlinewidth": 0,
             "ticks": ""
            },
            "colorscale": [
             [
              0,
              "#0d0887"
             ],
             [
              0.1111111111111111,
              "#46039f"
             ],
             [
              0.2222222222222222,
              "#7201a8"
             ],
             [
              0.3333333333333333,
              "#9c179e"
             ],
             [
              0.4444444444444444,
              "#bd3786"
             ],
             [
              0.5555555555555556,
              "#d8576b"
             ],
             [
              0.6666666666666666,
              "#ed7953"
             ],
             [
              0.7777777777777778,
              "#fb9f3a"
             ],
             [
              0.8888888888888888,
              "#fdca26"
             ],
             [
              1,
              "#f0f921"
             ]
            ],
            "type": "histogram2d"
           }
          ],
          "histogram2dcontour": [
           {
            "colorbar": {
             "outlinewidth": 0,
             "ticks": ""
            },
            "colorscale": [
             [
              0,
              "#0d0887"
             ],
             [
              0.1111111111111111,
              "#46039f"
             ],
             [
              0.2222222222222222,
              "#7201a8"
             ],
             [
              0.3333333333333333,
              "#9c179e"
             ],
             [
              0.4444444444444444,
              "#bd3786"
             ],
             [
              0.5555555555555556,
              "#d8576b"
             ],
             [
              0.6666666666666666,
              "#ed7953"
             ],
             [
              0.7777777777777778,
              "#fb9f3a"
             ],
             [
              0.8888888888888888,
              "#fdca26"
             ],
             [
              1,
              "#f0f921"
             ]
            ],
            "type": "histogram2dcontour"
           }
          ],
          "mesh3d": [
           {
            "colorbar": {
             "outlinewidth": 0,
             "ticks": ""
            },
            "type": "mesh3d"
           }
          ],
          "parcoords": [
           {
            "line": {
             "colorbar": {
              "outlinewidth": 0,
              "ticks": ""
             }
            },
            "type": "parcoords"
           }
          ],
          "pie": [
           {
            "automargin": true,
            "type": "pie"
           }
          ],
          "scatter": [
           {
            "fillpattern": {
             "fillmode": "overlay",
             "size": 10,
             "solidity": 0.2
            },
            "type": "scatter"
           }
          ],
          "scatter3d": [
           {
            "line": {
             "colorbar": {
              "outlinewidth": 0,
              "ticks": ""
             }
            },
            "marker": {
             "colorbar": {
              "outlinewidth": 0,
              "ticks": ""
             }
            },
            "type": "scatter3d"
           }
          ],
          "scattercarpet": [
           {
            "marker": {
             "colorbar": {
              "outlinewidth": 0,
              "ticks": ""
             }
            },
            "type": "scattercarpet"
           }
          ],
          "scattergeo": [
           {
            "marker": {
             "colorbar": {
              "outlinewidth": 0,
              "ticks": ""
             }
            },
            "type": "scattergeo"
           }
          ],
          "scattergl": [
           {
            "marker": {
             "colorbar": {
              "outlinewidth": 0,
              "ticks": ""
             }
            },
            "type": "scattergl"
           }
          ],
          "scattermapbox": [
           {
            "marker": {
             "colorbar": {
              "outlinewidth": 0,
              "ticks": ""
             }
            },
            "type": "scattermapbox"
           }
          ],
          "scatterpolar": [
           {
            "marker": {
             "colorbar": {
              "outlinewidth": 0,
              "ticks": ""
             }
            },
            "type": "scatterpolar"
           }
          ],
          "scatterpolargl": [
           {
            "marker": {
             "colorbar": {
              "outlinewidth": 0,
              "ticks": ""
             }
            },
            "type": "scatterpolargl"
           }
          ],
          "scatterternary": [
           {
            "marker": {
             "colorbar": {
              "outlinewidth": 0,
              "ticks": ""
             }
            },
            "type": "scatterternary"
           }
          ],
          "surface": [
           {
            "colorbar": {
             "outlinewidth": 0,
             "ticks": ""
            },
            "colorscale": [
             [
              0,
              "#0d0887"
             ],
             [
              0.1111111111111111,
              "#46039f"
             ],
             [
              0.2222222222222222,
              "#7201a8"
             ],
             [
              0.3333333333333333,
              "#9c179e"
             ],
             [
              0.4444444444444444,
              "#bd3786"
             ],
             [
              0.5555555555555556,
              "#d8576b"
             ],
             [
              0.6666666666666666,
              "#ed7953"
             ],
             [
              0.7777777777777778,
              "#fb9f3a"
             ],
             [
              0.8888888888888888,
              "#fdca26"
             ],
             [
              1,
              "#f0f921"
             ]
            ],
            "type": "surface"
           }
          ],
          "table": [
           {
            "cells": {
             "fill": {
              "color": "#EBF0F8"
             },
             "line": {
              "color": "white"
             }
            },
            "header": {
             "fill": {
              "color": "#C8D4E3"
             },
             "line": {
              "color": "white"
             }
            },
            "type": "table"
           }
          ]
         },
         "layout": {
          "annotationdefaults": {
           "arrowcolor": "#2a3f5f",
           "arrowhead": 0,
           "arrowwidth": 1
          },
          "autotypenumbers": "strict",
          "coloraxis": {
           "colorbar": {
            "outlinewidth": 0,
            "ticks": ""
           }
          },
          "colorscale": {
           "diverging": [
            [
             0,
             "#8e0152"
            ],
            [
             0.1,
             "#c51b7d"
            ],
            [
             0.2,
             "#de77ae"
            ],
            [
             0.3,
             "#f1b6da"
            ],
            [
             0.4,
             "#fde0ef"
            ],
            [
             0.5,
             "#f7f7f7"
            ],
            [
             0.6,
             "#e6f5d0"
            ],
            [
             0.7,
             "#b8e186"
            ],
            [
             0.8,
             "#7fbc41"
            ],
            [
             0.9,
             "#4d9221"
            ],
            [
             1,
             "#276419"
            ]
           ],
           "sequential": [
            [
             0,
             "#0d0887"
            ],
            [
             0.1111111111111111,
             "#46039f"
            ],
            [
             0.2222222222222222,
             "#7201a8"
            ],
            [
             0.3333333333333333,
             "#9c179e"
            ],
            [
             0.4444444444444444,
             "#bd3786"
            ],
            [
             0.5555555555555556,
             "#d8576b"
            ],
            [
             0.6666666666666666,
             "#ed7953"
            ],
            [
             0.7777777777777778,
             "#fb9f3a"
            ],
            [
             0.8888888888888888,
             "#fdca26"
            ],
            [
             1,
             "#f0f921"
            ]
           ],
           "sequentialminus": [
            [
             0,
             "#0d0887"
            ],
            [
             0.1111111111111111,
             "#46039f"
            ],
            [
             0.2222222222222222,
             "#7201a8"
            ],
            [
             0.3333333333333333,
             "#9c179e"
            ],
            [
             0.4444444444444444,
             "#bd3786"
            ],
            [
             0.5555555555555556,
             "#d8576b"
            ],
            [
             0.6666666666666666,
             "#ed7953"
            ],
            [
             0.7777777777777778,
             "#fb9f3a"
            ],
            [
             0.8888888888888888,
             "#fdca26"
            ],
            [
             1,
             "#f0f921"
            ]
           ]
          },
          "colorway": [
           "#636efa",
           "#EF553B",
           "#00cc96",
           "#ab63fa",
           "#FFA15A",
           "#19d3f3",
           "#FF6692",
           "#B6E880",
           "#FF97FF",
           "#FECB52"
          ],
          "font": {
           "color": "#2a3f5f"
          },
          "geo": {
           "bgcolor": "white",
           "lakecolor": "white",
           "landcolor": "#E5ECF6",
           "showlakes": true,
           "showland": true,
           "subunitcolor": "white"
          },
          "hoverlabel": {
           "align": "left"
          },
          "hovermode": "closest",
          "mapbox": {
           "style": "light"
          },
          "paper_bgcolor": "white",
          "plot_bgcolor": "#E5ECF6",
          "polar": {
           "angularaxis": {
            "gridcolor": "white",
            "linecolor": "white",
            "ticks": ""
           },
           "bgcolor": "#E5ECF6",
           "radialaxis": {
            "gridcolor": "white",
            "linecolor": "white",
            "ticks": ""
           }
          },
          "scene": {
           "xaxis": {
            "backgroundcolor": "#E5ECF6",
            "gridcolor": "white",
            "gridwidth": 2,
            "linecolor": "white",
            "showbackground": true,
            "ticks": "",
            "zerolinecolor": "white"
           },
           "yaxis": {
            "backgroundcolor": "#E5ECF6",
            "gridcolor": "white",
            "gridwidth": 2,
            "linecolor": "white",
            "showbackground": true,
            "ticks": "",
            "zerolinecolor": "white"
           },
           "zaxis": {
            "backgroundcolor": "#E5ECF6",
            "gridcolor": "white",
            "gridwidth": 2,
            "linecolor": "white",
            "showbackground": true,
            "ticks": "",
            "zerolinecolor": "white"
           }
          },
          "shapedefaults": {
           "line": {
            "color": "#2a3f5f"
           }
          },
          "ternary": {
           "aaxis": {
            "gridcolor": "white",
            "linecolor": "white",
            "ticks": ""
           },
           "baxis": {
            "gridcolor": "white",
            "linecolor": "white",
            "ticks": ""
           },
           "bgcolor": "#E5ECF6",
           "caxis": {
            "gridcolor": "white",
            "linecolor": "white",
            "ticks": ""
           }
          },
          "title": {
           "x": 0.05
          },
          "xaxis": {
           "automargin": true,
           "gridcolor": "white",
           "linecolor": "white",
           "ticks": "",
           "title": {
            "standoff": 15
           },
           "zerolinecolor": "white",
           "zerolinewidth": 2
          },
          "yaxis": {
           "automargin": true,
           "gridcolor": "white",
           "linecolor": "white",
           "ticks": "",
           "title": {
            "standoff": 15
           },
           "zerolinecolor": "white",
           "zerolinewidth": 2
          }
         }
        },
        "title": {
         "text": "Scatter plots of grants by round"
        },
        "xaxis": {
         "anchor": "y",
         "domain": [
          0,
          1
         ],
         "title": {
          "text": "holders_ratio"
         }
        },
        "yaxis": {
         "anchor": "x",
         "domain": [
          0,
          1
         ],
         "title": {
          "text": "amount_per_contributor"
         }
        }
       }
      }
     },
     "metadata": {},
     "output_type": "display_data"
    }
   ],
   "source": [
    "fig = px.scatter(combined,\n",
    "    x='holders_ratio', y='amount_per_contributor',\n",
    "    color=\"round\"\n",
    "    ,title='Scatter plots of grants by round')\n",
    "\n",
    "fig.show()"
   ]
  },
  {
   "cell_type": "code",
   "execution_count": 50,
   "metadata": {},
   "outputs": [
    {
     "data": {
      "application/vnd.plotly.v1+json": {
       "config": {
        "plotlyServerURL": "https://plot.ly"
       },
       "data": [
        {
         "alignmentgroup": "True",
         "bingroup": "x",
         "hovertemplate": "holders_ratio_category=normal<br>amount_per_contributor=%{x}<br>count=%{y}<extra></extra>",
         "legendgroup": "normal",
         "marker": {
          "color": "#636efa",
          "pattern": {
           "shape": ""
          }
         },
         "name": "normal",
         "offsetgroup": "normal",
         "orientation": "v",
         "showlegend": true,
         "type": "histogram",
         "x": [
          0.1777299791624305,
          0.1748208079956384,
          0.14290788497821352,
          0.2929046650999867,
          0.3182603157208168,
          0.19240257151027465,
          0.41299421351773274,
          0.3420549990445271,
          1.1518972665923088,
          0.20798703674289976,
          0.307964408012301,
          0.26937436374102014,
          1.246522828425354,
          0.325784332074894,
          1.4051531384294067,
          0.6876036102702896,
          0.13963728878567483,
          0.6690391895132256,
          0.24703251007103263,
          0.27357719040168094,
          0.3203211858322007,
          1.6133930959553797,
          0.325382315980628,
          1.0693139671556622,
          0.3764925482909538,
          0.796450929411069,
          0.9508255408626227,
          0.26436160926532865,
          0.3856337569424433,
          0.2745346855909218
         ],
         "xaxis": "x",
         "yaxis": "y"
        },
        {
         "alignmentgroup": "True",
         "hovertemplate": "holders_ratio_category=normal<br>amount_per_contributor=%{x}<extra></extra>",
         "legendgroup": "normal",
         "marker": {
          "color": "#636efa"
         },
         "name": "normal",
         "notched": true,
         "offsetgroup": "normal",
         "showlegend": false,
         "type": "box",
         "x": [
          0.1777299791624305,
          0.1748208079956384,
          0.14290788497821352,
          0.2929046650999867,
          0.3182603157208168,
          0.19240257151027465,
          0.41299421351773274,
          0.3420549990445271,
          1.1518972665923088,
          0.20798703674289976,
          0.307964408012301,
          0.26937436374102014,
          1.246522828425354,
          0.325784332074894,
          1.4051531384294067,
          0.6876036102702896,
          0.13963728878567483,
          0.6690391895132256,
          0.24703251007103263,
          0.27357719040168094,
          0.3203211858322007,
          1.6133930959553797,
          0.325382315980628,
          1.0693139671556622,
          0.3764925482909538,
          0.796450929411069,
          0.9508255408626227,
          0.26436160926532865,
          0.3856337569424433,
          0.2745346855909218
         ],
         "xaxis": "x2",
         "yaxis": "y2"
        },
        {
         "alignmentgroup": "True",
         "bingroup": "x",
         "hovertemplate": "holders_ratio_category=high<br>amount_per_contributor=%{x}<br>count=%{y}<extra></extra>",
         "legendgroup": "high",
         "marker": {
          "color": "#EF553B",
          "pattern": {
           "shape": ""
          }
         },
         "name": "high",
         "offsetgroup": "high",
         "orientation": "v",
         "showlegend": true,
         "type": "histogram",
         "x": [
          0.4464949406280195,
          0.5639510803050367,
          0.1940154616438974,
          1.276605652732688,
          0.25356830357216187,
          0.9435187872381324,
          0.9080070846016934,
          0.4958141854507438,
          0.5016704654938671,
          0.3028191965506114,
          0.6705428255504609,
          0.21162303169306276,
          0.28671293420596444,
          0.21505731736759312,
          0.32833711043985914,
          1.159777286833921,
          0.4417009343343478,
          0.43529742061224946,
          1.056177995486106,
          0.3573515393580733,
          0.4493792323591356,
          1.2921974646507748,
          0.3384958964571189,
          1.3535926852854836,
          0.9226651226803521,
          0.331357432105703,
          0.613336382044521,
          0.450136392894344,
          0.4712394105064429
         ],
         "xaxis": "x",
         "yaxis": "y"
        },
        {
         "alignmentgroup": "True",
         "hovertemplate": "holders_ratio_category=high<br>amount_per_contributor=%{x}<extra></extra>",
         "legendgroup": "high",
         "marker": {
          "color": "#EF553B"
         },
         "name": "high",
         "notched": true,
         "offsetgroup": "high",
         "showlegend": false,
         "type": "box",
         "x": [
          0.4464949406280195,
          0.5639510803050367,
          0.1940154616438974,
          1.276605652732688,
          0.25356830357216187,
          0.9435187872381324,
          0.9080070846016934,
          0.4958141854507438,
          0.5016704654938671,
          0.3028191965506114,
          0.6705428255504609,
          0.21162303169306276,
          0.28671293420596444,
          0.21505731736759312,
          0.32833711043985914,
          1.159777286833921,
          0.4417009343343478,
          0.43529742061224946,
          1.056177995486106,
          0.3573515393580733,
          0.4493792323591356,
          1.2921974646507748,
          0.3384958964571189,
          1.3535926852854836,
          0.9226651226803521,
          0.331357432105703,
          0.613336382044521,
          0.450136392894344,
          0.4712394105064429
         ],
         "xaxis": "x2",
         "yaxis": "y2"
        },
        {
         "alignmentgroup": "True",
         "bingroup": "x",
         "hovertemplate": "holders_ratio_category=low<br>amount_per_contributor=%{x}<br>count=%{y}<extra></extra>",
         "legendgroup": "low",
         "marker": {
          "color": "#00cc96",
          "pattern": {
           "shape": ""
          }
         },
         "name": "low",
         "offsetgroup": "low",
         "orientation": "v",
         "showlegend": true,
         "type": "histogram",
         "x": [
          0.4117580744467677,
          0.7670400987840326,
          0.6866457157182703,
          0.6309708437801902,
          0.13786211188058153,
          0.20362628085486242,
          0.10698878859036533,
          0.27402080922236544,
          0.12475764545143478,
          0.2320449919931975,
          0.1732177337280025,
          0.22372398535727622,
          1.3947812106554056,
          0.9776973526490481,
          0.15157842246151823,
          0.19952756315609366,
          0.2970665359993415,
          0.16112008798976743,
          0.15281315137976048,
          0.11501196036213147,
          0.17972390968810414,
          0.146829227472091,
          0.15437604792719062,
          0.5819283896469427,
          0.16359383822617182,
          0.1731302314051571,
          0.1359875575387956,
          0.3127470032140484,
          0.19163359535133845
         ],
         "xaxis": "x",
         "yaxis": "y"
        },
        {
         "alignmentgroup": "True",
         "hovertemplate": "holders_ratio_category=low<br>amount_per_contributor=%{x}<extra></extra>",
         "legendgroup": "low",
         "marker": {
          "color": "#00cc96"
         },
         "name": "low",
         "notched": true,
         "offsetgroup": "low",
         "showlegend": false,
         "type": "box",
         "x": [
          0.4117580744467677,
          0.7670400987840326,
          0.6866457157182703,
          0.6309708437801902,
          0.13786211188058153,
          0.20362628085486242,
          0.10698878859036533,
          0.27402080922236544,
          0.12475764545143478,
          0.2320449919931975,
          0.1732177337280025,
          0.22372398535727622,
          1.3947812106554056,
          0.9776973526490481,
          0.15157842246151823,
          0.19952756315609366,
          0.2970665359993415,
          0.16112008798976743,
          0.15281315137976048,
          0.11501196036213147,
          0.17972390968810414,
          0.146829227472091,
          0.15437604792719062,
          0.5819283896469427,
          0.16359383822617182,
          0.1731302314051571,
          0.1359875575387956,
          0.3127470032140484,
          0.19163359535133845
         ],
         "xaxis": "x2",
         "yaxis": "y2"
        }
       ],
       "layout": {
        "barmode": "relative",
        "legend": {
         "title": {
          "text": "holders_ratio_category"
         },
         "tracegroupgap": 0
        },
        "template": {
         "data": {
          "bar": [
           {
            "error_x": {
             "color": "#2a3f5f"
            },
            "error_y": {
             "color": "#2a3f5f"
            },
            "marker": {
             "line": {
              "color": "#E5ECF6",
              "width": 0.5
             },
             "pattern": {
              "fillmode": "overlay",
              "size": 10,
              "solidity": 0.2
             }
            },
            "type": "bar"
           }
          ],
          "barpolar": [
           {
            "marker": {
             "line": {
              "color": "#E5ECF6",
              "width": 0.5
             },
             "pattern": {
              "fillmode": "overlay",
              "size": 10,
              "solidity": 0.2
             }
            },
            "type": "barpolar"
           }
          ],
          "carpet": [
           {
            "aaxis": {
             "endlinecolor": "#2a3f5f",
             "gridcolor": "white",
             "linecolor": "white",
             "minorgridcolor": "white",
             "startlinecolor": "#2a3f5f"
            },
            "baxis": {
             "endlinecolor": "#2a3f5f",
             "gridcolor": "white",
             "linecolor": "white",
             "minorgridcolor": "white",
             "startlinecolor": "#2a3f5f"
            },
            "type": "carpet"
           }
          ],
          "choropleth": [
           {
            "colorbar": {
             "outlinewidth": 0,
             "ticks": ""
            },
            "type": "choropleth"
           }
          ],
          "contour": [
           {
            "colorbar": {
             "outlinewidth": 0,
             "ticks": ""
            },
            "colorscale": [
             [
              0,
              "#0d0887"
             ],
             [
              0.1111111111111111,
              "#46039f"
             ],
             [
              0.2222222222222222,
              "#7201a8"
             ],
             [
              0.3333333333333333,
              "#9c179e"
             ],
             [
              0.4444444444444444,
              "#bd3786"
             ],
             [
              0.5555555555555556,
              "#d8576b"
             ],
             [
              0.6666666666666666,
              "#ed7953"
             ],
             [
              0.7777777777777778,
              "#fb9f3a"
             ],
             [
              0.8888888888888888,
              "#fdca26"
             ],
             [
              1,
              "#f0f921"
             ]
            ],
            "type": "contour"
           }
          ],
          "contourcarpet": [
           {
            "colorbar": {
             "outlinewidth": 0,
             "ticks": ""
            },
            "type": "contourcarpet"
           }
          ],
          "heatmap": [
           {
            "colorbar": {
             "outlinewidth": 0,
             "ticks": ""
            },
            "colorscale": [
             [
              0,
              "#0d0887"
             ],
             [
              0.1111111111111111,
              "#46039f"
             ],
             [
              0.2222222222222222,
              "#7201a8"
             ],
             [
              0.3333333333333333,
              "#9c179e"
             ],
             [
              0.4444444444444444,
              "#bd3786"
             ],
             [
              0.5555555555555556,
              "#d8576b"
             ],
             [
              0.6666666666666666,
              "#ed7953"
             ],
             [
              0.7777777777777778,
              "#fb9f3a"
             ],
             [
              0.8888888888888888,
              "#fdca26"
             ],
             [
              1,
              "#f0f921"
             ]
            ],
            "type": "heatmap"
           }
          ],
          "heatmapgl": [
           {
            "colorbar": {
             "outlinewidth": 0,
             "ticks": ""
            },
            "colorscale": [
             [
              0,
              "#0d0887"
             ],
             [
              0.1111111111111111,
              "#46039f"
             ],
             [
              0.2222222222222222,
              "#7201a8"
             ],
             [
              0.3333333333333333,
              "#9c179e"
             ],
             [
              0.4444444444444444,
              "#bd3786"
             ],
             [
              0.5555555555555556,
              "#d8576b"
             ],
             [
              0.6666666666666666,
              "#ed7953"
             ],
             [
              0.7777777777777778,
              "#fb9f3a"
             ],
             [
              0.8888888888888888,
              "#fdca26"
             ],
             [
              1,
              "#f0f921"
             ]
            ],
            "type": "heatmapgl"
           }
          ],
          "histogram": [
           {
            "marker": {
             "pattern": {
              "fillmode": "overlay",
              "size": 10,
              "solidity": 0.2
             }
            },
            "type": "histogram"
           }
          ],
          "histogram2d": [
           {
            "colorbar": {
             "outlinewidth": 0,
             "ticks": ""
            },
            "colorscale": [
             [
              0,
              "#0d0887"
             ],
             [
              0.1111111111111111,
              "#46039f"
             ],
             [
              0.2222222222222222,
              "#7201a8"
             ],
             [
              0.3333333333333333,
              "#9c179e"
             ],
             [
              0.4444444444444444,
              "#bd3786"
             ],
             [
              0.5555555555555556,
              "#d8576b"
             ],
             [
              0.6666666666666666,
              "#ed7953"
             ],
             [
              0.7777777777777778,
              "#fb9f3a"
             ],
             [
              0.8888888888888888,
              "#fdca26"
             ],
             [
              1,
              "#f0f921"
             ]
            ],
            "type": "histogram2d"
           }
          ],
          "histogram2dcontour": [
           {
            "colorbar": {
             "outlinewidth": 0,
             "ticks": ""
            },
            "colorscale": [
             [
              0,
              "#0d0887"
             ],
             [
              0.1111111111111111,
              "#46039f"
             ],
             [
              0.2222222222222222,
              "#7201a8"
             ],
             [
              0.3333333333333333,
              "#9c179e"
             ],
             [
              0.4444444444444444,
              "#bd3786"
             ],
             [
              0.5555555555555556,
              "#d8576b"
             ],
             [
              0.6666666666666666,
              "#ed7953"
             ],
             [
              0.7777777777777778,
              "#fb9f3a"
             ],
             [
              0.8888888888888888,
              "#fdca26"
             ],
             [
              1,
              "#f0f921"
             ]
            ],
            "type": "histogram2dcontour"
           }
          ],
          "mesh3d": [
           {
            "colorbar": {
             "outlinewidth": 0,
             "ticks": ""
            },
            "type": "mesh3d"
           }
          ],
          "parcoords": [
           {
            "line": {
             "colorbar": {
              "outlinewidth": 0,
              "ticks": ""
             }
            },
            "type": "parcoords"
           }
          ],
          "pie": [
           {
            "automargin": true,
            "type": "pie"
           }
          ],
          "scatter": [
           {
            "fillpattern": {
             "fillmode": "overlay",
             "size": 10,
             "solidity": 0.2
            },
            "type": "scatter"
           }
          ],
          "scatter3d": [
           {
            "line": {
             "colorbar": {
              "outlinewidth": 0,
              "ticks": ""
             }
            },
            "marker": {
             "colorbar": {
              "outlinewidth": 0,
              "ticks": ""
             }
            },
            "type": "scatter3d"
           }
          ],
          "scattercarpet": [
           {
            "marker": {
             "colorbar": {
              "outlinewidth": 0,
              "ticks": ""
             }
            },
            "type": "scattercarpet"
           }
          ],
          "scattergeo": [
           {
            "marker": {
             "colorbar": {
              "outlinewidth": 0,
              "ticks": ""
             }
            },
            "type": "scattergeo"
           }
          ],
          "scattergl": [
           {
            "marker": {
             "colorbar": {
              "outlinewidth": 0,
              "ticks": ""
             }
            },
            "type": "scattergl"
           }
          ],
          "scattermapbox": [
           {
            "marker": {
             "colorbar": {
              "outlinewidth": 0,
              "ticks": ""
             }
            },
            "type": "scattermapbox"
           }
          ],
          "scatterpolar": [
           {
            "marker": {
             "colorbar": {
              "outlinewidth": 0,
              "ticks": ""
             }
            },
            "type": "scatterpolar"
           }
          ],
          "scatterpolargl": [
           {
            "marker": {
             "colorbar": {
              "outlinewidth": 0,
              "ticks": ""
             }
            },
            "type": "scatterpolargl"
           }
          ],
          "scatterternary": [
           {
            "marker": {
             "colorbar": {
              "outlinewidth": 0,
              "ticks": ""
             }
            },
            "type": "scatterternary"
           }
          ],
          "surface": [
           {
            "colorbar": {
             "outlinewidth": 0,
             "ticks": ""
            },
            "colorscale": [
             [
              0,
              "#0d0887"
             ],
             [
              0.1111111111111111,
              "#46039f"
             ],
             [
              0.2222222222222222,
              "#7201a8"
             ],
             [
              0.3333333333333333,
              "#9c179e"
             ],
             [
              0.4444444444444444,
              "#bd3786"
             ],
             [
              0.5555555555555556,
              "#d8576b"
             ],
             [
              0.6666666666666666,
              "#ed7953"
             ],
             [
              0.7777777777777778,
              "#fb9f3a"
             ],
             [
              0.8888888888888888,
              "#fdca26"
             ],
             [
              1,
              "#f0f921"
             ]
            ],
            "type": "surface"
           }
          ],
          "table": [
           {
            "cells": {
             "fill": {
              "color": "#EBF0F8"
             },
             "line": {
              "color": "white"
             }
            },
            "header": {
             "fill": {
              "color": "#C8D4E3"
             },
             "line": {
              "color": "white"
             }
            },
            "type": "table"
           }
          ]
         },
         "layout": {
          "annotationdefaults": {
           "arrowcolor": "#2a3f5f",
           "arrowhead": 0,
           "arrowwidth": 1
          },
          "autotypenumbers": "strict",
          "coloraxis": {
           "colorbar": {
            "outlinewidth": 0,
            "ticks": ""
           }
          },
          "colorscale": {
           "diverging": [
            [
             0,
             "#8e0152"
            ],
            [
             0.1,
             "#c51b7d"
            ],
            [
             0.2,
             "#de77ae"
            ],
            [
             0.3,
             "#f1b6da"
            ],
            [
             0.4,
             "#fde0ef"
            ],
            [
             0.5,
             "#f7f7f7"
            ],
            [
             0.6,
             "#e6f5d0"
            ],
            [
             0.7,
             "#b8e186"
            ],
            [
             0.8,
             "#7fbc41"
            ],
            [
             0.9,
             "#4d9221"
            ],
            [
             1,
             "#276419"
            ]
           ],
           "sequential": [
            [
             0,
             "#0d0887"
            ],
            [
             0.1111111111111111,
             "#46039f"
            ],
            [
             0.2222222222222222,
             "#7201a8"
            ],
            [
             0.3333333333333333,
             "#9c179e"
            ],
            [
             0.4444444444444444,
             "#bd3786"
            ],
            [
             0.5555555555555556,
             "#d8576b"
            ],
            [
             0.6666666666666666,
             "#ed7953"
            ],
            [
             0.7777777777777778,
             "#fb9f3a"
            ],
            [
             0.8888888888888888,
             "#fdca26"
            ],
            [
             1,
             "#f0f921"
            ]
           ],
           "sequentialminus": [
            [
             0,
             "#0d0887"
            ],
            [
             0.1111111111111111,
             "#46039f"
            ],
            [
             0.2222222222222222,
             "#7201a8"
            ],
            [
             0.3333333333333333,
             "#9c179e"
            ],
            [
             0.4444444444444444,
             "#bd3786"
            ],
            [
             0.5555555555555556,
             "#d8576b"
            ],
            [
             0.6666666666666666,
             "#ed7953"
            ],
            [
             0.7777777777777778,
             "#fb9f3a"
            ],
            [
             0.8888888888888888,
             "#fdca26"
            ],
            [
             1,
             "#f0f921"
            ]
           ]
          },
          "colorway": [
           "#636efa",
           "#EF553B",
           "#00cc96",
           "#ab63fa",
           "#FFA15A",
           "#19d3f3",
           "#FF6692",
           "#B6E880",
           "#FF97FF",
           "#FECB52"
          ],
          "font": {
           "color": "#2a3f5f"
          },
          "geo": {
           "bgcolor": "white",
           "lakecolor": "white",
           "landcolor": "#E5ECF6",
           "showlakes": true,
           "showland": true,
           "subunitcolor": "white"
          },
          "hoverlabel": {
           "align": "left"
          },
          "hovermode": "closest",
          "mapbox": {
           "style": "light"
          },
          "paper_bgcolor": "white",
          "plot_bgcolor": "#E5ECF6",
          "polar": {
           "angularaxis": {
            "gridcolor": "white",
            "linecolor": "white",
            "ticks": ""
           },
           "bgcolor": "#E5ECF6",
           "radialaxis": {
            "gridcolor": "white",
            "linecolor": "white",
            "ticks": ""
           }
          },
          "scene": {
           "xaxis": {
            "backgroundcolor": "#E5ECF6",
            "gridcolor": "white",
            "gridwidth": 2,
            "linecolor": "white",
            "showbackground": true,
            "ticks": "",
            "zerolinecolor": "white"
           },
           "yaxis": {
            "backgroundcolor": "#E5ECF6",
            "gridcolor": "white",
            "gridwidth": 2,
            "linecolor": "white",
            "showbackground": true,
            "ticks": "",
            "zerolinecolor": "white"
           },
           "zaxis": {
            "backgroundcolor": "#E5ECF6",
            "gridcolor": "white",
            "gridwidth": 2,
            "linecolor": "white",
            "showbackground": true,
            "ticks": "",
            "zerolinecolor": "white"
           }
          },
          "shapedefaults": {
           "line": {
            "color": "#2a3f5f"
           }
          },
          "ternary": {
           "aaxis": {
            "gridcolor": "white",
            "linecolor": "white",
            "ticks": ""
           },
           "baxis": {
            "gridcolor": "white",
            "linecolor": "white",
            "ticks": ""
           },
           "bgcolor": "#E5ECF6",
           "caxis": {
            "gridcolor": "white",
            "linecolor": "white",
            "ticks": ""
           }
          },
          "title": {
           "x": 0.05
          },
          "xaxis": {
           "automargin": true,
           "gridcolor": "white",
           "linecolor": "white",
           "ticks": "",
           "title": {
            "standoff": 15
           },
           "zerolinecolor": "white",
           "zerolinewidth": 2
          },
          "yaxis": {
           "automargin": true,
           "gridcolor": "white",
           "linecolor": "white",
           "ticks": "",
           "title": {
            "standoff": 15
           },
           "zerolinecolor": "white",
           "zerolinewidth": 2
          }
         }
        },
        "title": {
         "text": "fantom hist"
        },
        "xaxis": {
         "anchor": "y",
         "domain": [
          0,
          1
         ],
         "title": {
          "text": "amount_per_contributor"
         }
        },
        "xaxis2": {
         "anchor": "y2",
         "domain": [
          0,
          1
         ],
         "matches": "x",
         "showgrid": true,
         "showticklabels": false
        },
        "yaxis": {
         "anchor": "x",
         "domain": [
          0,
          0.7326
         ],
         "title": {
          "text": "count"
         }
        },
        "yaxis2": {
         "anchor": "x2",
         "domain": [
          0.7426,
          1
         ],
         "matches": "y2",
         "showgrid": false,
         "showline": false,
         "showticklabels": false,
         "ticks": ""
        }
       }
      }
     },
     "metadata": {},
     "output_type": "display_data"
    }
   ],
   "source": [
    "contributors_hist = px.histogram(fantom_by_ratio, x=\"amount_per_contributor\", color=\"holders_ratio_category\",\n",
    "                   marginal=\"box\", # or violin, rug\n",
    "                   title='Histgram of amount_per_contributor of Fantom grants'\n",
    "                   )\n",
    "contributors_hist.show()"
   ]
  },
  {
   "cell_type": "code",
   "execution_count": 54,
   "metadata": {},
   "outputs": [
    {
     "data": {
      "application/vnd.plotly.v1+json": {
       "config": {
        "plotlyServerURL": "https://plot.ly"
       },
       "data": [
        {
         "alignmentgroup": "True",
         "bingroup": "x",
         "hovertemplate": "holders_ratio_category=normal<br>contributor_count=%{x}<br>count=%{y}<extra></extra>",
         "legendgroup": "normal",
         "marker": {
          "color": "#636efa",
          "pattern": {
           "shape": ""
          }
         },
         "name": "normal",
         "offsetgroup": "normal",
         "orientation": "v",
         "showlegend": true,
         "type": "histogram",
         "x": [
          1547,
          1676,
          1433,
          1505,
          1714,
          1602,
          1482,
          1681,
          9056,
          1776,
          1608,
          1784,
          1978,
          1745,
          2006,
          3073,
          1630,
          1609,
          1685,
          1517,
          1873,
          2364,
          2363,
          8252,
          2013,
          2348,
          1628,
          1710,
          1588,
          1996
         ],
         "xaxis": "x",
         "yaxis": "y"
        },
        {
         "alignmentgroup": "True",
         "hovertemplate": "holders_ratio_category=normal<br>contributor_count=%{x}<extra></extra>",
         "legendgroup": "normal",
         "marker": {
          "color": "#636efa"
         },
         "name": "normal",
         "notched": true,
         "offsetgroup": "normal",
         "showlegend": false,
         "type": "box",
         "x": [
          1547,
          1676,
          1433,
          1505,
          1714,
          1602,
          1482,
          1681,
          9056,
          1776,
          1608,
          1784,
          1978,
          1745,
          2006,
          3073,
          1630,
          1609,
          1685,
          1517,
          1873,
          2364,
          2363,
          8252,
          2013,
          2348,
          1628,
          1710,
          1588,
          1996
         ],
         "xaxis": "x2",
         "yaxis": "y2"
        },
        {
         "alignmentgroup": "True",
         "bingroup": "x",
         "hovertemplate": "holders_ratio_category=high<br>contributor_count=%{x}<br>count=%{y}<extra></extra>",
         "legendgroup": "high",
         "marker": {
          "color": "#EF553B",
          "pattern": {
           "shape": ""
          }
         },
         "name": "high",
         "offsetgroup": "high",
         "orientation": "v",
         "showlegend": true,
         "type": "histogram",
         "x": [
          1540,
          8507,
          1989,
          3880,
          1915,
          10511,
          11236,
          2998,
          1911,
          2401,
          5498,
          1976,
          2701,
          1691,
          2939,
          2099,
          2576,
          3311,
          3363,
          2783,
          3672,
          3808,
          2599,
          2065,
          12082,
          2492,
          3758,
          2901,
          2872
         ],
         "xaxis": "x",
         "yaxis": "y"
        },
        {
         "alignmentgroup": "True",
         "hovertemplate": "holders_ratio_category=high<br>contributor_count=%{x}<extra></extra>",
         "legendgroup": "high",
         "marker": {
          "color": "#EF553B"
         },
         "name": "high",
         "notched": true,
         "offsetgroup": "high",
         "showlegend": false,
         "type": "box",
         "x": [
          1540,
          8507,
          1989,
          3880,
          1915,
          10511,
          11236,
          2998,
          1911,
          2401,
          5498,
          1976,
          2701,
          1691,
          2939,
          2099,
          2576,
          3311,
          3363,
          2783,
          3672,
          3808,
          2599,
          2065,
          12082,
          2492,
          3758,
          2901,
          2872
         ],
         "xaxis": "x2",
         "yaxis": "y2"
        },
        {
         "alignmentgroup": "True",
         "bingroup": "x",
         "hovertemplate": "holders_ratio_category=low<br>contributor_count=%{x}<br>count=%{y}<extra></extra>",
         "legendgroup": "low",
         "marker": {
          "color": "#00cc96",
          "pattern": {
           "shape": ""
          }
         },
         "name": "low",
         "offsetgroup": "low",
         "orientation": "v",
         "showlegend": true,
         "type": "histogram",
         "x": [
          4124,
          2212,
          4942,
          5574,
          1496,
          1563,
          1396,
          1412,
          1380,
          1448,
          1592,
          1564,
          1467,
          5293,
          1370,
          1559,
          1549,
          1419,
          1503,
          1445,
          1498,
          1516,
          1495,
          1642,
          1711,
          1464,
          1370,
          1529,
          1554
         ],
         "xaxis": "x",
         "yaxis": "y"
        },
        {
         "alignmentgroup": "True",
         "hovertemplate": "holders_ratio_category=low<br>contributor_count=%{x}<extra></extra>",
         "legendgroup": "low",
         "marker": {
          "color": "#00cc96"
         },
         "name": "low",
         "notched": true,
         "offsetgroup": "low",
         "showlegend": false,
         "type": "box",
         "x": [
          4124,
          2212,
          4942,
          5574,
          1496,
          1563,
          1396,
          1412,
          1380,
          1448,
          1592,
          1564,
          1467,
          5293,
          1370,
          1559,
          1549,
          1419,
          1503,
          1445,
          1498,
          1516,
          1495,
          1642,
          1711,
          1464,
          1370,
          1529,
          1554
         ],
         "xaxis": "x2",
         "yaxis": "y2"
        }
       ],
       "layout": {
        "barmode": "relative",
        "legend": {
         "title": {
          "text": "holders_ratio_category"
         },
         "tracegroupgap": 0
        },
        "template": {
         "data": {
          "bar": [
           {
            "error_x": {
             "color": "#2a3f5f"
            },
            "error_y": {
             "color": "#2a3f5f"
            },
            "marker": {
             "line": {
              "color": "#E5ECF6",
              "width": 0.5
             },
             "pattern": {
              "fillmode": "overlay",
              "size": 10,
              "solidity": 0.2
             }
            },
            "type": "bar"
           }
          ],
          "barpolar": [
           {
            "marker": {
             "line": {
              "color": "#E5ECF6",
              "width": 0.5
             },
             "pattern": {
              "fillmode": "overlay",
              "size": 10,
              "solidity": 0.2
             }
            },
            "type": "barpolar"
           }
          ],
          "carpet": [
           {
            "aaxis": {
             "endlinecolor": "#2a3f5f",
             "gridcolor": "white",
             "linecolor": "white",
             "minorgridcolor": "white",
             "startlinecolor": "#2a3f5f"
            },
            "baxis": {
             "endlinecolor": "#2a3f5f",
             "gridcolor": "white",
             "linecolor": "white",
             "minorgridcolor": "white",
             "startlinecolor": "#2a3f5f"
            },
            "type": "carpet"
           }
          ],
          "choropleth": [
           {
            "colorbar": {
             "outlinewidth": 0,
             "ticks": ""
            },
            "type": "choropleth"
           }
          ],
          "contour": [
           {
            "colorbar": {
             "outlinewidth": 0,
             "ticks": ""
            },
            "colorscale": [
             [
              0,
              "#0d0887"
             ],
             [
              0.1111111111111111,
              "#46039f"
             ],
             [
              0.2222222222222222,
              "#7201a8"
             ],
             [
              0.3333333333333333,
              "#9c179e"
             ],
             [
              0.4444444444444444,
              "#bd3786"
             ],
             [
              0.5555555555555556,
              "#d8576b"
             ],
             [
              0.6666666666666666,
              "#ed7953"
             ],
             [
              0.7777777777777778,
              "#fb9f3a"
             ],
             [
              0.8888888888888888,
              "#fdca26"
             ],
             [
              1,
              "#f0f921"
             ]
            ],
            "type": "contour"
           }
          ],
          "contourcarpet": [
           {
            "colorbar": {
             "outlinewidth": 0,
             "ticks": ""
            },
            "type": "contourcarpet"
           }
          ],
          "heatmap": [
           {
            "colorbar": {
             "outlinewidth": 0,
             "ticks": ""
            },
            "colorscale": [
             [
              0,
              "#0d0887"
             ],
             [
              0.1111111111111111,
              "#46039f"
             ],
             [
              0.2222222222222222,
              "#7201a8"
             ],
             [
              0.3333333333333333,
              "#9c179e"
             ],
             [
              0.4444444444444444,
              "#bd3786"
             ],
             [
              0.5555555555555556,
              "#d8576b"
             ],
             [
              0.6666666666666666,
              "#ed7953"
             ],
             [
              0.7777777777777778,
              "#fb9f3a"
             ],
             [
              0.8888888888888888,
              "#fdca26"
             ],
             [
              1,
              "#f0f921"
             ]
            ],
            "type": "heatmap"
           }
          ],
          "heatmapgl": [
           {
            "colorbar": {
             "outlinewidth": 0,
             "ticks": ""
            },
            "colorscale": [
             [
              0,
              "#0d0887"
             ],
             [
              0.1111111111111111,
              "#46039f"
             ],
             [
              0.2222222222222222,
              "#7201a8"
             ],
             [
              0.3333333333333333,
              "#9c179e"
             ],
             [
              0.4444444444444444,
              "#bd3786"
             ],
             [
              0.5555555555555556,
              "#d8576b"
             ],
             [
              0.6666666666666666,
              "#ed7953"
             ],
             [
              0.7777777777777778,
              "#fb9f3a"
             ],
             [
              0.8888888888888888,
              "#fdca26"
             ],
             [
              1,
              "#f0f921"
             ]
            ],
            "type": "heatmapgl"
           }
          ],
          "histogram": [
           {
            "marker": {
             "pattern": {
              "fillmode": "overlay",
              "size": 10,
              "solidity": 0.2
             }
            },
            "type": "histogram"
           }
          ],
          "histogram2d": [
           {
            "colorbar": {
             "outlinewidth": 0,
             "ticks": ""
            },
            "colorscale": [
             [
              0,
              "#0d0887"
             ],
             [
              0.1111111111111111,
              "#46039f"
             ],
             [
              0.2222222222222222,
              "#7201a8"
             ],
             [
              0.3333333333333333,
              "#9c179e"
             ],
             [
              0.4444444444444444,
              "#bd3786"
             ],
             [
              0.5555555555555556,
              "#d8576b"
             ],
             [
              0.6666666666666666,
              "#ed7953"
             ],
             [
              0.7777777777777778,
              "#fb9f3a"
             ],
             [
              0.8888888888888888,
              "#fdca26"
             ],
             [
              1,
              "#f0f921"
             ]
            ],
            "type": "histogram2d"
           }
          ],
          "histogram2dcontour": [
           {
            "colorbar": {
             "outlinewidth": 0,
             "ticks": ""
            },
            "colorscale": [
             [
              0,
              "#0d0887"
             ],
             [
              0.1111111111111111,
              "#46039f"
             ],
             [
              0.2222222222222222,
              "#7201a8"
             ],
             [
              0.3333333333333333,
              "#9c179e"
             ],
             [
              0.4444444444444444,
              "#bd3786"
             ],
             [
              0.5555555555555556,
              "#d8576b"
             ],
             [
              0.6666666666666666,
              "#ed7953"
             ],
             [
              0.7777777777777778,
              "#fb9f3a"
             ],
             [
              0.8888888888888888,
              "#fdca26"
             ],
             [
              1,
              "#f0f921"
             ]
            ],
            "type": "histogram2dcontour"
           }
          ],
          "mesh3d": [
           {
            "colorbar": {
             "outlinewidth": 0,
             "ticks": ""
            },
            "type": "mesh3d"
           }
          ],
          "parcoords": [
           {
            "line": {
             "colorbar": {
              "outlinewidth": 0,
              "ticks": ""
             }
            },
            "type": "parcoords"
           }
          ],
          "pie": [
           {
            "automargin": true,
            "type": "pie"
           }
          ],
          "scatter": [
           {
            "fillpattern": {
             "fillmode": "overlay",
             "size": 10,
             "solidity": 0.2
            },
            "type": "scatter"
           }
          ],
          "scatter3d": [
           {
            "line": {
             "colorbar": {
              "outlinewidth": 0,
              "ticks": ""
             }
            },
            "marker": {
             "colorbar": {
              "outlinewidth": 0,
              "ticks": ""
             }
            },
            "type": "scatter3d"
           }
          ],
          "scattercarpet": [
           {
            "marker": {
             "colorbar": {
              "outlinewidth": 0,
              "ticks": ""
             }
            },
            "type": "scattercarpet"
           }
          ],
          "scattergeo": [
           {
            "marker": {
             "colorbar": {
              "outlinewidth": 0,
              "ticks": ""
             }
            },
            "type": "scattergeo"
           }
          ],
          "scattergl": [
           {
            "marker": {
             "colorbar": {
              "outlinewidth": 0,
              "ticks": ""
             }
            },
            "type": "scattergl"
           }
          ],
          "scattermapbox": [
           {
            "marker": {
             "colorbar": {
              "outlinewidth": 0,
              "ticks": ""
             }
            },
            "type": "scattermapbox"
           }
          ],
          "scatterpolar": [
           {
            "marker": {
             "colorbar": {
              "outlinewidth": 0,
              "ticks": ""
             }
            },
            "type": "scatterpolar"
           }
          ],
          "scatterpolargl": [
           {
            "marker": {
             "colorbar": {
              "outlinewidth": 0,
              "ticks": ""
             }
            },
            "type": "scatterpolargl"
           }
          ],
          "scatterternary": [
           {
            "marker": {
             "colorbar": {
              "outlinewidth": 0,
              "ticks": ""
             }
            },
            "type": "scatterternary"
           }
          ],
          "surface": [
           {
            "colorbar": {
             "outlinewidth": 0,
             "ticks": ""
            },
            "colorscale": [
             [
              0,
              "#0d0887"
             ],
             [
              0.1111111111111111,
              "#46039f"
             ],
             [
              0.2222222222222222,
              "#7201a8"
             ],
             [
              0.3333333333333333,
              "#9c179e"
             ],
             [
              0.4444444444444444,
              "#bd3786"
             ],
             [
              0.5555555555555556,
              "#d8576b"
             ],
             [
              0.6666666666666666,
              "#ed7953"
             ],
             [
              0.7777777777777778,
              "#fb9f3a"
             ],
             [
              0.8888888888888888,
              "#fdca26"
             ],
             [
              1,
              "#f0f921"
             ]
            ],
            "type": "surface"
           }
          ],
          "table": [
           {
            "cells": {
             "fill": {
              "color": "#EBF0F8"
             },
             "line": {
              "color": "white"
             }
            },
            "header": {
             "fill": {
              "color": "#C8D4E3"
             },
             "line": {
              "color": "white"
             }
            },
            "type": "table"
           }
          ]
         },
         "layout": {
          "annotationdefaults": {
           "arrowcolor": "#2a3f5f",
           "arrowhead": 0,
           "arrowwidth": 1
          },
          "autotypenumbers": "strict",
          "coloraxis": {
           "colorbar": {
            "outlinewidth": 0,
            "ticks": ""
           }
          },
          "colorscale": {
           "diverging": [
            [
             0,
             "#8e0152"
            ],
            [
             0.1,
             "#c51b7d"
            ],
            [
             0.2,
             "#de77ae"
            ],
            [
             0.3,
             "#f1b6da"
            ],
            [
             0.4,
             "#fde0ef"
            ],
            [
             0.5,
             "#f7f7f7"
            ],
            [
             0.6,
             "#e6f5d0"
            ],
            [
             0.7,
             "#b8e186"
            ],
            [
             0.8,
             "#7fbc41"
            ],
            [
             0.9,
             "#4d9221"
            ],
            [
             1,
             "#276419"
            ]
           ],
           "sequential": [
            [
             0,
             "#0d0887"
            ],
            [
             0.1111111111111111,
             "#46039f"
            ],
            [
             0.2222222222222222,
             "#7201a8"
            ],
            [
             0.3333333333333333,
             "#9c179e"
            ],
            [
             0.4444444444444444,
             "#bd3786"
            ],
            [
             0.5555555555555556,
             "#d8576b"
            ],
            [
             0.6666666666666666,
             "#ed7953"
            ],
            [
             0.7777777777777778,
             "#fb9f3a"
            ],
            [
             0.8888888888888888,
             "#fdca26"
            ],
            [
             1,
             "#f0f921"
            ]
           ],
           "sequentialminus": [
            [
             0,
             "#0d0887"
            ],
            [
             0.1111111111111111,
             "#46039f"
            ],
            [
             0.2222222222222222,
             "#7201a8"
            ],
            [
             0.3333333333333333,
             "#9c179e"
            ],
            [
             0.4444444444444444,
             "#bd3786"
            ],
            [
             0.5555555555555556,
             "#d8576b"
            ],
            [
             0.6666666666666666,
             "#ed7953"
            ],
            [
             0.7777777777777778,
             "#fb9f3a"
            ],
            [
             0.8888888888888888,
             "#fdca26"
            ],
            [
             1,
             "#f0f921"
            ]
           ]
          },
          "colorway": [
           "#636efa",
           "#EF553B",
           "#00cc96",
           "#ab63fa",
           "#FFA15A",
           "#19d3f3",
           "#FF6692",
           "#B6E880",
           "#FF97FF",
           "#FECB52"
          ],
          "font": {
           "color": "#2a3f5f"
          },
          "geo": {
           "bgcolor": "white",
           "lakecolor": "white",
           "landcolor": "#E5ECF6",
           "showlakes": true,
           "showland": true,
           "subunitcolor": "white"
          },
          "hoverlabel": {
           "align": "left"
          },
          "hovermode": "closest",
          "mapbox": {
           "style": "light"
          },
          "paper_bgcolor": "white",
          "plot_bgcolor": "#E5ECF6",
          "polar": {
           "angularaxis": {
            "gridcolor": "white",
            "linecolor": "white",
            "ticks": ""
           },
           "bgcolor": "#E5ECF6",
           "radialaxis": {
            "gridcolor": "white",
            "linecolor": "white",
            "ticks": ""
           }
          },
          "scene": {
           "xaxis": {
            "backgroundcolor": "#E5ECF6",
            "gridcolor": "white",
            "gridwidth": 2,
            "linecolor": "white",
            "showbackground": true,
            "ticks": "",
            "zerolinecolor": "white"
           },
           "yaxis": {
            "backgroundcolor": "#E5ECF6",
            "gridcolor": "white",
            "gridwidth": 2,
            "linecolor": "white",
            "showbackground": true,
            "ticks": "",
            "zerolinecolor": "white"
           },
           "zaxis": {
            "backgroundcolor": "#E5ECF6",
            "gridcolor": "white",
            "gridwidth": 2,
            "linecolor": "white",
            "showbackground": true,
            "ticks": "",
            "zerolinecolor": "white"
           }
          },
          "shapedefaults": {
           "line": {
            "color": "#2a3f5f"
           }
          },
          "ternary": {
           "aaxis": {
            "gridcolor": "white",
            "linecolor": "white",
            "ticks": ""
           },
           "baxis": {
            "gridcolor": "white",
            "linecolor": "white",
            "ticks": ""
           },
           "bgcolor": "#E5ECF6",
           "caxis": {
            "gridcolor": "white",
            "linecolor": "white",
            "ticks": ""
           }
          },
          "title": {
           "x": 0.05
          },
          "xaxis": {
           "automargin": true,
           "gridcolor": "white",
           "linecolor": "white",
           "ticks": "",
           "title": {
            "standoff": 15
           },
           "zerolinecolor": "white",
           "zerolinewidth": 2
          },
          "yaxis": {
           "automargin": true,
           "gridcolor": "white",
           "linecolor": "white",
           "ticks": "",
           "title": {
            "standoff": 15
           },
           "zerolinecolor": "white",
           "zerolinewidth": 2
          }
         }
        },
        "title": {
         "text": "Histgram of number of contributions of Fantom grants"
        },
        "xaxis": {
         "anchor": "y",
         "domain": [
          0,
          1
         ],
         "title": {
          "text": "contributor_count"
         }
        },
        "xaxis2": {
         "anchor": "y2",
         "domain": [
          0,
          1
         ],
         "matches": "x",
         "showgrid": true,
         "showticklabels": false
        },
        "yaxis": {
         "anchor": "x",
         "domain": [
          0,
          0.7326
         ],
         "title": {
          "text": "count"
         }
        },
        "yaxis2": {
         "anchor": "x2",
         "domain": [
          0.7426,
          1
         ],
         "matches": "y2",
         "showgrid": false,
         "showline": false,
         "showticklabels": false,
         "ticks": ""
        }
       }
      }
     },
     "metadata": {},
     "output_type": "display_data"
    }
   ],
   "source": [
    "contributors_hist = px.histogram(fantom_by_ratio, x=\"contributor_count\", color=\"holders_ratio_category\",\n",
    "                   marginal=\"box\", # or violin, rug\n",
    "                   title='Histgram of number of contributions of Fantom grants'\n",
    "                   )\n",
    "contributors_hist.show()"
   ]
  },
  {
   "cell_type": "code",
   "execution_count": 26,
   "metadata": {},
   "outputs": [
    {
     "data": {
      "application/vnd.plotly.v1+json": {
       "config": {
        "plotlyServerURL": "https://plot.ly"
       },
       "data": [
        {
         "alignmentgroup": "True",
         "bingroup": "x",
         "hovertemplate": "round=gr15<br>amount_per_contributor=%{x}<br>count=%{y}<extra></extra>",
         "legendgroup": "gr15",
         "marker": {
          "color": "#636efa",
          "pattern": {
           "shape": ""
          }
         },
         "name": "gr15",
         "offsetgroup": "gr15",
         "orientation": "v",
         "showlegend": true,
         "type": "histogram",
         "x": [
          9.348001548840001,
          2.5508306709385407,
          10.305504627346938,
          3.2401380010606062,
          11.682703540584049,
          4.273951659408602,
          2.659115149951553,
          11.747216128106725,
          16.496698227826087,
          3.2196044743055556,
          3.968051950617315,
          3.527589909090909,
          9.538078410182926,
          1.6029260088051644,
          4.644431337491685,
          5.726879115291572,
          2.6110548171533963,
          4.260934115416666,
          4.336740619511189,
          11.767427109021659,
          4.053241969680134,
          2.110285205208333,
          1.5542852624999999,
          2.7429390145833334,
          2.417243434425,
          1.352438588880597,
          2.0154879272727273,
          2.7748923357284174,
          9.278284675688452,
          4.838643587288136,
          2.636725725,
          6.660491244777179,
          2.4589399063684207,
          13.839906178268405,
          59.65903525722906,
          2.2438749916666665,
          17.831328794347826,
          4.42149825288761,
          4.128505524881818,
          5.341028597752315,
          11.46592309419806,
          4.6889991475,
          26.098708865087147,
          2.136139336573034,
          7.401813885115789,
          3.9218016871951455,
          3.896640561741014,
          4.03990081625,
          2.52583126,
          2.643448290681818,
          2.1467300574673915,
          1.8362580532580646,
          2.2795583345484984,
          5.332234236314972,
          6.562858167460318,
          3.615010971771667,
          7.802225427305469,
          12.8586673554321,
          1.0076154318181818,
          10.064563243588571,
          1.8555063327502224,
          5.491816874014067,
          4.389264769074087,
          3.263443140625,
          8.369120001222223,
          5.937729596923077,
          19.382996946111113,
          1.1912527148648648,
          3.81883880135,
          2.3709389133657566,
          2.4338598333333334,
          3.1547263918898585,
          1.1603710568366072,
          12.224316713687664,
          10.551556970250001,
          8.179050799515025,
          1.0503433097341772,
          22.6040885605625,
          6.487114284285714,
          9.636935118947369,
          1.671599587142857,
          62.1982999866,
          3.2087478833606555,
          1.8356443530598456,
          5.350678316079167,
          4.787899381031931,
          6.242891855714285,
          2.617729711382114,
          2.211973613072015,
          2.440239642857143,
          3.7653063558333333,
          4.797345809715153,
          12.386412663680556,
          5.914138028918918,
          2.2375811869466666,
          11.048227506430615,
          1.896473499,
          3.165543585,
          8.105341163636364,
          25.28581211167151,
          1.2168214405357143,
          4.6031688563768665,
          17.922853141743015,
          1.9291357524176092,
          2.5611609492321428,
          1.2040224342307693,
          5.862957739328705,
          16.676941572166665,
          7.240352704068023,
          17.336462901666668,
          2.685994892441861,
          51.35873321221016,
          3.2397964800000003,
          3.7446516057692305,
          2.5227377727272726,
          1.4565066315789472,
          2.8028847833229817,
          1.03029393,
          2.2800506489736847,
          1.4970934804896476,
          5.309251788080695,
          3.751601898699984,
          1.3623174827471263,
          3.427112062785714,
          2.2245291416666664,
          3.575046425,
          5.881390416666666,
          3.7087009704545455,
          1.7382472203672497,
          6.567668305,
          2.8966705481818185,
          19.516202656249998,
          5.191916809247188,
          1.3796743600793226,
          8.720228511425011,
          6.30427668257809,
          2.3120145826117886,
          5.280233409222222,
          5.391666027203292,
          4.535346658167142,
          5.647599446363636,
          2.145688528088235,
          7.155375744429825,
          6.40740834522179,
          11.658695477272726,
          2.771563074970818,
          17.702945316666668,
          2.75964540728125,
          1.4483779442134974,
          9.499586890795989,
          16.958345387787276,
          1.3038540827255103,
          6.934285261538462,
          5.666204278,
          8.056601094291349,
          11.131779328333334,
          2.5411414336842104,
          2.1025248480752334,
          3.632416134347826,
          1.9361294131578948,
          4.447766039444445,
          2.517996618628011,
          4.803206745833333,
          6.43209757013914,
          4.538146160983124,
          2.5477689658660503,
          4.088610622739131,
          3.936572192195122,
          4.3689036827254135,
          6.133821029285715,
          1.5190168089911111,
          4.087638900855666,
          5.204084434690476,
          6.80603304347826,
          4.243861156538461,
          3.368818177198448,
          2.9454238066533933,
          14.045712968836785,
          4.602048427444444,
          2.800487585,
          15.27009854318283,
          1.717783378109116,
          6.435749568947369,
          6.337980182933707,
          1.8435463605959352,
          7.807534688225807,
          4.156680999001773,
          7.102375765282617,
          2.703041551187015,
          4.72131164029703,
          1.5186006453571428,
          2.614367142941177,
          3.193551020285693,
          3.9219777897807253,
          9.394243286826923,
          1.9997509329193923,
          4.16235856875,
          3.2979428589830504,
          34.33951921153846,
          8.642396820959549,
          3.7245732504603652,
          17.3741988897,
          2.712423599121024,
          5.943983745587912,
          4.914963130815102,
          11.346311003026718,
          1.9669465430195097,
          1.6406125183614584,
          7.329057788825757,
          3.7093184268980677,
          1.6471576547313493,
          4.0011924590268295,
          7.399105328263396,
          8.271898187193878,
          3.5403036131540397,
          6.379081321428571,
          1.427345052939523,
          5.83059789182563,
          2.0103374545454544,
          1.6947858574058756,
          1.2683254787531646,
          1.932982110277778,
          8.475393826702714,
          10.82935616,
          27.69987900625,
          4.08122138125,
          11.1822216736375,
          9.35469725,
          9.366076726354168,
          2.9510181913856566,
          3.4593750667772554,
          5.617307699106433,
          7.194609896064815,
          5.082965947301587,
          3.1583986621212126,
          3.1530868608000002,
          86.81563388999999,
          1.5060335960917675,
          12.050638103750002,
          1.6077710406701031,
          10.247458140606062,
          2.5370404759457625,
          13.595234621434514,
          3.1548802224153842,
          5.995466034200585,
          1.111519510714286,
          7.253564076923076,
          5.789989830805529,
          6.840416898214286,
          2.6883251652777775,
          2.34830881625,
          2.9664839500842533,
          2.6315994530750126,
          3.402646636133117,
          4.091136026607907,
          14.40765317962963,
          2.959777271143678,
          3.4724046174166667,
          8.80536588661972,
          3.6573173420134326,
          6.9065878735714294,
          6.852774167808446,
          4.8581734285,
          3.0220003925641024,
          241.378059783112,
          21.328371544660197,
          4.722610126293706,
          4.9442623354045825,
          6.701351112291667,
          4.83694048976378,
          3.9096674011052635,
          3.753978525,
          4.247896302611185,
          6.041938101546392,
          9.997805200340908,
          4.373046016795543,
          2.3224081256573044,
          6.676970609375,
          4.974885234658472,
          4.2337054745071825,
          1.4566588747222222,
          18.754050295044248,
          1.6225440861682243,
          3.5262847848958336,
          5.149934206836734,
          3.374971358505155,
          4.68547994825,
          3.5897507556688906,
          4.414901920416667,
          9.700612045079913,
          3.496332901023182,
          1.8091122113491052,
          1.5357514238995216,
          4.892918373625508,
          16.36439799475,
          4.940260385821429,
          21.715270554166665,
          27.068455092391304,
          13.806424077714286,
          14.48488142868932,
          3.6849073225000004,
          9.260279282988096,
          13.590209226007996,
          4.410238757757113,
          2.6264934380303027,
          4.204678480952381,
          1.3989389812080537,
          7.631316486861729,
          6.3331472061068705,
          2.609371201148627,
          3.720198720113636,
          5.136548409039193,
          4.9888478158878655,
          4.98154840048672,
          1.4497100700888743,
          6.625162984238712,
          2.3576062117564103,
          8.582467333333334,
          11.964745775,
          11.979084546568147,
          51.69132609095157,
          5.39336961483871,
          42.93881125,
          2.087360300923361,
          2.710298094736842,
          0.9658952424214844,
          1.3902800853707524,
          3.1675321325,
          3.4810270892857145,
          3.274800801,
          6.169766119192371,
          5.093209517989286,
          1.8723040322580646,
          4.817494949464286,
          7.479619052716217,
          3.295828545869236,
          2.154276305,
          4.657334132784375,
          10.084886213333332,
          4.676788753944955,
          3.4024943442720947,
          57.095253886989006,
          0.7790077905846529,
          3.8564149705094217,
          1.6818793432291665,
          6.984834904340909,
          1.8303897467202654,
          8.524445052581395,
          3.9740420390069366,
          4.511539615790909,
          77.54936681309523,
          1.5225317145153552,
          3.528135710403869,
          2.5994822339705883,
          5.2597509631066455,
          3.2282660423632814,
          49.62303463909091,
          9.12614324118443,
          3.6833068693374513,
          80.54905939427083,
          14.75300891207482,
          7.734768764029175,
          4.338928102941176,
          4.7359890049999995,
          2.2436028799054055,
          1.707876629658856,
          23.650062587096773,
          5.26782796078462,
          11.87280771602309,
          7.756323074636364,
          22.471002251918918,
          2.8263325555769234,
          5.366493242727273,
          4.350826260357261,
          8.976454905833332,
          63.47784263157896,
          1.807711547315793,
          6.007429493346939,
          1.6177498932777776,
          1.3937818010836844,
          1.352917473756219,
          5.178908802901219,
          11.385208149999999,
          11.134844253783784,
          2.4612474349999998,
          4.144688702360511,
          3.150903689101852,
          9.156774476808092,
          1.6718891692179247,
          2.2618411980350555,
          4.453552452631579,
          1.0904105473684211,
          6.1574009342647065,
          7.390274182145801,
          2.03125,
          4.099953383676471,
          4.092836325529448,
          7.1271213157575755,
          21.51437260893451,
          1.6782489738864774,
          4.935449130258621,
          12.810645124900763,
          3.7099016316666664,
          2.7450018714285713,
          17.624283359285716,
          4.824463823243244,
          2.534955465591527,
          3.248215548333333,
          2.7592295377499996,
          3.250994043314705,
          5.220881968711362,
          10.292459647529986,
          16.191039434285717,
          27.857083479210527,
          5.810186968103752,
          12.349993965836452,
          7.564621518181818,
          12.311964889541242,
          8.907832733333333,
          10.18036143351604,
          1.4804066810344827,
          3.468555859009009,
          2.683589466025366,
          2.0153815800593113,
          2.419675921990806,
          8.543605330971564,
          3.8513262812197917,
          2.519194538708005,
          1.1920654599999998,
          2.7585480450186255,
          2.080706701778535,
          2.369810338740909,
          2.8629139909896186,
          1.9810942814009662,
          2.770157424831206,
          8.015659772613665,
          2.8494126303846152,
          6.309969568737572,
          1.9393223903846155,
          11.476561689375,
          8.981467166339952,
          3.3580006242307694,
          5.229313208915254,
          2.2204054237931037,
          1.7831885016250002,
          1.657871509742268,
          3.141579858640339,
          6.7097231709581795,
          1.8111950064955638,
          2.373979382594594,
          2.3487245244852986,
          2.340580713589744,
          22.947278467105264,
          2.9343520285185183,
          0.6835525542162163,
          6.4405051426315785,
          5.277500009786371,
          6.505789489027778,
          4.908217599271345,
          8.08364027734756,
          3.204084059228912,
          2.4588748943854637,
          4.030963067863248,
          3.735909140791338,
          8.686676455577526,
          3.8752293721428575,
          4.265670909876544,
          23.917804169051983,
          7.313527011666666,
          8.281974783,
          18.300434716712328,
          4.7198475520819345,
          12.21818366198347,
          4.83775627775,
          1.0833861487837837,
          1.9346905006638502,
          1.306076011021021,
          6.434119198308257,
          10.641286144803782,
          4.737105934313432,
          1.4497529263492064,
          2.8772064935714283,
          3.7040399899701493,
          2.3331036179615383,
          3.3579954298840247,
          1.1653836363636363,
          5.166672799414546,
          4.4717053512405265,
          11.343829661327225,
          1.4966262792207792,
          16.427209271090913,
          10.223844665851436,
          1.9396505342377377,
          4.231141508636364,
          8.665641454776944,
          10.93866333305,
          3.4356509375,
          6.227143612133027,
          16.87317584223684,
          4.8615403075,
          7.831333398085107,
          2.0145421155638967,
          7.816671990617096,
          4.50562929749053,
          2.4608485541711445,
          2.7279328846153845,
          23.479389038965824,
          4.061396599169742,
          4.686049428519634,
          5.030896624166667,
          1.5419060222742282,
          6.528569244411765,
          3.035891759393939,
          24.87982806857143,
          3.70970357727381,
          9.637988022238806,
          4.601313485675458,
          4.379735235922735,
          1.9032442061538464,
          2.368898430814548,
          5.741000695488581,
          7.1292296472277235,
          8.099854089148076,
          12.72905751764706,
          1.6887435558771928,
          36.49538613433334,
          1.6944666068181817,
          14.68425235425,
          2.588655520683938,
          1.434068900157738,
          5.623541352077675,
          3.9242632564070368,
          2.6883574278381923,
          52.461512500000005,
          1.843485376294643,
          2.032172851183055,
          6.3090900299615384,
          2.542286692222222,
          6.562516564177836,
          4.803438263512348,
          1.9721492283333333,
          5.988544790711777,
          7.939772210528508,
          6.42789812862738,
          11.057403302694915,
          2.28984820401418,
          3.511000304206128,
          1.591545825,
          7.92843663254902,
          1.3222150785714286,
          4.084950422918327,
          5.454962337837838,
          4.545379764244685,
          2.6860138405172416,
          1.7845931409808409,
          10.293334024410376,
          3.5093062119999914,
          1.6042803414285713,
          6.060670119106871,
          20.840831159337153,
          2.4350638230392154,
          2.2049864129629633,
          1.9185574045454545,
          14.294640583333335,
          5.231183883181818,
          4.163157940004633,
          6.66714703918919,
          3.1190424237967034,
          5.112525189227272,
          3.7648214857142857,
          4.801462277069678,
          1.523897282006066,
          1.9445913661576253,
          7.736696061829268,
          3.8440933864391633,
          3.3389105903533842,
          1.4343623966904762,
          5.820008057317073,
          3.3616571249578944,
          4.4153310422066605,
          3.4183219168229027,
          2.843096105585185,
          2.1662610115151515,
          7.438430719642858,
          8.28455203351852,
          71.96671449797297,
          9.339063331167797,
          2.7562910103225806,
          15.085382635880102,
          2.6885831743,
          5.461756495863924,
          5.432397505454546,
          3.4955423471428575,
          13.143505453620122,
          17.51110707616098,
          4.752159002738095,
          9.327603651895833,
          3.342080480990566,
          5.202051619619685,
          5.926109418749999,
          1.5059173695035462,
          8.310865537901408,
          3.3395467303030304,
          97.95064595857143,
          4.692646379264833,
          4.475765572307693,
          35.161533271889134,
          2.452945833333333,
          3.338157300535715,
          17.277705576923076,
          3.085952139166667,
          14.709840812225002,
          1.6255616723529414,
          1.716025072563013,
          5.535366564705883,
          17.85972447331682,
          14.79932065969697,
          10.735034169271255,
          8.951592808451087,
          1.7101655996299296,
          8.914786912116293,
          5.723994074639494,
          4.2104267272727265,
          2.554633575214583,
          2.333226455909091,
          5.34947325121579,
          2.0130424871153845,
          6.422229330526316,
          10.0120519032,
          21.33659052923077,
          3.755722256818182,
          2.2334623066666666,
          4.590854530967392,
          3.52208303125,
          7.588305873042648,
          12.702257999781192,
          5.4943315215346455,
          4.562870203879013,
          6.277160091040366,
          5.701467984215686,
          5.851221270869565,
          3.2246193620185553,
          5.859347796247251,
          9.613761671428572,
          10.328774659192948,
          13.136544537570316,
          6.317252131666667,
          17.28665703319947,
          18.999480333333334,
          1.8509093305263158,
          5.754463662132692,
          6.7064704275,
          6.610534165943255,
          9.3327945716201,
          12.999595788170188,
          1.913808703257576,
          4.61406229872602,
          5.437734641791044,
          4.433933810173333,
          3.8175994931818185,
          8.729286634782609,
          2.055684184114977,
          1.4776862059250488,
          2.7230280718580246,
          2.4983165,
          5.474925061762857,
          6.863154637258065,
          4.327943042101492,
          14.065830524590165,
          3.2669122859444024,
          2.6750493457590907,
          4.558579109942894,
          8.352711464285715,
          1.4933897627444246,
          1.7454123996349207,
          5.316136324390245,
          2.859696770452934,
          7.922138346904761,
          1.4303291080504588,
          1.3862834288461536,
          8.029518028691589,
          5.81471347038961,
          5.395311152261147,
          2.322687298571428,
          1.1417320927777779,
          18.178156788531226,
          2.6135542342064797,
          3.603034753055556,
          1.7905488130561225,
          14.897384200000001,
          10.183537110092592,
          21.172998862206352,
          2.2546294275675676,
          3.794393279247716,
          4.893265847714286,
          5.953782082427665,
          5.36012369,
          7.021990610611511,
          2.6307630436814113,
          3.6879478200552853,
          6.404864380585537,
          2.209441453125,
          2.9455881188553716,
          4.844475540885374,
          4.230542321646341,
          7.9792634329354835,
          1.4159630735702586,
          4.054008846153846,
          1.4829104545293814,
          6.737920341666666,
          13.201596353333334,
          6.713601524556,
          19.560736044335936
         ],
         "xaxis": "x",
         "yaxis": "y"
        },
        {
         "alignmentgroup": "True",
         "hovertemplate": "round=gr15<br>amount_per_contributor=%{x}<extra></extra>",
         "legendgroup": "gr15",
         "marker": {
          "color": "#636efa"
         },
         "name": "gr15",
         "notched": true,
         "offsetgroup": "gr15",
         "showlegend": false,
         "type": "box",
         "x": [
          9.348001548840001,
          2.5508306709385407,
          10.305504627346938,
          3.2401380010606062,
          11.682703540584049,
          4.273951659408602,
          2.659115149951553,
          11.747216128106725,
          16.496698227826087,
          3.2196044743055556,
          3.968051950617315,
          3.527589909090909,
          9.538078410182926,
          1.6029260088051644,
          4.644431337491685,
          5.726879115291572,
          2.6110548171533963,
          4.260934115416666,
          4.336740619511189,
          11.767427109021659,
          4.053241969680134,
          2.110285205208333,
          1.5542852624999999,
          2.7429390145833334,
          2.417243434425,
          1.352438588880597,
          2.0154879272727273,
          2.7748923357284174,
          9.278284675688452,
          4.838643587288136,
          2.636725725,
          6.660491244777179,
          2.4589399063684207,
          13.839906178268405,
          59.65903525722906,
          2.2438749916666665,
          17.831328794347826,
          4.42149825288761,
          4.128505524881818,
          5.341028597752315,
          11.46592309419806,
          4.6889991475,
          26.098708865087147,
          2.136139336573034,
          7.401813885115789,
          3.9218016871951455,
          3.896640561741014,
          4.03990081625,
          2.52583126,
          2.643448290681818,
          2.1467300574673915,
          1.8362580532580646,
          2.2795583345484984,
          5.332234236314972,
          6.562858167460318,
          3.615010971771667,
          7.802225427305469,
          12.8586673554321,
          1.0076154318181818,
          10.064563243588571,
          1.8555063327502224,
          5.491816874014067,
          4.389264769074087,
          3.263443140625,
          8.369120001222223,
          5.937729596923077,
          19.382996946111113,
          1.1912527148648648,
          3.81883880135,
          2.3709389133657566,
          2.4338598333333334,
          3.1547263918898585,
          1.1603710568366072,
          12.224316713687664,
          10.551556970250001,
          8.179050799515025,
          1.0503433097341772,
          22.6040885605625,
          6.487114284285714,
          9.636935118947369,
          1.671599587142857,
          62.1982999866,
          3.2087478833606555,
          1.8356443530598456,
          5.350678316079167,
          4.787899381031931,
          6.242891855714285,
          2.617729711382114,
          2.211973613072015,
          2.440239642857143,
          3.7653063558333333,
          4.797345809715153,
          12.386412663680556,
          5.914138028918918,
          2.2375811869466666,
          11.048227506430615,
          1.896473499,
          3.165543585,
          8.105341163636364,
          25.28581211167151,
          1.2168214405357143,
          4.6031688563768665,
          17.922853141743015,
          1.9291357524176092,
          2.5611609492321428,
          1.2040224342307693,
          5.862957739328705,
          16.676941572166665,
          7.240352704068023,
          17.336462901666668,
          2.685994892441861,
          51.35873321221016,
          3.2397964800000003,
          3.7446516057692305,
          2.5227377727272726,
          1.4565066315789472,
          2.8028847833229817,
          1.03029393,
          2.2800506489736847,
          1.4970934804896476,
          5.309251788080695,
          3.751601898699984,
          1.3623174827471263,
          3.427112062785714,
          2.2245291416666664,
          3.575046425,
          5.881390416666666,
          3.7087009704545455,
          1.7382472203672497,
          6.567668305,
          2.8966705481818185,
          19.516202656249998,
          5.191916809247188,
          1.3796743600793226,
          8.720228511425011,
          6.30427668257809,
          2.3120145826117886,
          5.280233409222222,
          5.391666027203292,
          4.535346658167142,
          5.647599446363636,
          2.145688528088235,
          7.155375744429825,
          6.40740834522179,
          11.658695477272726,
          2.771563074970818,
          17.702945316666668,
          2.75964540728125,
          1.4483779442134974,
          9.499586890795989,
          16.958345387787276,
          1.3038540827255103,
          6.934285261538462,
          5.666204278,
          8.056601094291349,
          11.131779328333334,
          2.5411414336842104,
          2.1025248480752334,
          3.632416134347826,
          1.9361294131578948,
          4.447766039444445,
          2.517996618628011,
          4.803206745833333,
          6.43209757013914,
          4.538146160983124,
          2.5477689658660503,
          4.088610622739131,
          3.936572192195122,
          4.3689036827254135,
          6.133821029285715,
          1.5190168089911111,
          4.087638900855666,
          5.204084434690476,
          6.80603304347826,
          4.243861156538461,
          3.368818177198448,
          2.9454238066533933,
          14.045712968836785,
          4.602048427444444,
          2.800487585,
          15.27009854318283,
          1.717783378109116,
          6.435749568947369,
          6.337980182933707,
          1.8435463605959352,
          7.807534688225807,
          4.156680999001773,
          7.102375765282617,
          2.703041551187015,
          4.72131164029703,
          1.5186006453571428,
          2.614367142941177,
          3.193551020285693,
          3.9219777897807253,
          9.394243286826923,
          1.9997509329193923,
          4.16235856875,
          3.2979428589830504,
          34.33951921153846,
          8.642396820959549,
          3.7245732504603652,
          17.3741988897,
          2.712423599121024,
          5.943983745587912,
          4.914963130815102,
          11.346311003026718,
          1.9669465430195097,
          1.6406125183614584,
          7.329057788825757,
          3.7093184268980677,
          1.6471576547313493,
          4.0011924590268295,
          7.399105328263396,
          8.271898187193878,
          3.5403036131540397,
          6.379081321428571,
          1.427345052939523,
          5.83059789182563,
          2.0103374545454544,
          1.6947858574058756,
          1.2683254787531646,
          1.932982110277778,
          8.475393826702714,
          10.82935616,
          27.69987900625,
          4.08122138125,
          11.1822216736375,
          9.35469725,
          9.366076726354168,
          2.9510181913856566,
          3.4593750667772554,
          5.617307699106433,
          7.194609896064815,
          5.082965947301587,
          3.1583986621212126,
          3.1530868608000002,
          86.81563388999999,
          1.5060335960917675,
          12.050638103750002,
          1.6077710406701031,
          10.247458140606062,
          2.5370404759457625,
          13.595234621434514,
          3.1548802224153842,
          5.995466034200585,
          1.111519510714286,
          7.253564076923076,
          5.789989830805529,
          6.840416898214286,
          2.6883251652777775,
          2.34830881625,
          2.9664839500842533,
          2.6315994530750126,
          3.402646636133117,
          4.091136026607907,
          14.40765317962963,
          2.959777271143678,
          3.4724046174166667,
          8.80536588661972,
          3.6573173420134326,
          6.9065878735714294,
          6.852774167808446,
          4.8581734285,
          3.0220003925641024,
          241.378059783112,
          21.328371544660197,
          4.722610126293706,
          4.9442623354045825,
          6.701351112291667,
          4.83694048976378,
          3.9096674011052635,
          3.753978525,
          4.247896302611185,
          6.041938101546392,
          9.997805200340908,
          4.373046016795543,
          2.3224081256573044,
          6.676970609375,
          4.974885234658472,
          4.2337054745071825,
          1.4566588747222222,
          18.754050295044248,
          1.6225440861682243,
          3.5262847848958336,
          5.149934206836734,
          3.374971358505155,
          4.68547994825,
          3.5897507556688906,
          4.414901920416667,
          9.700612045079913,
          3.496332901023182,
          1.8091122113491052,
          1.5357514238995216,
          4.892918373625508,
          16.36439799475,
          4.940260385821429,
          21.715270554166665,
          27.068455092391304,
          13.806424077714286,
          14.48488142868932,
          3.6849073225000004,
          9.260279282988096,
          13.590209226007996,
          4.410238757757113,
          2.6264934380303027,
          4.204678480952381,
          1.3989389812080537,
          7.631316486861729,
          6.3331472061068705,
          2.609371201148627,
          3.720198720113636,
          5.136548409039193,
          4.9888478158878655,
          4.98154840048672,
          1.4497100700888743,
          6.625162984238712,
          2.3576062117564103,
          8.582467333333334,
          11.964745775,
          11.979084546568147,
          51.69132609095157,
          5.39336961483871,
          42.93881125,
          2.087360300923361,
          2.710298094736842,
          0.9658952424214844,
          1.3902800853707524,
          3.1675321325,
          3.4810270892857145,
          3.274800801,
          6.169766119192371,
          5.093209517989286,
          1.8723040322580646,
          4.817494949464286,
          7.479619052716217,
          3.295828545869236,
          2.154276305,
          4.657334132784375,
          10.084886213333332,
          4.676788753944955,
          3.4024943442720947,
          57.095253886989006,
          0.7790077905846529,
          3.8564149705094217,
          1.6818793432291665,
          6.984834904340909,
          1.8303897467202654,
          8.524445052581395,
          3.9740420390069366,
          4.511539615790909,
          77.54936681309523,
          1.5225317145153552,
          3.528135710403869,
          2.5994822339705883,
          5.2597509631066455,
          3.2282660423632814,
          49.62303463909091,
          9.12614324118443,
          3.6833068693374513,
          80.54905939427083,
          14.75300891207482,
          7.734768764029175,
          4.338928102941176,
          4.7359890049999995,
          2.2436028799054055,
          1.707876629658856,
          23.650062587096773,
          5.26782796078462,
          11.87280771602309,
          7.756323074636364,
          22.471002251918918,
          2.8263325555769234,
          5.366493242727273,
          4.350826260357261,
          8.976454905833332,
          63.47784263157896,
          1.807711547315793,
          6.007429493346939,
          1.6177498932777776,
          1.3937818010836844,
          1.352917473756219,
          5.178908802901219,
          11.385208149999999,
          11.134844253783784,
          2.4612474349999998,
          4.144688702360511,
          3.150903689101852,
          9.156774476808092,
          1.6718891692179247,
          2.2618411980350555,
          4.453552452631579,
          1.0904105473684211,
          6.1574009342647065,
          7.390274182145801,
          2.03125,
          4.099953383676471,
          4.092836325529448,
          7.1271213157575755,
          21.51437260893451,
          1.6782489738864774,
          4.935449130258621,
          12.810645124900763,
          3.7099016316666664,
          2.7450018714285713,
          17.624283359285716,
          4.824463823243244,
          2.534955465591527,
          3.248215548333333,
          2.7592295377499996,
          3.250994043314705,
          5.220881968711362,
          10.292459647529986,
          16.191039434285717,
          27.857083479210527,
          5.810186968103752,
          12.349993965836452,
          7.564621518181818,
          12.311964889541242,
          8.907832733333333,
          10.18036143351604,
          1.4804066810344827,
          3.468555859009009,
          2.683589466025366,
          2.0153815800593113,
          2.419675921990806,
          8.543605330971564,
          3.8513262812197917,
          2.519194538708005,
          1.1920654599999998,
          2.7585480450186255,
          2.080706701778535,
          2.369810338740909,
          2.8629139909896186,
          1.9810942814009662,
          2.770157424831206,
          8.015659772613665,
          2.8494126303846152,
          6.309969568737572,
          1.9393223903846155,
          11.476561689375,
          8.981467166339952,
          3.3580006242307694,
          5.229313208915254,
          2.2204054237931037,
          1.7831885016250002,
          1.657871509742268,
          3.141579858640339,
          6.7097231709581795,
          1.8111950064955638,
          2.373979382594594,
          2.3487245244852986,
          2.340580713589744,
          22.947278467105264,
          2.9343520285185183,
          0.6835525542162163,
          6.4405051426315785,
          5.277500009786371,
          6.505789489027778,
          4.908217599271345,
          8.08364027734756,
          3.204084059228912,
          2.4588748943854637,
          4.030963067863248,
          3.735909140791338,
          8.686676455577526,
          3.8752293721428575,
          4.265670909876544,
          23.917804169051983,
          7.313527011666666,
          8.281974783,
          18.300434716712328,
          4.7198475520819345,
          12.21818366198347,
          4.83775627775,
          1.0833861487837837,
          1.9346905006638502,
          1.306076011021021,
          6.434119198308257,
          10.641286144803782,
          4.737105934313432,
          1.4497529263492064,
          2.8772064935714283,
          3.7040399899701493,
          2.3331036179615383,
          3.3579954298840247,
          1.1653836363636363,
          5.166672799414546,
          4.4717053512405265,
          11.343829661327225,
          1.4966262792207792,
          16.427209271090913,
          10.223844665851436,
          1.9396505342377377,
          4.231141508636364,
          8.665641454776944,
          10.93866333305,
          3.4356509375,
          6.227143612133027,
          16.87317584223684,
          4.8615403075,
          7.831333398085107,
          2.0145421155638967,
          7.816671990617096,
          4.50562929749053,
          2.4608485541711445,
          2.7279328846153845,
          23.479389038965824,
          4.061396599169742,
          4.686049428519634,
          5.030896624166667,
          1.5419060222742282,
          6.528569244411765,
          3.035891759393939,
          24.87982806857143,
          3.70970357727381,
          9.637988022238806,
          4.601313485675458,
          4.379735235922735,
          1.9032442061538464,
          2.368898430814548,
          5.741000695488581,
          7.1292296472277235,
          8.099854089148076,
          12.72905751764706,
          1.6887435558771928,
          36.49538613433334,
          1.6944666068181817,
          14.68425235425,
          2.588655520683938,
          1.434068900157738,
          5.623541352077675,
          3.9242632564070368,
          2.6883574278381923,
          52.461512500000005,
          1.843485376294643,
          2.032172851183055,
          6.3090900299615384,
          2.542286692222222,
          6.562516564177836,
          4.803438263512348,
          1.9721492283333333,
          5.988544790711777,
          7.939772210528508,
          6.42789812862738,
          11.057403302694915,
          2.28984820401418,
          3.511000304206128,
          1.591545825,
          7.92843663254902,
          1.3222150785714286,
          4.084950422918327,
          5.454962337837838,
          4.545379764244685,
          2.6860138405172416,
          1.7845931409808409,
          10.293334024410376,
          3.5093062119999914,
          1.6042803414285713,
          6.060670119106871,
          20.840831159337153,
          2.4350638230392154,
          2.2049864129629633,
          1.9185574045454545,
          14.294640583333335,
          5.231183883181818,
          4.163157940004633,
          6.66714703918919,
          3.1190424237967034,
          5.112525189227272,
          3.7648214857142857,
          4.801462277069678,
          1.523897282006066,
          1.9445913661576253,
          7.736696061829268,
          3.8440933864391633,
          3.3389105903533842,
          1.4343623966904762,
          5.820008057317073,
          3.3616571249578944,
          4.4153310422066605,
          3.4183219168229027,
          2.843096105585185,
          2.1662610115151515,
          7.438430719642858,
          8.28455203351852,
          71.96671449797297,
          9.339063331167797,
          2.7562910103225806,
          15.085382635880102,
          2.6885831743,
          5.461756495863924,
          5.432397505454546,
          3.4955423471428575,
          13.143505453620122,
          17.51110707616098,
          4.752159002738095,
          9.327603651895833,
          3.342080480990566,
          5.202051619619685,
          5.926109418749999,
          1.5059173695035462,
          8.310865537901408,
          3.3395467303030304,
          97.95064595857143,
          4.692646379264833,
          4.475765572307693,
          35.161533271889134,
          2.452945833333333,
          3.338157300535715,
          17.277705576923076,
          3.085952139166667,
          14.709840812225002,
          1.6255616723529414,
          1.716025072563013,
          5.535366564705883,
          17.85972447331682,
          14.79932065969697,
          10.735034169271255,
          8.951592808451087,
          1.7101655996299296,
          8.914786912116293,
          5.723994074639494,
          4.2104267272727265,
          2.554633575214583,
          2.333226455909091,
          5.34947325121579,
          2.0130424871153845,
          6.422229330526316,
          10.0120519032,
          21.33659052923077,
          3.755722256818182,
          2.2334623066666666,
          4.590854530967392,
          3.52208303125,
          7.588305873042648,
          12.702257999781192,
          5.4943315215346455,
          4.562870203879013,
          6.277160091040366,
          5.701467984215686,
          5.851221270869565,
          3.2246193620185553,
          5.859347796247251,
          9.613761671428572,
          10.328774659192948,
          13.136544537570316,
          6.317252131666667,
          17.28665703319947,
          18.999480333333334,
          1.8509093305263158,
          5.754463662132692,
          6.7064704275,
          6.610534165943255,
          9.3327945716201,
          12.999595788170188,
          1.913808703257576,
          4.61406229872602,
          5.437734641791044,
          4.433933810173333,
          3.8175994931818185,
          8.729286634782609,
          2.055684184114977,
          1.4776862059250488,
          2.7230280718580246,
          2.4983165,
          5.474925061762857,
          6.863154637258065,
          4.327943042101492,
          14.065830524590165,
          3.2669122859444024,
          2.6750493457590907,
          4.558579109942894,
          8.352711464285715,
          1.4933897627444246,
          1.7454123996349207,
          5.316136324390245,
          2.859696770452934,
          7.922138346904761,
          1.4303291080504588,
          1.3862834288461536,
          8.029518028691589,
          5.81471347038961,
          5.395311152261147,
          2.322687298571428,
          1.1417320927777779,
          18.178156788531226,
          2.6135542342064797,
          3.603034753055556,
          1.7905488130561225,
          14.897384200000001,
          10.183537110092592,
          21.172998862206352,
          2.2546294275675676,
          3.794393279247716,
          4.893265847714286,
          5.953782082427665,
          5.36012369,
          7.021990610611511,
          2.6307630436814113,
          3.6879478200552853,
          6.404864380585537,
          2.209441453125,
          2.9455881188553716,
          4.844475540885374,
          4.230542321646341,
          7.9792634329354835,
          1.4159630735702586,
          4.054008846153846,
          1.4829104545293814,
          6.737920341666666,
          13.201596353333334,
          6.713601524556,
          19.560736044335936
         ],
         "xaxis": "x2",
         "yaxis": "y2"
        },
        {
         "alignmentgroup": "True",
         "bingroup": "x",
         "hovertemplate": "round=fantom<br>amount_per_contributor=%{x}<br>count=%{y}<extra></extra>",
         "legendgroup": "fantom",
         "marker": {
          "color": "#EF553B",
          "pattern": {
           "shape": ""
          }
         },
         "name": "fantom",
         "offsetgroup": "fantom",
         "orientation": "v",
         "showlegend": true,
         "type": "histogram",
         "x": [
          0.325784332074894,
          0.21505731736759312,
          0.2970665359993415,
          0.307964408012301,
          0.10698878859036533,
          0.9776973526490481,
          0.9435187872381324,
          0.1748208079956384,
          0.17972390968810414,
          0.27357719040168094,
          0.331357432105703,
          0.2745346855909218,
          0.4117580744467677,
          0.1732177337280025,
          0.25356830357216187,
          0.7670400987840326,
          0.3420549990445271,
          1.159777286833921,
          0.6866457157182703,
          0.41299421351773274,
          1.3947812106554056,
          0.1777299791624305,
          0.11501196036213147,
          0.32833711043985914,
          0.12475764545143478,
          0.15281315137976048,
          1.2921974646507748,
          0.5639510803050367,
          1.4051531384294067,
          0.15157842246151823,
          0.146829227472091,
          0.27402080922236544,
          0.19240257151027465,
          0.613336382044521,
          0.6309708437801902,
          0.3856337569424433,
          0.15437604792719062,
          0.3384958964571189,
          0.6690391895132256,
          0.325382315980628,
          1.0693139671556622,
          0.21162303169306276,
          0.19952756315609366,
          1.3535926852854836,
          1.1518972665923088,
          0.3764925482909538,
          0.3203211858322007,
          0.19163359535133845,
          0.6876036102702896,
          0.450136392894344,
          0.3573515393580733,
          0.9508255408626227,
          1.276605652732688,
          0.2320449919931975,
          0.5016704654938671,
          0.4958141854507438,
          0.4417009343343478,
          0.20798703674289976,
          0.9226651226803521,
          0.16112008798976743,
          1.056177995486106,
          0.4493792323591356,
          0.3182603157208168,
          0.796450929411069,
          0.4464949406280195,
          0.13786211188058153,
          0.28671293420596444,
          0.2929046650999867,
          0.26436160926532865,
          0.16359383822617182,
          0.1359875575387956,
          0.43529742061224946,
          0.13963728878567483,
          0.14290788497821352,
          0.4712394105064429,
          0.9080070846016934,
          0.5819283896469427,
          0.24703251007103263,
          0.20362628085486242,
          0.1940154616438974,
          0.3127470032140484,
          0.26937436374102014,
          0.1731302314051571,
          1.6133930959553797,
          0.6705428255504609,
          0.3028191965506114,
          1.246522828425354,
          0.22372398535727622
         ],
         "xaxis": "x",
         "yaxis": "y"
        },
        {
         "alignmentgroup": "True",
         "hovertemplate": "round=fantom<br>amount_per_contributor=%{x}<extra></extra>",
         "legendgroup": "fantom",
         "marker": {
          "color": "#EF553B"
         },
         "name": "fantom",
         "notched": true,
         "offsetgroup": "fantom",
         "showlegend": false,
         "type": "box",
         "x": [
          0.325784332074894,
          0.21505731736759312,
          0.2970665359993415,
          0.307964408012301,
          0.10698878859036533,
          0.9776973526490481,
          0.9435187872381324,
          0.1748208079956384,
          0.17972390968810414,
          0.27357719040168094,
          0.331357432105703,
          0.2745346855909218,
          0.4117580744467677,
          0.1732177337280025,
          0.25356830357216187,
          0.7670400987840326,
          0.3420549990445271,
          1.159777286833921,
          0.6866457157182703,
          0.41299421351773274,
          1.3947812106554056,
          0.1777299791624305,
          0.11501196036213147,
          0.32833711043985914,
          0.12475764545143478,
          0.15281315137976048,
          1.2921974646507748,
          0.5639510803050367,
          1.4051531384294067,
          0.15157842246151823,
          0.146829227472091,
          0.27402080922236544,
          0.19240257151027465,
          0.613336382044521,
          0.6309708437801902,
          0.3856337569424433,
          0.15437604792719062,
          0.3384958964571189,
          0.6690391895132256,
          0.325382315980628,
          1.0693139671556622,
          0.21162303169306276,
          0.19952756315609366,
          1.3535926852854836,
          1.1518972665923088,
          0.3764925482909538,
          0.3203211858322007,
          0.19163359535133845,
          0.6876036102702896,
          0.450136392894344,
          0.3573515393580733,
          0.9508255408626227,
          1.276605652732688,
          0.2320449919931975,
          0.5016704654938671,
          0.4958141854507438,
          0.4417009343343478,
          0.20798703674289976,
          0.9226651226803521,
          0.16112008798976743,
          1.056177995486106,
          0.4493792323591356,
          0.3182603157208168,
          0.796450929411069,
          0.4464949406280195,
          0.13786211188058153,
          0.28671293420596444,
          0.2929046650999867,
          0.26436160926532865,
          0.16359383822617182,
          0.1359875575387956,
          0.43529742061224946,
          0.13963728878567483,
          0.14290788497821352,
          0.4712394105064429,
          0.9080070846016934,
          0.5819283896469427,
          0.24703251007103263,
          0.20362628085486242,
          0.1940154616438974,
          0.3127470032140484,
          0.26937436374102014,
          0.1731302314051571,
          1.6133930959553797,
          0.6705428255504609,
          0.3028191965506114,
          1.246522828425354,
          0.22372398535727622
         ],
         "xaxis": "x2",
         "yaxis": "y2"
        },
        {
         "alignmentgroup": "True",
         "bingroup": "x",
         "hovertemplate": "round=unicef<br>amount_per_contributor=%{x}<br>count=%{y}<extra></extra>",
         "legendgroup": "unicef",
         "marker": {
          "color": "#00cc96",
          "pattern": {
           "shape": ""
          }
         },
         "name": "unicef",
         "offsetgroup": "unicef",
         "orientation": "v",
         "showlegend": true,
         "type": "histogram",
         "x": [
          1.4761728616452852,
          1.080182265812506,
          0.9953325611874224,
          1.089079824828208,
          1.127777394531876,
          1.2024785777906628,
          1.3307173097257403,
          1.635528095998289,
          1.2426568094773667,
          1.179102724286463
         ],
         "xaxis": "x",
         "yaxis": "y"
        },
        {
         "alignmentgroup": "True",
         "hovertemplate": "round=unicef<br>amount_per_contributor=%{x}<extra></extra>",
         "legendgroup": "unicef",
         "marker": {
          "color": "#00cc96"
         },
         "name": "unicef",
         "notched": true,
         "offsetgroup": "unicef",
         "showlegend": false,
         "type": "box",
         "x": [
          1.4761728616452852,
          1.080182265812506,
          0.9953325611874224,
          1.089079824828208,
          1.127777394531876,
          1.2024785777906628,
          1.3307173097257403,
          1.635528095998289,
          1.2426568094773667,
          1.179102724286463
         ],
         "xaxis": "x2",
         "yaxis": "y2"
        }
       ],
       "layout": {
        "barmode": "relative",
        "legend": {
         "title": {
          "text": "round"
         },
         "tracegroupgap": 0
        },
        "template": {
         "data": {
          "bar": [
           {
            "error_x": {
             "color": "#2a3f5f"
            },
            "error_y": {
             "color": "#2a3f5f"
            },
            "marker": {
             "line": {
              "color": "#E5ECF6",
              "width": 0.5
             },
             "pattern": {
              "fillmode": "overlay",
              "size": 10,
              "solidity": 0.2
             }
            },
            "type": "bar"
           }
          ],
          "barpolar": [
           {
            "marker": {
             "line": {
              "color": "#E5ECF6",
              "width": 0.5
             },
             "pattern": {
              "fillmode": "overlay",
              "size": 10,
              "solidity": 0.2
             }
            },
            "type": "barpolar"
           }
          ],
          "carpet": [
           {
            "aaxis": {
             "endlinecolor": "#2a3f5f",
             "gridcolor": "white",
             "linecolor": "white",
             "minorgridcolor": "white",
             "startlinecolor": "#2a3f5f"
            },
            "baxis": {
             "endlinecolor": "#2a3f5f",
             "gridcolor": "white",
             "linecolor": "white",
             "minorgridcolor": "white",
             "startlinecolor": "#2a3f5f"
            },
            "type": "carpet"
           }
          ],
          "choropleth": [
           {
            "colorbar": {
             "outlinewidth": 0,
             "ticks": ""
            },
            "type": "choropleth"
           }
          ],
          "contour": [
           {
            "colorbar": {
             "outlinewidth": 0,
             "ticks": ""
            },
            "colorscale": [
             [
              0,
              "#0d0887"
             ],
             [
              0.1111111111111111,
              "#46039f"
             ],
             [
              0.2222222222222222,
              "#7201a8"
             ],
             [
              0.3333333333333333,
              "#9c179e"
             ],
             [
              0.4444444444444444,
              "#bd3786"
             ],
             [
              0.5555555555555556,
              "#d8576b"
             ],
             [
              0.6666666666666666,
              "#ed7953"
             ],
             [
              0.7777777777777778,
              "#fb9f3a"
             ],
             [
              0.8888888888888888,
              "#fdca26"
             ],
             [
              1,
              "#f0f921"
             ]
            ],
            "type": "contour"
           }
          ],
          "contourcarpet": [
           {
            "colorbar": {
             "outlinewidth": 0,
             "ticks": ""
            },
            "type": "contourcarpet"
           }
          ],
          "heatmap": [
           {
            "colorbar": {
             "outlinewidth": 0,
             "ticks": ""
            },
            "colorscale": [
             [
              0,
              "#0d0887"
             ],
             [
              0.1111111111111111,
              "#46039f"
             ],
             [
              0.2222222222222222,
              "#7201a8"
             ],
             [
              0.3333333333333333,
              "#9c179e"
             ],
             [
              0.4444444444444444,
              "#bd3786"
             ],
             [
              0.5555555555555556,
              "#d8576b"
             ],
             [
              0.6666666666666666,
              "#ed7953"
             ],
             [
              0.7777777777777778,
              "#fb9f3a"
             ],
             [
              0.8888888888888888,
              "#fdca26"
             ],
             [
              1,
              "#f0f921"
             ]
            ],
            "type": "heatmap"
           }
          ],
          "heatmapgl": [
           {
            "colorbar": {
             "outlinewidth": 0,
             "ticks": ""
            },
            "colorscale": [
             [
              0,
              "#0d0887"
             ],
             [
              0.1111111111111111,
              "#46039f"
             ],
             [
              0.2222222222222222,
              "#7201a8"
             ],
             [
              0.3333333333333333,
              "#9c179e"
             ],
             [
              0.4444444444444444,
              "#bd3786"
             ],
             [
              0.5555555555555556,
              "#d8576b"
             ],
             [
              0.6666666666666666,
              "#ed7953"
             ],
             [
              0.7777777777777778,
              "#fb9f3a"
             ],
             [
              0.8888888888888888,
              "#fdca26"
             ],
             [
              1,
              "#f0f921"
             ]
            ],
            "type": "heatmapgl"
           }
          ],
          "histogram": [
           {
            "marker": {
             "pattern": {
              "fillmode": "overlay",
              "size": 10,
              "solidity": 0.2
             }
            },
            "type": "histogram"
           }
          ],
          "histogram2d": [
           {
            "colorbar": {
             "outlinewidth": 0,
             "ticks": ""
            },
            "colorscale": [
             [
              0,
              "#0d0887"
             ],
             [
              0.1111111111111111,
              "#46039f"
             ],
             [
              0.2222222222222222,
              "#7201a8"
             ],
             [
              0.3333333333333333,
              "#9c179e"
             ],
             [
              0.4444444444444444,
              "#bd3786"
             ],
             [
              0.5555555555555556,
              "#d8576b"
             ],
             [
              0.6666666666666666,
              "#ed7953"
             ],
             [
              0.7777777777777778,
              "#fb9f3a"
             ],
             [
              0.8888888888888888,
              "#fdca26"
             ],
             [
              1,
              "#f0f921"
             ]
            ],
            "type": "histogram2d"
           }
          ],
          "histogram2dcontour": [
           {
            "colorbar": {
             "outlinewidth": 0,
             "ticks": ""
            },
            "colorscale": [
             [
              0,
              "#0d0887"
             ],
             [
              0.1111111111111111,
              "#46039f"
             ],
             [
              0.2222222222222222,
              "#7201a8"
             ],
             [
              0.3333333333333333,
              "#9c179e"
             ],
             [
              0.4444444444444444,
              "#bd3786"
             ],
             [
              0.5555555555555556,
              "#d8576b"
             ],
             [
              0.6666666666666666,
              "#ed7953"
             ],
             [
              0.7777777777777778,
              "#fb9f3a"
             ],
             [
              0.8888888888888888,
              "#fdca26"
             ],
             [
              1,
              "#f0f921"
             ]
            ],
            "type": "histogram2dcontour"
           }
          ],
          "mesh3d": [
           {
            "colorbar": {
             "outlinewidth": 0,
             "ticks": ""
            },
            "type": "mesh3d"
           }
          ],
          "parcoords": [
           {
            "line": {
             "colorbar": {
              "outlinewidth": 0,
              "ticks": ""
             }
            },
            "type": "parcoords"
           }
          ],
          "pie": [
           {
            "automargin": true,
            "type": "pie"
           }
          ],
          "scatter": [
           {
            "fillpattern": {
             "fillmode": "overlay",
             "size": 10,
             "solidity": 0.2
            },
            "type": "scatter"
           }
          ],
          "scatter3d": [
           {
            "line": {
             "colorbar": {
              "outlinewidth": 0,
              "ticks": ""
             }
            },
            "marker": {
             "colorbar": {
              "outlinewidth": 0,
              "ticks": ""
             }
            },
            "type": "scatter3d"
           }
          ],
          "scattercarpet": [
           {
            "marker": {
             "colorbar": {
              "outlinewidth": 0,
              "ticks": ""
             }
            },
            "type": "scattercarpet"
           }
          ],
          "scattergeo": [
           {
            "marker": {
             "colorbar": {
              "outlinewidth": 0,
              "ticks": ""
             }
            },
            "type": "scattergeo"
           }
          ],
          "scattergl": [
           {
            "marker": {
             "colorbar": {
              "outlinewidth": 0,
              "ticks": ""
             }
            },
            "type": "scattergl"
           }
          ],
          "scattermapbox": [
           {
            "marker": {
             "colorbar": {
              "outlinewidth": 0,
              "ticks": ""
             }
            },
            "type": "scattermapbox"
           }
          ],
          "scatterpolar": [
           {
            "marker": {
             "colorbar": {
              "outlinewidth": 0,
              "ticks": ""
             }
            },
            "type": "scatterpolar"
           }
          ],
          "scatterpolargl": [
           {
            "marker": {
             "colorbar": {
              "outlinewidth": 0,
              "ticks": ""
             }
            },
            "type": "scatterpolargl"
           }
          ],
          "scatterternary": [
           {
            "marker": {
             "colorbar": {
              "outlinewidth": 0,
              "ticks": ""
             }
            },
            "type": "scatterternary"
           }
          ],
          "surface": [
           {
            "colorbar": {
             "outlinewidth": 0,
             "ticks": ""
            },
            "colorscale": [
             [
              0,
              "#0d0887"
             ],
             [
              0.1111111111111111,
              "#46039f"
             ],
             [
              0.2222222222222222,
              "#7201a8"
             ],
             [
              0.3333333333333333,
              "#9c179e"
             ],
             [
              0.4444444444444444,
              "#bd3786"
             ],
             [
              0.5555555555555556,
              "#d8576b"
             ],
             [
              0.6666666666666666,
              "#ed7953"
             ],
             [
              0.7777777777777778,
              "#fb9f3a"
             ],
             [
              0.8888888888888888,
              "#fdca26"
             ],
             [
              1,
              "#f0f921"
             ]
            ],
            "type": "surface"
           }
          ],
          "table": [
           {
            "cells": {
             "fill": {
              "color": "#EBF0F8"
             },
             "line": {
              "color": "white"
             }
            },
            "header": {
             "fill": {
              "color": "#C8D4E3"
             },
             "line": {
              "color": "white"
             }
            },
            "type": "table"
           }
          ]
         },
         "layout": {
          "annotationdefaults": {
           "arrowcolor": "#2a3f5f",
           "arrowhead": 0,
           "arrowwidth": 1
          },
          "autotypenumbers": "strict",
          "coloraxis": {
           "colorbar": {
            "outlinewidth": 0,
            "ticks": ""
           }
          },
          "colorscale": {
           "diverging": [
            [
             0,
             "#8e0152"
            ],
            [
             0.1,
             "#c51b7d"
            ],
            [
             0.2,
             "#de77ae"
            ],
            [
             0.3,
             "#f1b6da"
            ],
            [
             0.4,
             "#fde0ef"
            ],
            [
             0.5,
             "#f7f7f7"
            ],
            [
             0.6,
             "#e6f5d0"
            ],
            [
             0.7,
             "#b8e186"
            ],
            [
             0.8,
             "#7fbc41"
            ],
            [
             0.9,
             "#4d9221"
            ],
            [
             1,
             "#276419"
            ]
           ],
           "sequential": [
            [
             0,
             "#0d0887"
            ],
            [
             0.1111111111111111,
             "#46039f"
            ],
            [
             0.2222222222222222,
             "#7201a8"
            ],
            [
             0.3333333333333333,
             "#9c179e"
            ],
            [
             0.4444444444444444,
             "#bd3786"
            ],
            [
             0.5555555555555556,
             "#d8576b"
            ],
            [
             0.6666666666666666,
             "#ed7953"
            ],
            [
             0.7777777777777778,
             "#fb9f3a"
            ],
            [
             0.8888888888888888,
             "#fdca26"
            ],
            [
             1,
             "#f0f921"
            ]
           ],
           "sequentialminus": [
            [
             0,
             "#0d0887"
            ],
            [
             0.1111111111111111,
             "#46039f"
            ],
            [
             0.2222222222222222,
             "#7201a8"
            ],
            [
             0.3333333333333333,
             "#9c179e"
            ],
            [
             0.4444444444444444,
             "#bd3786"
            ],
            [
             0.5555555555555556,
             "#d8576b"
            ],
            [
             0.6666666666666666,
             "#ed7953"
            ],
            [
             0.7777777777777778,
             "#fb9f3a"
            ],
            [
             0.8888888888888888,
             "#fdca26"
            ],
            [
             1,
             "#f0f921"
            ]
           ]
          },
          "colorway": [
           "#636efa",
           "#EF553B",
           "#00cc96",
           "#ab63fa",
           "#FFA15A",
           "#19d3f3",
           "#FF6692",
           "#B6E880",
           "#FF97FF",
           "#FECB52"
          ],
          "font": {
           "color": "#2a3f5f"
          },
          "geo": {
           "bgcolor": "white",
           "lakecolor": "white",
           "landcolor": "#E5ECF6",
           "showlakes": true,
           "showland": true,
           "subunitcolor": "white"
          },
          "hoverlabel": {
           "align": "left"
          },
          "hovermode": "closest",
          "mapbox": {
           "style": "light"
          },
          "paper_bgcolor": "white",
          "plot_bgcolor": "#E5ECF6",
          "polar": {
           "angularaxis": {
            "gridcolor": "white",
            "linecolor": "white",
            "ticks": ""
           },
           "bgcolor": "#E5ECF6",
           "radialaxis": {
            "gridcolor": "white",
            "linecolor": "white",
            "ticks": ""
           }
          },
          "scene": {
           "xaxis": {
            "backgroundcolor": "#E5ECF6",
            "gridcolor": "white",
            "gridwidth": 2,
            "linecolor": "white",
            "showbackground": true,
            "ticks": "",
            "zerolinecolor": "white"
           },
           "yaxis": {
            "backgroundcolor": "#E5ECF6",
            "gridcolor": "white",
            "gridwidth": 2,
            "linecolor": "white",
            "showbackground": true,
            "ticks": "",
            "zerolinecolor": "white"
           },
           "zaxis": {
            "backgroundcolor": "#E5ECF6",
            "gridcolor": "white",
            "gridwidth": 2,
            "linecolor": "white",
            "showbackground": true,
            "ticks": "",
            "zerolinecolor": "white"
           }
          },
          "shapedefaults": {
           "line": {
            "color": "#2a3f5f"
           }
          },
          "ternary": {
           "aaxis": {
            "gridcolor": "white",
            "linecolor": "white",
            "ticks": ""
           },
           "baxis": {
            "gridcolor": "white",
            "linecolor": "white",
            "ticks": ""
           },
           "bgcolor": "#E5ECF6",
           "caxis": {
            "gridcolor": "white",
            "linecolor": "white",
            "ticks": ""
           }
          },
          "title": {
           "x": 0.05
          },
          "xaxis": {
           "automargin": true,
           "gridcolor": "white",
           "linecolor": "white",
           "ticks": "",
           "title": {
            "standoff": 15
           },
           "zerolinecolor": "white",
           "zerolinewidth": 2
          },
          "yaxis": {
           "automargin": true,
           "gridcolor": "white",
           "linecolor": "white",
           "ticks": "",
           "title": {
            "standoff": 15
           },
           "zerolinecolor": "white",
           "zerolinewidth": 2
          }
         }
        },
        "title": {
         "text": "amount_per_contributor"
        },
        "xaxis": {
         "anchor": "y",
         "domain": [
          0,
          1
         ],
         "title": {
          "text": "amount_per_contributor"
         }
        },
        "xaxis2": {
         "anchor": "y2",
         "domain": [
          0,
          1
         ],
         "matches": "x",
         "showgrid": true,
         "showticklabels": false
        },
        "yaxis": {
         "anchor": "x",
         "domain": [
          0,
          0.7326
         ],
         "title": {
          "text": "count"
         }
        },
        "yaxis2": {
         "anchor": "x2",
         "domain": [
          0.7426,
          1
         ],
         "matches": "y2",
         "showgrid": false,
         "showline": false,
         "showticklabels": false,
         "ticks": ""
        }
       }
      }
     },
     "metadata": {},
     "output_type": "display_data"
    }
   ],
   "source": [
    "\n",
    "contributors_hist = px.histogram(by_grants, x=\"amount_per_contributor\", color=\"round\",\n",
    "                   marginal=\"box\", # or violin, rug\n",
    "                   title='amount_per_contributor'\n",
    "                   )\n",
    "contributors_hist.show()"
   ]
  },
  {
   "cell_type": "code",
   "execution_count": 49,
   "metadata": {},
   "outputs": [
    {
     "data": {
      "application/vnd.plotly.v1+json": {
       "config": {
        "plotlyServerURL": "https://plot.ly"
       },
       "data": [
        {
         "alignmentgroup": "True",
         "bingroup": "x",
         "hovertemplate": "round=fantom<br>holders_ratio=%{x}<br>count=%{y}<extra></extra>",
         "legendgroup": "fantom",
         "marker": {
          "color": "#636efa",
          "pattern": {
           "shape": ""
          }
         },
         "name": "fantom",
         "offsetgroup": "fantom",
         "orientation": "v",
         "showlegend": true,
         "type": "histogram",
         "x": [
          0.273352435530086,
          0.3157894736842105,
          0.2530664945125888,
          0.26865671641791045,
          0.24570200573065903,
          0.25221991309276404,
          0.3062505946151651,
          0.2637231503579952,
          0.25500667556742324,
          0.2867501647989453,
          0.36998394863563405,
          0.3016032064128257,
          0.1665858389912706,
          0.2506281407035176,
          0.3060052219321149,
          0.20298372513562388,
          0.26591314693634743,
          0.3187232015245355,
          0.22662889518413598,
          0.2658569500674764,
          0.25153374233128833,
          0.26308985132514545,
          0.2546712802768166,
          0.318475671997278,
          0.24710144927536232,
          0.2541583499667332,
          0.34059873949579833,
          0.30210414952392145,
          0.2741774675972084,
          0.25255474452554744,
          0.2552770448548813,
          0.24645892351274787,
          0.264669163545568,
          0.37919105907397554,
          0.23645496950125583,
          0.29345088161209065,
          0.2561872909698997,
          0.34359368988072336,
          0.2771908017402113,
          0.28946254760897167,
          0.2899903053805138,
          0.31275303643724695,
          0.25272610647851185,
          0.3486682808716707,
          0.26733657243816256,
          0.29011425732737206,
          0.28830752802989856,
          0.26126126126126126,
          0.27595183859420763,
          0.3819372630127542,
          0.33093783686669065,
          0.29238329238329236,
          0.3038659793814433,
          0.25,
          0.3087388801674516,
          0.3085390260173449,
          0.32259316770186336,
          0.2685810810810811,
          0.36293659990067867,
          0.2536997885835095,
          0.3294677371394588,
          0.3311546840958606,
          0.26429404900816805,
          0.29173764906303234,
          0.30194805194805197,
          0.23997326203208555,
          0.31469825990373934,
          0.2637873754152824,
          0.2929824561403509,
          0.25832846288720046,
          0.2605839416058394,
          0.3273935366958623,
          0.27607361963190186,
          0.26378227494766227,
          0.4014623955431755,
          0.3078497686009256,
          0.25761266747868455,
          0.28486646884273,
          0.24056301983365322,
          0.3031674208144796,
          0.26095487246566385,
          0.2718609865470852,
          0.26024590163934425,
          0.2893401015228426,
          0.3121134958166606,
          0.30903790087463556,
          0.2730030333670374,
          0.25127877237851665
         ],
         "xaxis": "x",
         "yaxis": "y"
        },
        {
         "alignmentgroup": "True",
         "hovertemplate": "round=fantom<br>holders_ratio=%{x}<extra></extra>",
         "legendgroup": "fantom",
         "marker": {
          "color": "#636efa"
         },
         "name": "fantom",
         "notched": true,
         "offsetgroup": "fantom",
         "showlegend": false,
         "type": "box",
         "x": [
          0.273352435530086,
          0.3157894736842105,
          0.2530664945125888,
          0.26865671641791045,
          0.24570200573065903,
          0.25221991309276404,
          0.3062505946151651,
          0.2637231503579952,
          0.25500667556742324,
          0.2867501647989453,
          0.36998394863563405,
          0.3016032064128257,
          0.1665858389912706,
          0.2506281407035176,
          0.3060052219321149,
          0.20298372513562388,
          0.26591314693634743,
          0.3187232015245355,
          0.22662889518413598,
          0.2658569500674764,
          0.25153374233128833,
          0.26308985132514545,
          0.2546712802768166,
          0.318475671997278,
          0.24710144927536232,
          0.2541583499667332,
          0.34059873949579833,
          0.30210414952392145,
          0.2741774675972084,
          0.25255474452554744,
          0.2552770448548813,
          0.24645892351274787,
          0.264669163545568,
          0.37919105907397554,
          0.23645496950125583,
          0.29345088161209065,
          0.2561872909698997,
          0.34359368988072336,
          0.2771908017402113,
          0.28946254760897167,
          0.2899903053805138,
          0.31275303643724695,
          0.25272610647851185,
          0.3486682808716707,
          0.26733657243816256,
          0.29011425732737206,
          0.28830752802989856,
          0.26126126126126126,
          0.27595183859420763,
          0.3819372630127542,
          0.33093783686669065,
          0.29238329238329236,
          0.3038659793814433,
          0.25,
          0.3087388801674516,
          0.3085390260173449,
          0.32259316770186336,
          0.2685810810810811,
          0.36293659990067867,
          0.2536997885835095,
          0.3294677371394588,
          0.3311546840958606,
          0.26429404900816805,
          0.29173764906303234,
          0.30194805194805197,
          0.23997326203208555,
          0.31469825990373934,
          0.2637873754152824,
          0.2929824561403509,
          0.25832846288720046,
          0.2605839416058394,
          0.3273935366958623,
          0.27607361963190186,
          0.26378227494766227,
          0.4014623955431755,
          0.3078497686009256,
          0.25761266747868455,
          0.28486646884273,
          0.24056301983365322,
          0.3031674208144796,
          0.26095487246566385,
          0.2718609865470852,
          0.26024590163934425,
          0.2893401015228426,
          0.3121134958166606,
          0.30903790087463556,
          0.2730030333670374,
          0.25127877237851665
         ],
         "xaxis": "x2",
         "yaxis": "y2"
        },
        {
         "alignmentgroup": "True",
         "bingroup": "x",
         "hovertemplate": "round=unicef<br>holders_ratio=%{x}<br>count=%{y}<extra></extra>",
         "legendgroup": "unicef",
         "marker": {
          "color": "#EF553B",
          "pattern": {
           "shape": ""
          }
         },
         "name": "unicef",
         "offsetgroup": "unicef",
         "orientation": "v",
         "showlegend": true,
         "type": "histogram",
         "x": [
          0.33745536304721596,
          0.30278655558747486,
          0.275755068266446,
          0.3076923076923077,
          0.3088342440801457,
          0.2989103269019294,
          0.29913439635535305,
          0.28381991230884396,
          0.27785434114279656,
          0.323056768558952
         ],
         "xaxis": "x",
         "yaxis": "y"
        },
        {
         "alignmentgroup": "True",
         "hovertemplate": "round=unicef<br>holders_ratio=%{x}<extra></extra>",
         "legendgroup": "unicef",
         "marker": {
          "color": "#EF553B"
         },
         "name": "unicef",
         "notched": true,
         "offsetgroup": "unicef",
         "showlegend": false,
         "type": "box",
         "x": [
          0.33745536304721596,
          0.30278655558747486,
          0.275755068266446,
          0.3076923076923077,
          0.3088342440801457,
          0.2989103269019294,
          0.29913439635535305,
          0.28381991230884396,
          0.27785434114279656,
          0.323056768558952
         ],
         "xaxis": "x2",
         "yaxis": "y2"
        },
        {
         "alignmentgroup": "True",
         "bingroup": "x",
         "hovertemplate": "round=gr15<br>holders_ratio=%{x}<br>count=%{y}<extra></extra>",
         "legendgroup": "gr15",
         "marker": {
          "color": "#00cc96",
          "pattern": {
           "shape": ""
          }
         },
         "name": "gr15",
         "offsetgroup": "gr15",
         "orientation": "v",
         "showlegend": true,
         "type": "histogram",
         "x": [
          0.6582278481012658,
          0.5930232558139535,
          0.7461538461538462,
          0.5882352941176471,
          0.5652173913043478,
          0.4736842105263157,
          0.6666666666666666,
          0.6470588235294118,
          0.6808510638297872,
          0.4090909090909091,
          0.75,
          0.3846153846153846,
          0.8,
          0.717948717948718,
          0.6252821670428894,
          0.5527777777777778,
          0.6058394160583942,
          0.4166666666666667,
          0.3663366336633663,
          0.3448275862068966,
          0.8181818181818182,
          0.5833333333333334,
          0.4090909090909091,
          0.6666666666666666,
          0.6481481481481481,
          0.7878787878787878,
          0.3571428571428571,
          0.225,
          0.3571428571428571,
          0.691358024691358,
          0.25,
          0.921875,
          0.5862068965517241,
          0.4545454545454545,
          0.6764705882352942,
          0.5272727272727272,
          0.5,
          0.7933884297520661,
          0.7741935483870968,
          0.9187817258883249,
          0.6428571428571429,
          0.7213114754098361,
          0.4098360655737705,
          0.6172106824925816,
          0.7027027027027027,
          0.5909090909090909,
          0.8095238095238095,
          0.6428571428571429,
          0.6057692307692307,
          0.6785714285714286,
          0.7333333333333333,
          0.3314763231197771,
          0.4638403990024937,
          0.1666666666666666,
          0.5714285714285714,
          0.75,
          0.6869565217391305,
          0.0714285714285714,
          0.2790697674418604,
          0.6703910614525139,
          0.7368421052631579,
          0.3478260869565217,
          0.7391304347826086,
          0.6949152542372882,
          0.5172413793103449,
          0.489247311827957,
          0.6842105263157895,
          0.1221945137157107,
          0.0845188284518828,
          0.7647058823529411,
          0.5,
          0.75,
          0.5457413249211357,
          0.25,
          0.5709876543209876,
          0.6138613861386139,
          0.625,
          0.5277777777777778,
          0.6220472440944882,
          0.7096774193548387,
          0.9090909090909092,
          0.2653061224489796,
          0.0632911392405063,
          0.5714285714285714,
          0.5,
          0.6593406593406593,
          0.6432432432432432,
          0.5466666666666666,
          0.6707317073170732,
          0.5789473684210527,
          0.6,
          0.6541095890410958,
          0.616946160635481,
          0.6013986013986014,
          0.5115241635687733,
          0.7213114754098361,
          0.5833333333333334,
          0.1981132075471698,
          0.5566037735849056,
          0.5,
          0.5294117647058824,
          0.5555555555555556,
          0.2421052631578947,
          0.4957044673539519,
          0.4857142857142857,
          0.4895833333333333,
          0.5607755406413124,
          0.6171428571428571,
          0.63,
          0.0826996197718631,
          0.6470588235294118,
          0.5766423357664233,
          0.7611940298507462,
          0.1032967032967032,
          0.5882352941176471,
          0.75,
          0.6349206349206349,
          0.6222222222222222,
          0.5224489795918368,
          0.6666666666666666,
          0.7222222222222222,
          0.6571428571428571,
          0.6785714285714286,
          0.5988023952095808,
          0.8034934497816594,
          0.4166666666666667,
          0.68,
          0.7352941176470589,
          0.5952740070387129,
          0.1105476673427992,
          0.6410256410256411,
          0.6666666666666666,
          0.6172839506172839,
          0.7448979591836735,
          0.1449144914491449,
          0.4934210526315789,
          0.5689655172413793,
          0.0172413793103448,
          0.4838709677419355,
          0.4067796610169492,
          0.547945205479452,
          0.6875,
          0.65,
          0.4705882352941176,
          0.0885496183206106,
          0.6063492063492063,
          0.64,
          0.5333333333333333,
          0.4657534246575342,
          0.4782608695652174,
          0.6055045871559633,
          0.7419354838709677,
          0.392156862745098,
          0.7288135593220338,
          0.4946236559139785,
          0.5871559633027523,
          0.5454545454545454,
          0.631578947368421,
          0.1758917589175891,
          0.4672897196261682,
          0.7,
          0.2347417840375587,
          0.03003003003003,
          0.75,
          0.4871794871794871,
          1,
          0.5833333333333334,
          0.5909090909090909,
          0.7543859649122807,
          0.6445497630331753,
          0.5925925925925926,
          0.5714285714285714,
          0.5714285714285714,
          0.3157894736842105,
          0.7037037037037037,
          0.6551724137931034,
          0.5625,
          0.6125,
          0.5763216679076694,
          0.7287066246056783,
          0.32,
          0.1302037201062887,
          0.5333333333333333,
          0.8142076502732241,
          0.4958677685950413,
          0.6,
          0.4565330557001562,
          0.6136363636363636,
          0.5708154506437768,
          0.3172888015717092,
          0.6428571428571429,
          0.0781544256120527,
          0.5018587360594795,
          0.5117647058823529,
          0.5361982191250484,
          0.6535433070866141,
          0.2,
          0.9111111111111112,
          0.7375,
          0.2142857142857142,
          0.7681159420289855,
          0.0689655172413793,
          0.3684210526315789,
          0.6190476190476191,
          0.0839041095890411,
          0.6342857142857142,
          0.0554913294797687,
          0.6666666666666666,
          1,
          0.6845378511687754,
          0.3852058618283321,
          0.6046511627906976,
          0.6923076923076923,
          0.6666666666666666,
          0.625,
          0.5493421052631579,
          0.0625,
          0.4408292542470486,
          0.1795716639209225,
          0.5535714285714286,
          0.5789473684210527,
          0.9166666666666666,
          0.5526315789473685,
          0.7358490566037735,
          0.648936170212766,
          0.052219321148825,
          0.7692307692307693,
          0.4905331340308919,
          0.3186528497409326,
          0.7307692307692307,
          0.574468085106383,
          0.6363636363636364,
          0.4543933054393305,
          0.5625,
          0.65,
          0.3255813953488372,
          0.5046728971962616,
          0.6226415094339622,
          0.5238095238095238,
          0.4727520435967302,
          0.53125,
          0.25,
          0.1538461538461538,
          0.3809523809523809,
          0.3157894736842105,
          0.6,
          0.6147540983606558,
          0.4285714285714285,
          0.8125,
          0.5172413793103449,
          0.6,
          0.4741935483870967,
          0.5606694560669456,
          0.5735294117647058,
          0.3684210526315789,
          0.6470588235294118,
          0.50814332247557,
          0.5580110497237569,
          0.3684210526315789,
          0.62,
          0.6227979274611399,
          0.1918918918918919,
          0.6324786324786325,
          0.5096153846153846,
          0.3636363636363636,
          0.6363636363636364,
          0.5492227979274611,
          0.3975373790677221,
          0.1666666666666666,
          0.032258064516129,
          0.6146095717884131,
          0.4736842105263157,
          0.6333333333333333,
          0.434699714013346,
          0.5915492957746479,
          0.599476439790576,
          0.5,
          0.75,
          0.5073068893528184,
          0.5773195876288659,
          0.5115910441846642,
          0.7692307692307693,
          0.6,
          0.7857142857142857,
          0.6857798165137615,
          0.5,
          0.5693430656934306,
          0.6330275229357798,
          0.6363636363636364,
          0.3109243697478991,
          0.6,
          0.5397334016918739,
          0.6666666666666666,
          0.6222222222222222,
          0.4736842105263157,
          0.5882352941176471,
          0.7358024691358025,
          0.5609756097560976,
          0.6764705882352942,
          0.7857142857142857,
          0.6956521739130435,
          0.4859813084112149,
          0.0909090909090909,
          0.5074626865671642,
          0.76,
          0.5789473684210527,
          0.8125,
          0.8611111111111112,
          0.5215909090909091,
          0.0949820788530465,
          0.4071661237785016,
          0.6610169491525424,
          0.5625,
          0.5853658536585366,
          0.56,
          0.4794520547945205,
          0.75,
          0.4655172413793103,
          0.5714285714285714,
          0.660377358490566,
          0.1022938623682579,
          0.221938775510204,
          0.5238095238095238,
          0.2307692307692307,
          0.5789473684210527,
          0.0751445086705202,
          0.6486486486486487,
          0.1338090990187332,
          0.5555555555555556,
          0.1731266149870801,
          0.4576755891100434,
          0.0878928987194412,
          0.0849609375,
          0.6830985915492958,
          0.5882352941176471,
          0.6066350710900474,
          0.1635049683830171,
          0.1194539249146757,
          0.4444444444444444,
          0.625,
          0.6299212598425197,
          0.6521739130434783,
          0.2014995313964386,
          0.6016260162601627,
          0.8148148148148148,
          0.5754310344827587,
          0.5743589743589743,
          0.625,
          0.4615384615384615,
          0.7292418772563177,
          0.5087719298245614,
          0.1079199303742384,
          0.375,
          0.2069868995633187,
          0.1905187835420393,
          0.6818181818181818,
          0.6363636363636364,
          0.5614035087719298,
          0.6639344262295082,
          0.0941906373378454,
          0.2091932457786116,
          0.6041666666666666,
          0.2,
          0.3809523809523809,
          0.1335898845519516,
          0.375,
          0.4096385542168674,
          0.9375,
          0.3958333333333333,
          0.6243654822335025,
          0.25,
          0.6511627906976745,
          0.5,
          0.6477987421383647,
          0.5833333333333334,
          0.3137254901960784,
          0.4285714285714285,
          0.4166666666666667,
          0.7368421052631579,
          0.7272727272727273,
          0.6428571428571429,
          0.5815217391304348,
          0.4102564102564102,
          0.6428571428571429,
          0.3478260869565217,
          0.5,
          0.6666666666666666,
          0.5238095238095238,
          0.5131578947368421,
          0.5769230769230769,
          0.4029850746268656,
          0.2,
          0.3801169590643274,
          0.5151423684475299,
          0.6666666666666666,
          0.4177489177489177,
          0.5956937799043063,
          0.6311239193083573,
          0.5769230769230769,
          0.5688073394495413,
          0.5367965367965368,
          0.4716981132075472,
          0.6285714285714286,
          0.6481481481481481,
          0.6944444444444444,
          0.5732057416267943,
          0.8064516129032258,
          0.5652173913043478,
          0.5714285714285714,
          0.3571428571428571,
          0.527027027027027,
          0.5768261964735516,
          0.5609470914937152,
          0.6715328467153284,
          0.5012853470437018,
          0.5963855421686747,
          0.4948979591836734,
          0.8333333333333334,
          0.5040322580645161,
          0.6077348066298343,
          0.55,
          0.6363636363636364,
          0.6642335766423357,
          0.5319148936170213,
          0.4970588235294118,
          0.6113744075829384,
          0.4307610993657505,
          0.1333333333333333,
          0.4396029392806497,
          0.7333333333333333,
          0.4925373134328358,
          0.4273127753303964,
          0.6284584980237155,
          0.5206216377764495,
          0.581081081081081,
          0.5752508361204013,
          0.625,
          0.5714285714285714,
          0.6857142857142857,
          0.5897435897435898,
          0.5,
          0.4594991734525194,
          0.6410256410256411,
          0.5333333333333333,
          0.6002024291497976,
          0.5,
          0.5862068965517241,
          0.5833333333333334,
          0.6373626373626373,
          0.6521739130434783,
          0.32,
          0.4455205811138014,
          0.648854961832061,
          0.5868725868725869,
          0.8383838383838383,
          0.5,
          0.6666666666666666,
          0.5306122448979592,
          0.5797101449275363,
          0.4798994974874372,
          0.5032051282051282,
          0.4416666666666666,
          0.5232258064516129,
          0.6018518518518519,
          0.4736842105263157,
          0.15,
          0.5054310719384272,
          0.6538461538461539,
          0.6741071428571429,
          0.6666666666666666,
          0.5036496350364964,
          0.4285714285714285,
          0.4545454545454545,
          0.5220338983050847,
          0.6538461538461539,
          0.6357142857142857,
          0.3333333333333333,
          0.4333333333333333,
          0.7572559366754618,
          0.4166666666666667,
          0.6381578947368421,
          0.6462585034013606,
          0.6415094339622641,
          0.5714285714285714,
          0.5714285714285714,
          0.4305555555555556,
          0.7142857142857143,
          0.6195652173913043,
          0.651685393258427,
          0.6496350364963503,
          0.4082568807339449,
          0.4736842105263157,
          0.5566037735849056,
          0.5759514988211519,
          0.5540540540540541,
          0.5403587443946188,
          0.6109589041095891,
          0.605,
          0.6264462809917355,
          0.7315436241610739,
          0.3846153846153846,
          0.6025641025641025,
          0.6244897959183674,
          0.65625,
          0.4490177736202058,
          0.4545454545454545,
          0.4130434782608695,
          0.7132352941176471,
          0.72,
          0.5684647302904564,
          0.5102040816326531,
          0.5844155844155844,
          0.5390822340724108,
          0.5061782877316858,
          0.6834170854271356,
          0.7037037037037037,
          0.7857142857142857,
          0.5,
          0.3947368421052631,
          0.5384615384615384,
          0.5769230769230769,
          0.5944827586206897,
          0.5162689804772235,
          0.6114649681528662,
          0.7222222222222222,
          0.5,
          0.6388888888888888,
          0.6458333333333334,
          0.2752475247524752,
          0.676056338028169,
          0.5166240409207161,
          0.4285714285714285,
          0.660377358490566,
          0.7246376811594203,
          0.5076142131979695,
          0.75,
          0.6217616580310881,
          0.5672727272727273,
          0.7142857142857143,
          0.3636363636363636,
          0.4166666666666667,
          0.8666666666666667,
          0.1052631578947368,
          0.25,
          0.5714285714285714,
          0.4204545454545454,
          0.6842105263157895,
          0.5652173913043478,
          0.5789473684210527,
          0.7087378640776699,
          0.7413793103448276,
          0.5576923076923077,
          0.6779661016949152,
          0.5646766169154229,
          0.6,
          0.5430327868852459,
          0.2832080200501253,
          0.3952424519670631,
          0.5967741935483871,
          0.546875,
          0.5583333333333333,
          0.8709677419354839,
          0.6,
          0.505338078291815,
          0.5625,
          0.4848484848484848,
          0.5319502074688797,
          0.660377358490566,
          0.7191011235955056,
          0.6428571428571429,
          0.4615384615384615,
          0.5791015625,
          0.6426168224299066,
          0.5714285714285714,
          0.6516129032258065,
          0.5011316155988857,
          0.3322368421052631,
          0.5940959409594095,
          0.5901639344262295,
          0.25,
          0.0909090909090909,
          0.4,
          0.6923076923076923,
          0.5773809523809523,
          0.5759493670886076,
          0.4,
          0.4545454545454545,
          0.5,
          0.553763440860215,
          0.3263888888888889,
          0.2410714285714285,
          0.5838509316770186,
          0.2413793103448276,
          0.625,
          0.5588235294117647,
          0.5333333333333333,
          0.5151515151515151,
          0.8181818181818182,
          0.4848484848484848,
          0.4526315789473684,
          0.6228813559322034,
          0.6875,
          0.4705882352941176,
          0.4583333333333333,
          0.4748142031379025,
          0.75,
          0.4666666666666667,
          0.9090909090909092,
          0.6414141414141414,
          0.4930555555555556,
          0.544,
          0.5865921787709497,
          0.7272727272727273,
          0.4117647058823529,
          0.5454545454545454,
          0.3214285714285714,
          0.6363636363636364,
          0.5784313725490197,
          0.4565217391304347,
          0.4666666666666667,
          0.8260869565217391,
          0.3579335793357933,
          0.5,
          0.4615384615384615,
          0.6528925619834711,
          0.553030303030303,
          0.3157894736842105,
          0.5230769230769231,
          0.3888888888888889,
          0.5748299319727891,
          0.4610694183864915,
          0.5645756457564576,
          0.3333333333333333,
          0.6904761904761905,
          0.4778325123152709,
          0.6363636363636364,
          0.2307692307692307,
          0.4872521246458923,
          0.4535714285714285,
          0.500507614213198,
          0.7084233261339092,
          0.6188340807174888,
          0.6169491525423729,
          0.4973262032085561,
          0.1538461538461538,
          0.6363636363636364,
          0.4703557312252964,
          0.6537216828478964,
          0.4615384615384615,
          0.5454545454545454,
          0.7428571428571429,
          0.4777777777777778,
          0.3888888888888889,
          0.625,
          0.5272727272727272,
          0.6811594202898551,
          0.581081081081081,
          0.3333333333333333,
          0.5348837209302325,
          0.5246913580246914,
          0.3684210526315789,
          0.547945205479452,
          0.5238095238095238,
          0.55,
          0.4834437086092715,
          0.5384615384615384,
          0.5297638842700366,
          0.5384615384615384,
          0.5323383084577115,
          0.5434782608695652,
          0.6451612903225806,
          0.5102040816326531,
          0.5263157894736842,
          0.6363636363636364,
          0.625,
          0.6129283489096573,
          0.375,
          0.6428571428571429,
          0.4814814814814814,
          0.632183908045977,
          0.6012658227848101,
          0.5172413793103449,
          0.6313993174061433,
          0.5641025641025641,
          0.4166666666666667,
          0.4347826086956521,
          0.7555555555555555,
          0.5034965034965035,
          0.5833333333333334,
          0.7931034482758621,
          0.3571428571428571,
          0.6161616161616161,
          0.522248243559719,
          0.75,
          0.7653061224489796,
          0.6730769230769231,
          0.5967130214917825,
          0.5730337078651685,
          0.217391304347826,
          0.7272727272727273,
          0.5,
          0.3125,
          0.4456521739130434,
          0.6109022556390977,
          0.5629850746268656,
          0.6321243523316062,
          0.5720465393794749,
          0.4507042253521127,
          0.6045918367346939,
          0.6195054945054945,
          0.5,
          0.4116809116809117,
          1,
          0.5555555555555556,
          0.625,
          0.5384615384615384,
          0.3818181818181818,
          0.4877675840978593,
          0.5631741140215717,
          0.5857740585774058
         ],
         "xaxis": "x",
         "yaxis": "y"
        },
        {
         "alignmentgroup": "True",
         "hovertemplate": "round=gr15<br>holders_ratio=%{x}<extra></extra>",
         "legendgroup": "gr15",
         "marker": {
          "color": "#00cc96"
         },
         "name": "gr15",
         "notched": true,
         "offsetgroup": "gr15",
         "showlegend": false,
         "type": "box",
         "x": [
          0.6582278481012658,
          0.5930232558139535,
          0.7461538461538462,
          0.5882352941176471,
          0.5652173913043478,
          0.4736842105263157,
          0.6666666666666666,
          0.6470588235294118,
          0.6808510638297872,
          0.4090909090909091,
          0.75,
          0.3846153846153846,
          0.8,
          0.717948717948718,
          0.6252821670428894,
          0.5527777777777778,
          0.6058394160583942,
          0.4166666666666667,
          0.3663366336633663,
          0.3448275862068966,
          0.8181818181818182,
          0.5833333333333334,
          0.4090909090909091,
          0.6666666666666666,
          0.6481481481481481,
          0.7878787878787878,
          0.3571428571428571,
          0.225,
          0.3571428571428571,
          0.691358024691358,
          0.25,
          0.921875,
          0.5862068965517241,
          0.4545454545454545,
          0.6764705882352942,
          0.5272727272727272,
          0.5,
          0.7933884297520661,
          0.7741935483870968,
          0.9187817258883249,
          0.6428571428571429,
          0.7213114754098361,
          0.4098360655737705,
          0.6172106824925816,
          0.7027027027027027,
          0.5909090909090909,
          0.8095238095238095,
          0.6428571428571429,
          0.6057692307692307,
          0.6785714285714286,
          0.7333333333333333,
          0.3314763231197771,
          0.4638403990024937,
          0.1666666666666666,
          0.5714285714285714,
          0.75,
          0.6869565217391305,
          0.0714285714285714,
          0.2790697674418604,
          0.6703910614525139,
          0.7368421052631579,
          0.3478260869565217,
          0.7391304347826086,
          0.6949152542372882,
          0.5172413793103449,
          0.489247311827957,
          0.6842105263157895,
          0.1221945137157107,
          0.0845188284518828,
          0.7647058823529411,
          0.5,
          0.75,
          0.5457413249211357,
          0.25,
          0.5709876543209876,
          0.6138613861386139,
          0.625,
          0.5277777777777778,
          0.6220472440944882,
          0.7096774193548387,
          0.9090909090909092,
          0.2653061224489796,
          0.0632911392405063,
          0.5714285714285714,
          0.5,
          0.6593406593406593,
          0.6432432432432432,
          0.5466666666666666,
          0.6707317073170732,
          0.5789473684210527,
          0.6,
          0.6541095890410958,
          0.616946160635481,
          0.6013986013986014,
          0.5115241635687733,
          0.7213114754098361,
          0.5833333333333334,
          0.1981132075471698,
          0.5566037735849056,
          0.5,
          0.5294117647058824,
          0.5555555555555556,
          0.2421052631578947,
          0.4957044673539519,
          0.4857142857142857,
          0.4895833333333333,
          0.5607755406413124,
          0.6171428571428571,
          0.63,
          0.0826996197718631,
          0.6470588235294118,
          0.5766423357664233,
          0.7611940298507462,
          0.1032967032967032,
          0.5882352941176471,
          0.75,
          0.6349206349206349,
          0.6222222222222222,
          0.5224489795918368,
          0.6666666666666666,
          0.7222222222222222,
          0.6571428571428571,
          0.6785714285714286,
          0.5988023952095808,
          0.8034934497816594,
          0.4166666666666667,
          0.68,
          0.7352941176470589,
          0.5952740070387129,
          0.1105476673427992,
          0.6410256410256411,
          0.6666666666666666,
          0.6172839506172839,
          0.7448979591836735,
          0.1449144914491449,
          0.4934210526315789,
          0.5689655172413793,
          0.0172413793103448,
          0.4838709677419355,
          0.4067796610169492,
          0.547945205479452,
          0.6875,
          0.65,
          0.4705882352941176,
          0.0885496183206106,
          0.6063492063492063,
          0.64,
          0.5333333333333333,
          0.4657534246575342,
          0.4782608695652174,
          0.6055045871559633,
          0.7419354838709677,
          0.392156862745098,
          0.7288135593220338,
          0.4946236559139785,
          0.5871559633027523,
          0.5454545454545454,
          0.631578947368421,
          0.1758917589175891,
          0.4672897196261682,
          0.7,
          0.2347417840375587,
          0.03003003003003,
          0.75,
          0.4871794871794871,
          1,
          0.5833333333333334,
          0.5909090909090909,
          0.7543859649122807,
          0.6445497630331753,
          0.5925925925925926,
          0.5714285714285714,
          0.5714285714285714,
          0.3157894736842105,
          0.7037037037037037,
          0.6551724137931034,
          0.5625,
          0.6125,
          0.5763216679076694,
          0.7287066246056783,
          0.32,
          0.1302037201062887,
          0.5333333333333333,
          0.8142076502732241,
          0.4958677685950413,
          0.6,
          0.4565330557001562,
          0.6136363636363636,
          0.5708154506437768,
          0.3172888015717092,
          0.6428571428571429,
          0.0781544256120527,
          0.5018587360594795,
          0.5117647058823529,
          0.5361982191250484,
          0.6535433070866141,
          0.2,
          0.9111111111111112,
          0.7375,
          0.2142857142857142,
          0.7681159420289855,
          0.0689655172413793,
          0.3684210526315789,
          0.6190476190476191,
          0.0839041095890411,
          0.6342857142857142,
          0.0554913294797687,
          0.6666666666666666,
          1,
          0.6845378511687754,
          0.3852058618283321,
          0.6046511627906976,
          0.6923076923076923,
          0.6666666666666666,
          0.625,
          0.5493421052631579,
          0.0625,
          0.4408292542470486,
          0.1795716639209225,
          0.5535714285714286,
          0.5789473684210527,
          0.9166666666666666,
          0.5526315789473685,
          0.7358490566037735,
          0.648936170212766,
          0.052219321148825,
          0.7692307692307693,
          0.4905331340308919,
          0.3186528497409326,
          0.7307692307692307,
          0.574468085106383,
          0.6363636363636364,
          0.4543933054393305,
          0.5625,
          0.65,
          0.3255813953488372,
          0.5046728971962616,
          0.6226415094339622,
          0.5238095238095238,
          0.4727520435967302,
          0.53125,
          0.25,
          0.1538461538461538,
          0.3809523809523809,
          0.3157894736842105,
          0.6,
          0.6147540983606558,
          0.4285714285714285,
          0.8125,
          0.5172413793103449,
          0.6,
          0.4741935483870967,
          0.5606694560669456,
          0.5735294117647058,
          0.3684210526315789,
          0.6470588235294118,
          0.50814332247557,
          0.5580110497237569,
          0.3684210526315789,
          0.62,
          0.6227979274611399,
          0.1918918918918919,
          0.6324786324786325,
          0.5096153846153846,
          0.3636363636363636,
          0.6363636363636364,
          0.5492227979274611,
          0.3975373790677221,
          0.1666666666666666,
          0.032258064516129,
          0.6146095717884131,
          0.4736842105263157,
          0.6333333333333333,
          0.434699714013346,
          0.5915492957746479,
          0.599476439790576,
          0.5,
          0.75,
          0.5073068893528184,
          0.5773195876288659,
          0.5115910441846642,
          0.7692307692307693,
          0.6,
          0.7857142857142857,
          0.6857798165137615,
          0.5,
          0.5693430656934306,
          0.6330275229357798,
          0.6363636363636364,
          0.3109243697478991,
          0.6,
          0.5397334016918739,
          0.6666666666666666,
          0.6222222222222222,
          0.4736842105263157,
          0.5882352941176471,
          0.7358024691358025,
          0.5609756097560976,
          0.6764705882352942,
          0.7857142857142857,
          0.6956521739130435,
          0.4859813084112149,
          0.0909090909090909,
          0.5074626865671642,
          0.76,
          0.5789473684210527,
          0.8125,
          0.8611111111111112,
          0.5215909090909091,
          0.0949820788530465,
          0.4071661237785016,
          0.6610169491525424,
          0.5625,
          0.5853658536585366,
          0.56,
          0.4794520547945205,
          0.75,
          0.4655172413793103,
          0.5714285714285714,
          0.660377358490566,
          0.1022938623682579,
          0.221938775510204,
          0.5238095238095238,
          0.2307692307692307,
          0.5789473684210527,
          0.0751445086705202,
          0.6486486486486487,
          0.1338090990187332,
          0.5555555555555556,
          0.1731266149870801,
          0.4576755891100434,
          0.0878928987194412,
          0.0849609375,
          0.6830985915492958,
          0.5882352941176471,
          0.6066350710900474,
          0.1635049683830171,
          0.1194539249146757,
          0.4444444444444444,
          0.625,
          0.6299212598425197,
          0.6521739130434783,
          0.2014995313964386,
          0.6016260162601627,
          0.8148148148148148,
          0.5754310344827587,
          0.5743589743589743,
          0.625,
          0.4615384615384615,
          0.7292418772563177,
          0.5087719298245614,
          0.1079199303742384,
          0.375,
          0.2069868995633187,
          0.1905187835420393,
          0.6818181818181818,
          0.6363636363636364,
          0.5614035087719298,
          0.6639344262295082,
          0.0941906373378454,
          0.2091932457786116,
          0.6041666666666666,
          0.2,
          0.3809523809523809,
          0.1335898845519516,
          0.375,
          0.4096385542168674,
          0.9375,
          0.3958333333333333,
          0.6243654822335025,
          0.25,
          0.6511627906976745,
          0.5,
          0.6477987421383647,
          0.5833333333333334,
          0.3137254901960784,
          0.4285714285714285,
          0.4166666666666667,
          0.7368421052631579,
          0.7272727272727273,
          0.6428571428571429,
          0.5815217391304348,
          0.4102564102564102,
          0.6428571428571429,
          0.3478260869565217,
          0.5,
          0.6666666666666666,
          0.5238095238095238,
          0.5131578947368421,
          0.5769230769230769,
          0.4029850746268656,
          0.2,
          0.3801169590643274,
          0.5151423684475299,
          0.6666666666666666,
          0.4177489177489177,
          0.5956937799043063,
          0.6311239193083573,
          0.5769230769230769,
          0.5688073394495413,
          0.5367965367965368,
          0.4716981132075472,
          0.6285714285714286,
          0.6481481481481481,
          0.6944444444444444,
          0.5732057416267943,
          0.8064516129032258,
          0.5652173913043478,
          0.5714285714285714,
          0.3571428571428571,
          0.527027027027027,
          0.5768261964735516,
          0.5609470914937152,
          0.6715328467153284,
          0.5012853470437018,
          0.5963855421686747,
          0.4948979591836734,
          0.8333333333333334,
          0.5040322580645161,
          0.6077348066298343,
          0.55,
          0.6363636363636364,
          0.6642335766423357,
          0.5319148936170213,
          0.4970588235294118,
          0.6113744075829384,
          0.4307610993657505,
          0.1333333333333333,
          0.4396029392806497,
          0.7333333333333333,
          0.4925373134328358,
          0.4273127753303964,
          0.6284584980237155,
          0.5206216377764495,
          0.581081081081081,
          0.5752508361204013,
          0.625,
          0.5714285714285714,
          0.6857142857142857,
          0.5897435897435898,
          0.5,
          0.4594991734525194,
          0.6410256410256411,
          0.5333333333333333,
          0.6002024291497976,
          0.5,
          0.5862068965517241,
          0.5833333333333334,
          0.6373626373626373,
          0.6521739130434783,
          0.32,
          0.4455205811138014,
          0.648854961832061,
          0.5868725868725869,
          0.8383838383838383,
          0.5,
          0.6666666666666666,
          0.5306122448979592,
          0.5797101449275363,
          0.4798994974874372,
          0.5032051282051282,
          0.4416666666666666,
          0.5232258064516129,
          0.6018518518518519,
          0.4736842105263157,
          0.15,
          0.5054310719384272,
          0.6538461538461539,
          0.6741071428571429,
          0.6666666666666666,
          0.5036496350364964,
          0.4285714285714285,
          0.4545454545454545,
          0.5220338983050847,
          0.6538461538461539,
          0.6357142857142857,
          0.3333333333333333,
          0.4333333333333333,
          0.7572559366754618,
          0.4166666666666667,
          0.6381578947368421,
          0.6462585034013606,
          0.6415094339622641,
          0.5714285714285714,
          0.5714285714285714,
          0.4305555555555556,
          0.7142857142857143,
          0.6195652173913043,
          0.651685393258427,
          0.6496350364963503,
          0.4082568807339449,
          0.4736842105263157,
          0.5566037735849056,
          0.5759514988211519,
          0.5540540540540541,
          0.5403587443946188,
          0.6109589041095891,
          0.605,
          0.6264462809917355,
          0.7315436241610739,
          0.3846153846153846,
          0.6025641025641025,
          0.6244897959183674,
          0.65625,
          0.4490177736202058,
          0.4545454545454545,
          0.4130434782608695,
          0.7132352941176471,
          0.72,
          0.5684647302904564,
          0.5102040816326531,
          0.5844155844155844,
          0.5390822340724108,
          0.5061782877316858,
          0.6834170854271356,
          0.7037037037037037,
          0.7857142857142857,
          0.5,
          0.3947368421052631,
          0.5384615384615384,
          0.5769230769230769,
          0.5944827586206897,
          0.5162689804772235,
          0.6114649681528662,
          0.7222222222222222,
          0.5,
          0.6388888888888888,
          0.6458333333333334,
          0.2752475247524752,
          0.676056338028169,
          0.5166240409207161,
          0.4285714285714285,
          0.660377358490566,
          0.7246376811594203,
          0.5076142131979695,
          0.75,
          0.6217616580310881,
          0.5672727272727273,
          0.7142857142857143,
          0.3636363636363636,
          0.4166666666666667,
          0.8666666666666667,
          0.1052631578947368,
          0.25,
          0.5714285714285714,
          0.4204545454545454,
          0.6842105263157895,
          0.5652173913043478,
          0.5789473684210527,
          0.7087378640776699,
          0.7413793103448276,
          0.5576923076923077,
          0.6779661016949152,
          0.5646766169154229,
          0.6,
          0.5430327868852459,
          0.2832080200501253,
          0.3952424519670631,
          0.5967741935483871,
          0.546875,
          0.5583333333333333,
          0.8709677419354839,
          0.6,
          0.505338078291815,
          0.5625,
          0.4848484848484848,
          0.5319502074688797,
          0.660377358490566,
          0.7191011235955056,
          0.6428571428571429,
          0.4615384615384615,
          0.5791015625,
          0.6426168224299066,
          0.5714285714285714,
          0.6516129032258065,
          0.5011316155988857,
          0.3322368421052631,
          0.5940959409594095,
          0.5901639344262295,
          0.25,
          0.0909090909090909,
          0.4,
          0.6923076923076923,
          0.5773809523809523,
          0.5759493670886076,
          0.4,
          0.4545454545454545,
          0.5,
          0.553763440860215,
          0.3263888888888889,
          0.2410714285714285,
          0.5838509316770186,
          0.2413793103448276,
          0.625,
          0.5588235294117647,
          0.5333333333333333,
          0.5151515151515151,
          0.8181818181818182,
          0.4848484848484848,
          0.4526315789473684,
          0.6228813559322034,
          0.6875,
          0.4705882352941176,
          0.4583333333333333,
          0.4748142031379025,
          0.75,
          0.4666666666666667,
          0.9090909090909092,
          0.6414141414141414,
          0.4930555555555556,
          0.544,
          0.5865921787709497,
          0.7272727272727273,
          0.4117647058823529,
          0.5454545454545454,
          0.3214285714285714,
          0.6363636363636364,
          0.5784313725490197,
          0.4565217391304347,
          0.4666666666666667,
          0.8260869565217391,
          0.3579335793357933,
          0.5,
          0.4615384615384615,
          0.6528925619834711,
          0.553030303030303,
          0.3157894736842105,
          0.5230769230769231,
          0.3888888888888889,
          0.5748299319727891,
          0.4610694183864915,
          0.5645756457564576,
          0.3333333333333333,
          0.6904761904761905,
          0.4778325123152709,
          0.6363636363636364,
          0.2307692307692307,
          0.4872521246458923,
          0.4535714285714285,
          0.500507614213198,
          0.7084233261339092,
          0.6188340807174888,
          0.6169491525423729,
          0.4973262032085561,
          0.1538461538461538,
          0.6363636363636364,
          0.4703557312252964,
          0.6537216828478964,
          0.4615384615384615,
          0.5454545454545454,
          0.7428571428571429,
          0.4777777777777778,
          0.3888888888888889,
          0.625,
          0.5272727272727272,
          0.6811594202898551,
          0.581081081081081,
          0.3333333333333333,
          0.5348837209302325,
          0.5246913580246914,
          0.3684210526315789,
          0.547945205479452,
          0.5238095238095238,
          0.55,
          0.4834437086092715,
          0.5384615384615384,
          0.5297638842700366,
          0.5384615384615384,
          0.5323383084577115,
          0.5434782608695652,
          0.6451612903225806,
          0.5102040816326531,
          0.5263157894736842,
          0.6363636363636364,
          0.625,
          0.6129283489096573,
          0.375,
          0.6428571428571429,
          0.4814814814814814,
          0.632183908045977,
          0.6012658227848101,
          0.5172413793103449,
          0.6313993174061433,
          0.5641025641025641,
          0.4166666666666667,
          0.4347826086956521,
          0.7555555555555555,
          0.5034965034965035,
          0.5833333333333334,
          0.7931034482758621,
          0.3571428571428571,
          0.6161616161616161,
          0.522248243559719,
          0.75,
          0.7653061224489796,
          0.6730769230769231,
          0.5967130214917825,
          0.5730337078651685,
          0.217391304347826,
          0.7272727272727273,
          0.5,
          0.3125,
          0.4456521739130434,
          0.6109022556390977,
          0.5629850746268656,
          0.6321243523316062,
          0.5720465393794749,
          0.4507042253521127,
          0.6045918367346939,
          0.6195054945054945,
          0.5,
          0.4116809116809117,
          1,
          0.5555555555555556,
          0.625,
          0.5384615384615384,
          0.3818181818181818,
          0.4877675840978593,
          0.5631741140215717,
          0.5857740585774058
         ],
         "xaxis": "x2",
         "yaxis": "y2"
        }
       ],
       "layout": {
        "barmode": "relative",
        "legend": {
         "title": {
          "text": "round"
         },
         "tracegroupgap": 0
        },
        "template": {
         "data": {
          "bar": [
           {
            "error_x": {
             "color": "#2a3f5f"
            },
            "error_y": {
             "color": "#2a3f5f"
            },
            "marker": {
             "line": {
              "color": "#E5ECF6",
              "width": 0.5
             },
             "pattern": {
              "fillmode": "overlay",
              "size": 10,
              "solidity": 0.2
             }
            },
            "type": "bar"
           }
          ],
          "barpolar": [
           {
            "marker": {
             "line": {
              "color": "#E5ECF6",
              "width": 0.5
             },
             "pattern": {
              "fillmode": "overlay",
              "size": 10,
              "solidity": 0.2
             }
            },
            "type": "barpolar"
           }
          ],
          "carpet": [
           {
            "aaxis": {
             "endlinecolor": "#2a3f5f",
             "gridcolor": "white",
             "linecolor": "white",
             "minorgridcolor": "white",
             "startlinecolor": "#2a3f5f"
            },
            "baxis": {
             "endlinecolor": "#2a3f5f",
             "gridcolor": "white",
             "linecolor": "white",
             "minorgridcolor": "white",
             "startlinecolor": "#2a3f5f"
            },
            "type": "carpet"
           }
          ],
          "choropleth": [
           {
            "colorbar": {
             "outlinewidth": 0,
             "ticks": ""
            },
            "type": "choropleth"
           }
          ],
          "contour": [
           {
            "colorbar": {
             "outlinewidth": 0,
             "ticks": ""
            },
            "colorscale": [
             [
              0,
              "#0d0887"
             ],
             [
              0.1111111111111111,
              "#46039f"
             ],
             [
              0.2222222222222222,
              "#7201a8"
             ],
             [
              0.3333333333333333,
              "#9c179e"
             ],
             [
              0.4444444444444444,
              "#bd3786"
             ],
             [
              0.5555555555555556,
              "#d8576b"
             ],
             [
              0.6666666666666666,
              "#ed7953"
             ],
             [
              0.7777777777777778,
              "#fb9f3a"
             ],
             [
              0.8888888888888888,
              "#fdca26"
             ],
             [
              1,
              "#f0f921"
             ]
            ],
            "type": "contour"
           }
          ],
          "contourcarpet": [
           {
            "colorbar": {
             "outlinewidth": 0,
             "ticks": ""
            },
            "type": "contourcarpet"
           }
          ],
          "heatmap": [
           {
            "colorbar": {
             "outlinewidth": 0,
             "ticks": ""
            },
            "colorscale": [
             [
              0,
              "#0d0887"
             ],
             [
              0.1111111111111111,
              "#46039f"
             ],
             [
              0.2222222222222222,
              "#7201a8"
             ],
             [
              0.3333333333333333,
              "#9c179e"
             ],
             [
              0.4444444444444444,
              "#bd3786"
             ],
             [
              0.5555555555555556,
              "#d8576b"
             ],
             [
              0.6666666666666666,
              "#ed7953"
             ],
             [
              0.7777777777777778,
              "#fb9f3a"
             ],
             [
              0.8888888888888888,
              "#fdca26"
             ],
             [
              1,
              "#f0f921"
             ]
            ],
            "type": "heatmap"
           }
          ],
          "heatmapgl": [
           {
            "colorbar": {
             "outlinewidth": 0,
             "ticks": ""
            },
            "colorscale": [
             [
              0,
              "#0d0887"
             ],
             [
              0.1111111111111111,
              "#46039f"
             ],
             [
              0.2222222222222222,
              "#7201a8"
             ],
             [
              0.3333333333333333,
              "#9c179e"
             ],
             [
              0.4444444444444444,
              "#bd3786"
             ],
             [
              0.5555555555555556,
              "#d8576b"
             ],
             [
              0.6666666666666666,
              "#ed7953"
             ],
             [
              0.7777777777777778,
              "#fb9f3a"
             ],
             [
              0.8888888888888888,
              "#fdca26"
             ],
             [
              1,
              "#f0f921"
             ]
            ],
            "type": "heatmapgl"
           }
          ],
          "histogram": [
           {
            "marker": {
             "pattern": {
              "fillmode": "overlay",
              "size": 10,
              "solidity": 0.2
             }
            },
            "type": "histogram"
           }
          ],
          "histogram2d": [
           {
            "colorbar": {
             "outlinewidth": 0,
             "ticks": ""
            },
            "colorscale": [
             [
              0,
              "#0d0887"
             ],
             [
              0.1111111111111111,
              "#46039f"
             ],
             [
              0.2222222222222222,
              "#7201a8"
             ],
             [
              0.3333333333333333,
              "#9c179e"
             ],
             [
              0.4444444444444444,
              "#bd3786"
             ],
             [
              0.5555555555555556,
              "#d8576b"
             ],
             [
              0.6666666666666666,
              "#ed7953"
             ],
             [
              0.7777777777777778,
              "#fb9f3a"
             ],
             [
              0.8888888888888888,
              "#fdca26"
             ],
             [
              1,
              "#f0f921"
             ]
            ],
            "type": "histogram2d"
           }
          ],
          "histogram2dcontour": [
           {
            "colorbar": {
             "outlinewidth": 0,
             "ticks": ""
            },
            "colorscale": [
             [
              0,
              "#0d0887"
             ],
             [
              0.1111111111111111,
              "#46039f"
             ],
             [
              0.2222222222222222,
              "#7201a8"
             ],
             [
              0.3333333333333333,
              "#9c179e"
             ],
             [
              0.4444444444444444,
              "#bd3786"
             ],
             [
              0.5555555555555556,
              "#d8576b"
             ],
             [
              0.6666666666666666,
              "#ed7953"
             ],
             [
              0.7777777777777778,
              "#fb9f3a"
             ],
             [
              0.8888888888888888,
              "#fdca26"
             ],
             [
              1,
              "#f0f921"
             ]
            ],
            "type": "histogram2dcontour"
           }
          ],
          "mesh3d": [
           {
            "colorbar": {
             "outlinewidth": 0,
             "ticks": ""
            },
            "type": "mesh3d"
           }
          ],
          "parcoords": [
           {
            "line": {
             "colorbar": {
              "outlinewidth": 0,
              "ticks": ""
             }
            },
            "type": "parcoords"
           }
          ],
          "pie": [
           {
            "automargin": true,
            "type": "pie"
           }
          ],
          "scatter": [
           {
            "fillpattern": {
             "fillmode": "overlay",
             "size": 10,
             "solidity": 0.2
            },
            "type": "scatter"
           }
          ],
          "scatter3d": [
           {
            "line": {
             "colorbar": {
              "outlinewidth": 0,
              "ticks": ""
             }
            },
            "marker": {
             "colorbar": {
              "outlinewidth": 0,
              "ticks": ""
             }
            },
            "type": "scatter3d"
           }
          ],
          "scattercarpet": [
           {
            "marker": {
             "colorbar": {
              "outlinewidth": 0,
              "ticks": ""
             }
            },
            "type": "scattercarpet"
           }
          ],
          "scattergeo": [
           {
            "marker": {
             "colorbar": {
              "outlinewidth": 0,
              "ticks": ""
             }
            },
            "type": "scattergeo"
           }
          ],
          "scattergl": [
           {
            "marker": {
             "colorbar": {
              "outlinewidth": 0,
              "ticks": ""
             }
            },
            "type": "scattergl"
           }
          ],
          "scattermapbox": [
           {
            "marker": {
             "colorbar": {
              "outlinewidth": 0,
              "ticks": ""
             }
            },
            "type": "scattermapbox"
           }
          ],
          "scatterpolar": [
           {
            "marker": {
             "colorbar": {
              "outlinewidth": 0,
              "ticks": ""
             }
            },
            "type": "scatterpolar"
           }
          ],
          "scatterpolargl": [
           {
            "marker": {
             "colorbar": {
              "outlinewidth": 0,
              "ticks": ""
             }
            },
            "type": "scatterpolargl"
           }
          ],
          "scatterternary": [
           {
            "marker": {
             "colorbar": {
              "outlinewidth": 0,
              "ticks": ""
             }
            },
            "type": "scatterternary"
           }
          ],
          "surface": [
           {
            "colorbar": {
             "outlinewidth": 0,
             "ticks": ""
            },
            "colorscale": [
             [
              0,
              "#0d0887"
             ],
             [
              0.1111111111111111,
              "#46039f"
             ],
             [
              0.2222222222222222,
              "#7201a8"
             ],
             [
              0.3333333333333333,
              "#9c179e"
             ],
             [
              0.4444444444444444,
              "#bd3786"
             ],
             [
              0.5555555555555556,
              "#d8576b"
             ],
             [
              0.6666666666666666,
              "#ed7953"
             ],
             [
              0.7777777777777778,
              "#fb9f3a"
             ],
             [
              0.8888888888888888,
              "#fdca26"
             ],
             [
              1,
              "#f0f921"
             ]
            ],
            "type": "surface"
           }
          ],
          "table": [
           {
            "cells": {
             "fill": {
              "color": "#EBF0F8"
             },
             "line": {
              "color": "white"
             }
            },
            "header": {
             "fill": {
              "color": "#C8D4E3"
             },
             "line": {
              "color": "white"
             }
            },
            "type": "table"
           }
          ]
         },
         "layout": {
          "annotationdefaults": {
           "arrowcolor": "#2a3f5f",
           "arrowhead": 0,
           "arrowwidth": 1
          },
          "autotypenumbers": "strict",
          "coloraxis": {
           "colorbar": {
            "outlinewidth": 0,
            "ticks": ""
           }
          },
          "colorscale": {
           "diverging": [
            [
             0,
             "#8e0152"
            ],
            [
             0.1,
             "#c51b7d"
            ],
            [
             0.2,
             "#de77ae"
            ],
            [
             0.3,
             "#f1b6da"
            ],
            [
             0.4,
             "#fde0ef"
            ],
            [
             0.5,
             "#f7f7f7"
            ],
            [
             0.6,
             "#e6f5d0"
            ],
            [
             0.7,
             "#b8e186"
            ],
            [
             0.8,
             "#7fbc41"
            ],
            [
             0.9,
             "#4d9221"
            ],
            [
             1,
             "#276419"
            ]
           ],
           "sequential": [
            [
             0,
             "#0d0887"
            ],
            [
             0.1111111111111111,
             "#46039f"
            ],
            [
             0.2222222222222222,
             "#7201a8"
            ],
            [
             0.3333333333333333,
             "#9c179e"
            ],
            [
             0.4444444444444444,
             "#bd3786"
            ],
            [
             0.5555555555555556,
             "#d8576b"
            ],
            [
             0.6666666666666666,
             "#ed7953"
            ],
            [
             0.7777777777777778,
             "#fb9f3a"
            ],
            [
             0.8888888888888888,
             "#fdca26"
            ],
            [
             1,
             "#f0f921"
            ]
           ],
           "sequentialminus": [
            [
             0,
             "#0d0887"
            ],
            [
             0.1111111111111111,
             "#46039f"
            ],
            [
             0.2222222222222222,
             "#7201a8"
            ],
            [
             0.3333333333333333,
             "#9c179e"
            ],
            [
             0.4444444444444444,
             "#bd3786"
            ],
            [
             0.5555555555555556,
             "#d8576b"
            ],
            [
             0.6666666666666666,
             "#ed7953"
            ],
            [
             0.7777777777777778,
             "#fb9f3a"
            ],
            [
             0.8888888888888888,
             "#fdca26"
            ],
            [
             1,
             "#f0f921"
            ]
           ]
          },
          "colorway": [
           "#636efa",
           "#EF553B",
           "#00cc96",
           "#ab63fa",
           "#FFA15A",
           "#19d3f3",
           "#FF6692",
           "#B6E880",
           "#FF97FF",
           "#FECB52"
          ],
          "font": {
           "color": "#2a3f5f"
          },
          "geo": {
           "bgcolor": "white",
           "lakecolor": "white",
           "landcolor": "#E5ECF6",
           "showlakes": true,
           "showland": true,
           "subunitcolor": "white"
          },
          "hoverlabel": {
           "align": "left"
          },
          "hovermode": "closest",
          "mapbox": {
           "style": "light"
          },
          "paper_bgcolor": "white",
          "plot_bgcolor": "#E5ECF6",
          "polar": {
           "angularaxis": {
            "gridcolor": "white",
            "linecolor": "white",
            "ticks": ""
           },
           "bgcolor": "#E5ECF6",
           "radialaxis": {
            "gridcolor": "white",
            "linecolor": "white",
            "ticks": ""
           }
          },
          "scene": {
           "xaxis": {
            "backgroundcolor": "#E5ECF6",
            "gridcolor": "white",
            "gridwidth": 2,
            "linecolor": "white",
            "showbackground": true,
            "ticks": "",
            "zerolinecolor": "white"
           },
           "yaxis": {
            "backgroundcolor": "#E5ECF6",
            "gridcolor": "white",
            "gridwidth": 2,
            "linecolor": "white",
            "showbackground": true,
            "ticks": "",
            "zerolinecolor": "white"
           },
           "zaxis": {
            "backgroundcolor": "#E5ECF6",
            "gridcolor": "white",
            "gridwidth": 2,
            "linecolor": "white",
            "showbackground": true,
            "ticks": "",
            "zerolinecolor": "white"
           }
          },
          "shapedefaults": {
           "line": {
            "color": "#2a3f5f"
           }
          },
          "ternary": {
           "aaxis": {
            "gridcolor": "white",
            "linecolor": "white",
            "ticks": ""
           },
           "baxis": {
            "gridcolor": "white",
            "linecolor": "white",
            "ticks": ""
           },
           "bgcolor": "#E5ECF6",
           "caxis": {
            "gridcolor": "white",
            "linecolor": "white",
            "ticks": ""
           }
          },
          "title": {
           "x": 0.05
          },
          "xaxis": {
           "automargin": true,
           "gridcolor": "white",
           "linecolor": "white",
           "ticks": "",
           "title": {
            "standoff": 15
           },
           "zerolinecolor": "white",
           "zerolinewidth": 2
          },
          "yaxis": {
           "automargin": true,
           "gridcolor": "white",
           "linecolor": "white",
           "ticks": "",
           "title": {
            "standoff": 15
           },
           "zerolinecolor": "white",
           "zerolinewidth": 2
          }
         }
        },
        "title": {
         "text": "Histgram of stamp holders ratio"
        },
        "xaxis": {
         "anchor": "y",
         "domain": [
          0,
          1
         ],
         "title": {
          "text": "holders_ratio"
         }
        },
        "xaxis2": {
         "anchor": "y2",
         "domain": [
          0,
          1
         ],
         "matches": "x",
         "showgrid": true,
         "showticklabels": false
        },
        "yaxis": {
         "anchor": "x",
         "domain": [
          0,
          0.7326
         ],
         "title": {
          "text": "count"
         }
        },
        "yaxis2": {
         "anchor": "x2",
         "domain": [
          0.7426,
          1
         ],
         "matches": "y2",
         "showgrid": false,
         "showline": false,
         "showticklabels": false,
         "ticks": ""
        }
       }
      }
     },
     "metadata": {},
     "output_type": "display_data"
    }
   ],
   "source": [
    "contributors_hist = px.histogram(combined, x=\"holders_ratio\", color=\"round\",\n",
    "                   marginal=\"box\", # or violin, rug\n",
    "                   title='Histgram of stamp holders ratio'\n",
    "                   )\n",
    "contributors_hist.show()"
   ]
  },
  {
   "cell_type": "code",
   "execution_count": null,
   "metadata": {},
   "outputs": [],
   "source": []
  }
 ],
 "metadata": {
  "kernelspec": {
   "display_name": "Python 3",
   "language": "python",
   "name": "python3"
  },
  "language_info": {
   "codemirror_mode": {
    "name": "ipython",
    "version": 3
   },
   "file_extension": ".py",
   "mimetype": "text/x-python",
   "name": "python",
   "nbconvert_exporter": "python",
   "pygments_lexer": "ipython3",
   "version": "3.10.9"
  },
  "orig_nbformat": 4,
  "vscode": {
   "interpreter": {
    "hash": "b0fa6594d8f4cbf19f97940f81e996739fb7646882a419484c72d19e05852a7e"
   }
  }
 },
 "nbformat": 4,
 "nbformat_minor": 2
}
