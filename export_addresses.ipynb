{
 "cells": [
  {
   "cell_type": "code",
   "execution_count": 8,
   "metadata": {},
   "outputs": [],
   "source": [
    "import pandas as pd\n",
    "import numpy as np\n",
    "unicef = pd.read_csv('./public_data/unicef_grant_votes.csv') \n",
    "fantom = pd.read_csv('./public_data/fantom_grant_votes.csv') \n",
    "\n",
    "fantom_address = fantom['source_wallet'].unique()\n",
    "unicef_address = unicef['source_wallet'].unique()\n",
    "# unicef_address.shape\n",
    "addresses = np.concatenate([fantom_address,unicef_address])\n",
    "addresses.shape\n",
    "df = pd.DataFrame(addresses, columns=['address']) \n",
    "df['valid_stamps_count'] = None\n",
    "df['stamp_providers'] = None\n",
    "df['issuance_date'] = None\n",
    "df.to_csv('./passport/addresses.csv')"
   ]
  },
  {
   "cell_type": "code",
   "execution_count": null,
   "metadata": {},
   "outputs": [],
   "source": []
  }
 ],
 "metadata": {
  "kernelspec": {
   "display_name": "Python 3.7.9 64-bit",
   "language": "python",
   "name": "python3"
  },
  "language_info": {
   "codemirror_mode": {
    "name": "ipython",
    "version": 3
   },
   "file_extension": ".py",
   "mimetype": "text/x-python",
   "name": "python",
   "nbconvert_exporter": "python",
   "pygments_lexer": "ipython3",
   "version": "3.7.9"
  },
  "orig_nbformat": 4,
  "vscode": {
   "interpreter": {
    "hash": "aee8b7b246df8f9039afb4144a1f6fd8d2ca17a180786b69acc140d282b71a49"
   }
  }
 },
 "nbformat": 4,
 "nbformat_minor": 2
}
